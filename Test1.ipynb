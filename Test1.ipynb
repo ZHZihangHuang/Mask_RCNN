{
 "cells": [
  {
   "cell_type": "code",
   "execution_count": 2,
   "id": "396d75ff",
   "metadata": {},
   "outputs": [
    {
     "name": "stdout",
     "output_type": "stream",
     "text": [
      "[(1, 'Orange'), (2, 'Apple'), (3, 'Grapes'), (4, 'Banana')]\n"
     ]
    }
   ],
   "source": [
    "data = [(2, 'Apple'), (4, 'Banana'), (1, 'Orange'), (3, 'Grapes')]\n",
    "sorted_data = sorted(data, key=lambda x: x[0])\n",
    "print(sorted_data)"
   ]
  },
  {
   "cell_type": "code",
   "execution_count": 8,
   "id": "bfb11471",
   "metadata": {},
   "outputs": [],
   "source": [
    "a = 2\n",
    "if a == 1:\n",
    "  try:\n",
    "    tb = b\n",
    "  except:\n",
    "    print('b is not defined')\n",
    "  else:\n",
    "    print('a is not 1')"
   ]
  },
  {
   "cell_type": "code",
   "execution_count": 9,
   "id": "5ae09d61",
   "metadata": {},
   "outputs": [
    {
     "ename": "SyntaxError",
     "evalue": "(unicode error) 'unicodeescape' codec can't decode bytes in position 2-3: truncated \\UXXXXXXXX escape (1916245620.py, line 36)",
     "output_type": "error",
     "traceback": [
      "\u001b[1;36m  Cell \u001b[1;32mIn [9], line 36\u001b[1;36m\u001b[0m\n\u001b[1;33m    backup_path = 'C:\\Users\\zhhua\\AppData\\Roaming\\Bitcoin\\chainstate'  # Replace with the path to your IDB backup folder\u001b[0m\n\u001b[1;37m                                                                       ^\u001b[0m\n\u001b[1;31mSyntaxError\u001b[0m\u001b[1;31m:\u001b[0m (unicode error) 'unicodeescape' codec can't decode bytes in position 2-3: truncated \\UXXXXXXXX escape\n"
     ]
    }
   ],
   "source": [
    "import os\n",
    "import plistlib\n",
    "import pyimobiledevice\n",
    "import pyimobiledevice.backup\n",
    "\n",
    "def read_idb(backup_path):\n",
    "    # Create a backup object\n",
    "    backup = pyimobiledevice.backup.Backup(backup_path)\n",
    "\n",
    "    # Read the device info from the backup\n",
    "    device_info = backup.get_device_info()\n",
    "    print(\"Device Info:\")\n",
    "    print(device_info)\n",
    "\n",
    "    # Read the list of backed-up apps\n",
    "    apps_list = backup.get_applications_list()\n",
    "    print(\"\\nList of Backed-up Apps:\")\n",
    "    print(apps_list)\n",
    "\n",
    "    # Read the information of a specific app (change 'com.example.app' with the desired app bundle ID)\n",
    "    app_info = backup.get_app_info('com.example.app')\n",
    "    print(\"\\nApp Info:\")\n",
    "    print(app_info)\n",
    "\n",
    "    # Read the file tree of the backup\n",
    "    file_tree = backup.get_file_tree()\n",
    "    print(\"\\nFile Tree:\")\n",
    "    print(file_tree)\n",
    "\n",
    "    # Read the contents of a file from the backup (change 'example.txt' with the desired file path)\n",
    "    file_contents = backup.get_file_contents('example.txt')\n",
    "    print(\"\\nFile Contents:\")\n",
    "    print(file_contents)\n",
    "\n",
    "if __name__ == \"__main__\":\n",
    "    backup_path = 'C:\\Users\\zhhua\\AppData\\Roaming\\Bitcoin\\chainstate'  # Replace with the path to your IDB backup folder\n",
    "    read_idb(backup_path)"
   ]
  },
  {
   "cell_type": "code",
   "execution_count": null,
   "id": "a6582f5c",
   "metadata": {},
   "outputs": [],
   "source": []
  }
 ],
 "metadata": {
  "kernelspec": {
   "display_name": "Python 3 (ipykernel)",
   "language": "python",
   "name": "python3"
  },
  "language_info": {
   "codemirror_mode": {
    "name": "ipython",
    "version": 3
   },
   "file_extension": ".py",
   "mimetype": "text/x-python",
   "name": "python",
   "nbconvert_exporter": "python",
   "pygments_lexer": "ipython3",
   "version": "3.10.7"
  }
 },
 "nbformat": 4,
 "nbformat_minor": 5
}
