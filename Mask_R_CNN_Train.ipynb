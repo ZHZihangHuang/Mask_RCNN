{
 "cells": [
  {
   "cell_type": "code",
   "execution_count": 1,
   "id": "3a6651c6",
   "metadata": {},
   "outputs": [],
   "source": [
    "import os\n",
    "import sys\n",
    "import random\n",
    "import math\n",
    "import re\n",
    "import time\n",
    "import numpy as np\n",
    "import cv2\n",
    "import matplotlib\n",
    "import matplotlib.pyplot as plt\n",
    "\n",
    "# Root directory of the project\n",
    "ROOT_DIR = os.path.abspath(\"../../\")\n",
    "\n",
    "# Import Mask RCNN\n",
    "sys.path.append(ROOT_DIR)  # To find local version of the library\n",
    "from mrcnn.config import Config\n",
    "from mrcnn import utils\n",
    "import mrcnn.model as modellib\n",
    "from mrcnn import visualize\n",
    "from mrcnn.model import log\n",
    "\n",
    "%matplotlib inline \n",
    "\n",
    "# Directory to save logs and trained model\n",
    "MODEL_DIR = os.path.join(ROOT_DIR, \"logs\")\n",
    "\n",
    "# Local path to trained weights file\n",
    "COCO_MODEL_PATH = os.path.join(ROOT_DIR, \"mask_rcnn_coco.h5\")\n",
    "# Download COCO trained weights from Releases if needed\n",
    "if not os.path.exists(COCO_MODEL_PATH):\n",
    "    utils.download_trained_weights(COCO_MODEL_PATH)"
   ]
  },
  {
   "cell_type": "code",
   "execution_count": 2,
   "id": "a18670f9",
   "metadata": {},
   "outputs": [
    {
     "name": "stdout",
     "output_type": "stream",
     "text": [
      "\n",
      "Configurations:\n",
      "BACKBONE                       resnet101\n",
      "BACKBONE_STRIDES               [4, 8, 16, 32, 64]\n",
      "BATCH_SIZE                     8\n",
      "BBOX_STD_DEV                   [0.1 0.1 0.2 0.2]\n",
      "COMPUTE_BACKBONE_SHAPE         None\n",
      "DETECTION_MAX_INSTANCES        100\n",
      "DETECTION_MIN_CONFIDENCE       0.7\n",
      "DETECTION_NMS_THRESHOLD        0.3\n",
      "FPN_CLASSIF_FC_LAYERS_SIZE     1024\n",
      "GPU_COUNT                      1\n",
      "GRADIENT_CLIP_NORM             5.0\n",
      "IMAGES_PER_GPU                 8\n",
      "IMAGE_CHANNEL_COUNT            3\n",
      "IMAGE_MAX_DIM                  128\n",
      "IMAGE_META_SIZE                16\n",
      "IMAGE_MIN_DIM                  128\n",
      "IMAGE_MIN_SCALE                0\n",
      "IMAGE_RESIZE_MODE              square\n",
      "IMAGE_SHAPE                    [128 128   3]\n",
      "LEARNING_MOMENTUM              0.9\n",
      "LEARNING_RATE                  0.001\n",
      "LOSS_WEIGHTS                   {'rpn_class_loss': 1.0, 'rpn_bbox_loss': 1.0, 'mrcnn_class_loss': 1.0, 'mrcnn_bbox_loss': 1.0, 'mrcnn_mask_loss': 1.0}\n",
      "MASK_POOL_SIZE                 14\n",
      "MASK_SHAPE                     [28, 28]\n",
      "MAX_GT_INSTANCES               100\n",
      "MEAN_PIXEL                     [123.7 116.8 103.9]\n",
      "MINI_MASK_SHAPE                (56, 56)\n",
      "NAME                           shapes\n",
      "NUM_CLASSES                    4\n",
      "POOL_SIZE                      7\n",
      "POST_NMS_ROIS_INFERENCE        1000\n",
      "POST_NMS_ROIS_TRAINING         2000\n",
      "PRE_NMS_LIMIT                  6000\n",
      "ROI_POSITIVE_RATIO             0.33\n",
      "RPN_ANCHOR_RATIOS              [0.5, 1, 2]\n",
      "RPN_ANCHOR_SCALES              (8, 16, 32, 64, 128)\n",
      "RPN_ANCHOR_STRIDE              1\n",
      "RPN_BBOX_STD_DEV               [0.1 0.1 0.2 0.2]\n",
      "RPN_NMS_THRESHOLD              0.7\n",
      "RPN_TRAIN_ANCHORS_PER_IMAGE    256\n",
      "STEPS_PER_EPOCH                100\n",
      "TOP_DOWN_PYRAMID_SIZE          256\n",
      "TRAIN_BN                       False\n",
      "TRAIN_ROIS_PER_IMAGE           32\n",
      "USE_MINI_MASK                  True\n",
      "USE_RPN_ROIS                   True\n",
      "VALIDATION_STEPS               5\n",
      "WEIGHT_DECAY                   0.0001\n",
      "\n",
      "\n"
     ]
    }
   ],
   "source": [
    "class ShapesConfig(Config):\n",
    "    \"\"\"Configuration for training on the toy shapes dataset.\n",
    "    Derives from the base Config class and overrides values specific\n",
    "    to the toy shapes dataset.\n",
    "    \"\"\"\n",
    "    # Give the configuration a recognizable name\n",
    "    NAME = \"shapes\"\n",
    "\n",
    "    # Train on 1 GPU and 8 images per GPU. We can put multiple images on each\n",
    "    # GPU because the images are small. Batch size is 8 (GPUs * images/GPU).\n",
    "    GPU_COUNT = 1\n",
    "    IMAGES_PER_GPU = 8\n",
    "\n",
    "    # Number of classes (including background)\n",
    "    NUM_CLASSES = 1 + 3  # background + 3 shapes\n",
    "\n",
    "    # Use small images for faster training. Set the limits of the small side\n",
    "    # the large side, and that determines the image shape.\n",
    "    IMAGE_MIN_DIM = 128\n",
    "    IMAGE_MAX_DIM = 128\n",
    "\n",
    "    # Use smaller anchors because our image and objects are small\n",
    "    RPN_ANCHOR_SCALES = (8, 16, 32, 64, 128)  # anchor side in pixels\n",
    "\n",
    "    # Reduce training ROIs per image because the images are small and have\n",
    "    # few objects. Aim to allow ROI sampling to pick 33% positive ROIs.\n",
    "    TRAIN_ROIS_PER_IMAGE = 32\n",
    "\n",
    "    # Use a small epoch since the data is simple\n",
    "    STEPS_PER_EPOCH = 100\n",
    "\n",
    "    # use small validation steps since the epoch is small\n",
    "    VALIDATION_STEPS = 5\n",
    "    \n",
    "config = ShapesConfig()\n",
    "config.display()"
   ]
  },
  {
   "cell_type": "code",
   "execution_count": 3,
   "id": "1e0ad039",
   "metadata": {},
   "outputs": [],
   "source": [
    "def get_ax(rows=1, cols=1, size=8):\n",
    "    \"\"\"Return a Matplotlib Axes array to be used in\n",
    "    all visualizations in the notebook. Provide a\n",
    "    central point to control graph sizes.\n",
    "    \n",
    "    Change the default size attribute to control the size\n",
    "    of rendered images\n",
    "    \"\"\"\n",
    "    _, ax = plt.subplots(rows, cols, figsize=(size*cols, size*rows))\n",
    "    return ax"
   ]
  },
  {
   "cell_type": "code",
   "execution_count": 4,
   "id": "8e99af5f",
   "metadata": {},
   "outputs": [],
   "source": [
    "class ShapesDataset(utils.Dataset):\n",
    "    \"\"\"Generates the shapes synthetic dataset. The dataset consists of simple\n",
    "    shapes (triangles, squares, circles) placed randomly on a blank surface.\n",
    "    The images are generated on the fly. No file access required.\n",
    "    \"\"\"\n",
    "\n",
    "    def load_shapes(self, count, height, width):\n",
    "        \"\"\"Generate the requested number of synthetic images.\n",
    "        count: number of images to generate.\n",
    "        height, width: the size of the generated images.\n",
    "        \"\"\"\n",
    "        # Add classes\n",
    "        self.add_class(\"shapes\", 1, \"square\")\n",
    "        self.add_class(\"shapes\", 2, \"circle\")\n",
    "        self.add_class(\"shapes\", 3, \"triangle\")\n",
    "\n",
    "        # Add images\n",
    "        # Generate random specifications of images (i.e. color and\n",
    "        # list of shapes sizes and locations). This is more compact than\n",
    "        # actual images. Images are generated on the fly in load_image().\n",
    "        for i in range(count):\n",
    "            bg_color, shapes = self.random_image(height, width)\n",
    "            self.add_image(\"shapes\", image_id=i, path=None,\n",
    "                           width=width, height=height,\n",
    "                           bg_color=bg_color, shapes=shapes)\n",
    "\n",
    "    def load_image(self, image_id):\n",
    "        \"\"\"Generate an image from the specs of the given image ID.\n",
    "        Typically this function loads the image from a file, but\n",
    "        in this case it generates the image on the fly from the\n",
    "        specs in image_info.\n",
    "        \"\"\"\n",
    "        info = self.image_info[image_id]\n",
    "        bg_color = np.array(info['bg_color']).reshape([1, 1, 3])\n",
    "        image = np.ones([info['height'], info['width'], 3], dtype=np.uint8)\n",
    "        image = image * bg_color.astype(np.uint8)\n",
    "        for shape, color, dims in info['shapes']:\n",
    "            image = self.draw_shape(image, shape, dims, color)\n",
    "        return image\n",
    "\n",
    "    def image_reference(self, image_id):\n",
    "        \"\"\"Return the shapes data of the image.\"\"\"\n",
    "        info = self.image_info[image_id]\n",
    "        if info[\"source\"] == \"shapes\":\n",
    "            return info[\"shapes\"]\n",
    "        else:\n",
    "            super(self.__class__).image_reference(self, image_id)\n",
    "\n",
    "    def load_mask(self, image_id):\n",
    "        \"\"\"Generate instance masks for shapes of the given image ID.\n",
    "        \"\"\"\n",
    "        info = self.image_info[image_id]\n",
    "        shapes = info['shapes']\n",
    "        count = len(shapes)\n",
    "        mask = np.zeros([info['height'], info['width'], count], dtype=np.uint8)\n",
    "        for i, (shape, _, dims) in enumerate(info['shapes']):\n",
    "            mask[:, :, i:i+1] = self.draw_shape(mask[:, :, i:i+1].copy(),\n",
    "                                                shape, dims, 1)\n",
    "        # Handle occlusions\n",
    "        occlusion = np.logical_not(mask[:, :, -1]).astype(np.uint8)\n",
    "        for i in range(count-2, -1, -1):\n",
    "            mask[:, :, i] = mask[:, :, i] * occlusion\n",
    "            occlusion = np.logical_and(occlusion, np.logical_not(mask[:, :, i]))\n",
    "        # Map class names to class IDs.\n",
    "        class_ids = np.array([self.class_names.index(s[0]) for s in shapes])\n",
    "        return mask.astype(np.bool), class_ids.astype(np.int32)\n",
    "\n",
    "    def draw_shape(self, image, shape, dims, color):\n",
    "        \"\"\"Draws a shape from the given specs.\"\"\"\n",
    "        # Get the center x, y and the size s\n",
    "        x, y, s = dims\n",
    "        if shape == 'square':\n",
    "            cv2.rectangle(image, (x-s, y-s), (x+s, y+s), color, -1)\n",
    "        elif shape == \"circle\":\n",
    "            cv2.circle(image, (x, y), s, color, -1)\n",
    "        elif shape == \"triangle\":\n",
    "            points = np.array([[(x, y-s),\n",
    "                                (x-s/math.sin(math.radians(60)), y+s),\n",
    "                                (x+s/math.sin(math.radians(60)), y+s),\n",
    "                                ]], dtype=np.int32)\n",
    "            cv2.fillPoly(image, points, color)\n",
    "        return image\n",
    "\n",
    "    def random_shape(self, height, width):\n",
    "        \"\"\"Generates specifications of a random shape that lies within\n",
    "        the given height and width boundaries.\n",
    "        Returns a tuple of three valus:\n",
    "        * The shape name (square, circle, ...)\n",
    "        * Shape color: a tuple of 3 values, RGB.\n",
    "        * Shape dimensions: A tuple of values that define the shape size\n",
    "                            and location. Differs per shape type.\n",
    "        \"\"\"\n",
    "        # Shape\n",
    "        shape = random.choice([\"square\", \"circle\", \"triangle\"])\n",
    "        # Color\n",
    "        color = tuple([random.randint(0, 255) for _ in range(3)])\n",
    "        # Center x, y\n",
    "        buffer = 20\n",
    "        y = random.randint(buffer, height - buffer - 1)\n",
    "        x = random.randint(buffer, width - buffer - 1)\n",
    "        # Size\n",
    "        s = random.randint(buffer, height//4)\n",
    "        return shape, color, (x, y, s)\n",
    "\n",
    "    def random_image(self, height, width):\n",
    "        \"\"\"Creates random specifications of an image with multiple shapes.\n",
    "        Returns the background color of the image and a list of shape\n",
    "        specifications that can be used to draw the image.\n",
    "        \"\"\"\n",
    "        # Pick random background color\n",
    "        bg_color = np.array([random.randint(0, 255) for _ in range(3)])\n",
    "        # Generate a few random shapes and record their\n",
    "        # bounding boxes\n",
    "        shapes = []\n",
    "        boxes = []\n",
    "        N = random.randint(1, 4)\n",
    "        for _ in range(N):\n",
    "            shape, color, dims = self.random_shape(height, width)\n",
    "            shapes.append((shape, color, dims))\n",
    "            x, y, s = dims\n",
    "            boxes.append([y-s, x-s, y+s, x+s])\n",
    "        # Apply non-max suppression wit 0.3 threshold to avoid\n",
    "        # shapes covering each other\n",
    "        keep_ixs = utils.non_max_suppression(np.array(boxes), np.arange(N), 0.3)\n",
    "        shapes = [s for i, s in enumerate(shapes) if i in keep_ixs]\n",
    "        return bg_color, shapes"
   ]
  },
  {
   "cell_type": "code",
   "execution_count": 5,
   "id": "3d4804f9",
   "metadata": {},
   "outputs": [],
   "source": [
    "# Training dataset\n",
    "dataset_train = ShapesDataset()\n",
    "dataset_train.load_shapes(500, config.IMAGE_SHAPE[0], config.IMAGE_SHAPE[1])\n",
    "dataset_train.prepare()\n",
    "\n",
    "# Validation dataset\n",
    "dataset_val = ShapesDataset()\n",
    "dataset_val.load_shapes(50, config.IMAGE_SHAPE[0], config.IMAGE_SHAPE[1])\n",
    "dataset_val.prepare()"
   ]
  },
  {
   "cell_type": "code",
   "execution_count": 6,
   "id": "20711f78",
   "metadata": {},
   "outputs": [
    {
     "name": "stderr",
     "output_type": "stream",
     "text": [
      "C:\\Users\\zhhua\\AppData\\Local\\Temp\\ipykernel_25384\\498919690.py:66: DeprecationWarning: `np.bool` is a deprecated alias for the builtin `bool`. To silence this warning, use `bool` by itself. Doing this will not modify any behavior and is safe. If you specifically wanted the numpy scalar type, use `np.bool_` here.\n",
      "Deprecated in NumPy 1.20; for more details and guidance: https://numpy.org/devdocs/release/1.20.0-notes.html#deprecations\n",
      "  return mask.astype(np.bool), class_ids.astype(np.int32)\n"
     ]
    },
    {
     "data": {
      "image/png": "[encoded data removed]",
      "text/plain": [
       "<Figure size 1400x500 with 5 Axes>"
      ]
     },
     "metadata": {},
     "output_type": "display_data"
    },
    {
     "data": {
      "image/png": "[encoded data removed]",
      "text/plain": [
       "<Figure size 1400x500 with 5 Axes>"
      ]
     },
     "metadata": {},
     "output_type": "display_data"
    },
    {
     "data": {
      "image/png": "[encoded data removed]",
      "text/plain": [
       "<Figure size 1400x500 with 5 Axes>"
      ]
     },
     "metadata": {},
     "output_type": "display_data"
    },
    {
     "data": {
      "image/png": "[encoded data removed]",
      "text/plain": [
       "<Figure size 1400x500 with 5 Axes>"
      ]
     },
     "metadata": {},
     "output_type": "display_data"
    }
   ],
   "source": [
    "# Load and display random samples\n",
    "image_ids = np.random.choice(dataset_train.image_ids, 4)\n",
    "for image_id in image_ids:\n",
    "    image = dataset_train.load_image(image_id)\n",
    "    mask, class_ids = dataset_train.load_mask(image_id)\n",
    "    visualize.display_top_masks(image, mask, class_ids, dataset_train.class_names)"
   ]
  },
  {
   "cell_type": "code",
   "execution_count": 7,
   "id": "4a80cc0c",
   "metadata": {},
   "outputs": [
    {
     "name": "stdout",
     "output_type": "stream",
     "text": [
      "K: <module 'keras.backend' from 'C:\\\\Users\\\\zhhua\\\\AppData\\\\Local\\\\Programs\\\\Python\\\\Python310\\\\lib\\\\site-packages\\\\keras\\\\backend.py'>\n",
      "config.IMAGES_PER_GPU: 8\n",
      "config.BACKBONE: resnet101\n",
      "config.BACKBONE_STRIDES: [4, 8, 16, 32, 64]\n",
      "config.BATCH_SIZE: 8\n",
      "config.BBOX_STD_DEV: [0.1 0.1 0.2 0.2]\n",
      "config.COMPUTE_BACKBONE_SHAPE: None\n",
      "config.DETECTION_MAX_INSTANCES: 100\n",
      "config.DETECTION_MIN_CONFIDENCE: 0.7\n",
      "config.DETECTION_NMS_THRESHOLD: 0.3\n",
      "config.FPN_CLASSIF_FC_LAYERS_SIZE: 1024\n",
      "config.GPU_COUNT: 1\n",
      "config.GRADIENT_CLIP_NORM: 5.0\n",
      "config.IMAGES_PER_GPU: 8\n",
      "config.IMAGE_CHANNEL_COUNT: 3\n",
      "config.IMAGE_MAX_DIM: 128\n",
      "config.IMAGE_META_SIZE: 16\n",
      "config.IMAGE_MIN_DIM: 128\n",
      "config.IMAGE_MIN_SCALE: 0\n",
      "config.IMAGE_RESIZE_MODE: square\n",
      "config.IMAGE_SHAPE: [128 128   3]\n",
      "config.LEARNING_MOMENTUM: 0.9\n",
      "config.LEARNING_RATE: 0.001\n",
      "config.LOSS_WEIGHTS: {'rpn_class_loss': 1.0, 'rpn_bbox_loss': 1.0, 'mrcnn_class_loss': 1.0, 'mrcnn_bbox_loss': 1.0, 'mrcnn_mask_loss': 1.0}\n",
      "config.MASK_POOL_SIZE: 14\n",
      "config.MASK_SHAPE: [28, 28]\n",
      "config.MAX_GT_INSTANCES: 100\n",
      "config.MEAN_PIXEL: [123.7 116.8 103.9]\n",
      "config.MINI_MASK_SHAPE: (56, 56)\n",
      "config.NAME: shapes\n",
      "config.NUM_CLASSES: 4\n",
      "config.POOL_SIZE: 7\n",
      "config.POST_NMS_ROIS_INFERENCE: 1000\n",
      "config.POST_NMS_ROIS_TRAINING: 2000\n",
      "config.PRE_NMS_LIMIT: 6000\n",
      "config.ROI_POSITIVE_RATIO: 0.33\n",
      "config.RPN_ANCHOR_RATIOS: [0.5, 1, 2]\n",
      "config.RPN_ANCHOR_SCALES: (8, 16, 32, 64, 128)\n",
      "config.RPN_ANCHOR_STRIDE: 1\n",
      "config.RPN_BBOX_STD_DEV: [0.1 0.1 0.2 0.2]\n",
      "config.RPN_NMS_THRESHOLD: 0.7\n",
      "config.RPN_TRAIN_ANCHORS_PER_IMAGE: 256\n",
      "config.STEPS_PER_EPOCH: 100\n",
      "config.TOP_DOWN_PYRAMID_SIZE: 256\n",
      "config.TRAIN_BN: False\n",
      "config.TRAIN_ROIS_PER_IMAGE: 32\n",
      "config.USE_MINI_MASK: True\n",
      "config.USE_RPN_ROIS: True\n",
      "config.VALIDATION_STEPS: 5\n",
      "config.WEIGHT_DECAY: 0.0001\n",
      "type(boxes): <class 'tensorflow.python.framework.ops.Tensor'>\n",
      "type(shape): <class 'keras.engine.keras_tensor.KerasTensor'>\n",
      "x: Tensor(\"roi_align_classifier/truediv_1:0\", shape=(8, None, 1), dtype=float32)\n",
      "s: (8, None, 16)\n",
      "x: Tensor(\"roi_align_mask/truediv_1:0\", shape=(8, None, 1), dtype=float32)\n"
     ]
    }
   ],
   "source": [
    "# Create model in training mode\n",
    "model = modellib.MaskRCNN(mode=\"training\", config=config,\n",
    "                          model_dir=MODEL_DIR)"
   ]
  },
  {
   "cell_type": "code",
   "execution_count": 8,
   "id": "6352bb06",
   "metadata": {},
   "outputs": [],
   "source": [
    "# Which weights to start with?\n",
    "init_with = \"coco\"  # imagenet, coco, or last\n",
    "\n",
    "if init_with == \"imagenet\":\n",
    "    model.load_weights(model.get_imagenet_weights(), by_name=True)\n",
    "elif init_with == \"coco\":\n",
    "    # Load weights trained on MS COCO, but skip layers that\n",
    "    # are different due to the different number of classes\n",
    "    # See README for instructions to download the COCO weights\n",
    "    model.load_weights(COCO_MODEL_PATH, by_name=True,\n",
    "                       exclude=[\"mrcnn_class_logits\", \"mrcnn_bbox_fc\", \n",
    "                                \"mrcnn_bbox\", \"mrcnn_mask\"])\n",
    "elif init_with == \"last\":\n",
    "    # Load the last model you trained and continue training\n",
    "    model.load_weights(model.find_last(), by_name=True)"
   ]
  },
  {
   "cell_type": "code",
   "execution_count": 9,
   "id": "ad71b3a5",
   "metadata": {},
   "outputs": [
    {
     "name": "stdout",
     "output_type": "stream",
     "text": [
      "\n",
      "Starting at epoch 0. LR=0.001\n",
      "\n",
      "Checkpoint Path: C:\\Users\\zhhua\\OneDrive\\Desktop\\PythonProgram\\CAT\\logs\\shapes20230607T1919\\mask_rcnn_shapes_{epoch:04d}.h5\n",
      "Selecting layers to train\n",
      "fpn_c5p5               (Conv2D)\n",
      "fpn_c4p4               (Conv2D)\n",
      "fpn_c3p3               (Conv2D)\n",
      "fpn_c2p2               (Conv2D)\n",
      "fpn_p5                 (Conv2D)\n",
      "fpn_p2                 (Conv2D)\n",
      "fpn_p3                 (Conv2D)\n",
      "fpn_p4                 (Conv2D)\n",
      "rpn_model              (Functional)\n",
      "mrcnn_mask_conv1       (TimeDistributed)\n",
      "mrcnn_mask_bn1         (TimeDistributed)\n",
      "mrcnn_mask_conv2       (TimeDistributed)\n",
      "mrcnn_mask_bn2         (TimeDistributed)\n",
      "mrcnn_class_conv1      (TimeDistributed)\n",
      "mrcnn_class_bn1        (TimeDistributed)\n",
      "mrcnn_mask_conv3       (TimeDistributed)\n",
      "mrcnn_mask_bn3         (TimeDistributed)\n",
      "mrcnn_class_conv2      (TimeDistributed)\n",
      "mrcnn_class_bn2        (TimeDistributed)\n",
      "mrcnn_mask_conv4       (TimeDistributed)\n",
      "mrcnn_mask_bn4         (TimeDistributed)\n",
      "mrcnn_bbox_fc          (TimeDistributed)\n",
      "mrcnn_mask_deconv      (TimeDistributed)\n",
      "mrcnn_class_logits     (TimeDistributed)\n",
      "mrcnn_mask             (TimeDistributed)\n",
      "loss: KerasTensor(type_spec=TensorSpec(shape=(), dtype=tf.float32, name=None), name='tf.math.multiply/Mul:0', description=\"created by layer 'tf.math.multiply'\")\n",
      "self.keras_model: <keras.engine.functional.Functional object at 0x00000213B43305E0>\n",
      "symbolic_loss: KerasTensor(type_spec=TensorSpec(shape=(), dtype=tf.float32, name=None), name='tf.math.multiply/Mul:0', description=\"created by layer 'tf.math.multiply'\")\n",
      "remove_layer_idx: [407, 408]\n",
      "self._self_tracked_trackables: [<keras.engine.input_layer.InputLayer object at 0x00000213A16D5660>, <keras.layers.reshaping.zero_padding2d.ZeroPadding2D object at 0x00000213A16D54B0>, <keras.layers.convolutional.conv2d.Conv2D object at 0x00000213A14A4B20>, <mrcnn.model.BatchNorm object at 0x00000213A14A4940>, <keras.layers.core.activation.Activation object at 0x00000213A14A6080>, <keras.layers.pooling.max_pooling2d.MaxPooling2D object at 0x00000213A14668C0>, <keras.layers.convolutional.conv2d.Conv2D object at 0x00000213A1464730>, <mrcnn.model.BatchNorm object at 0x00000213A1466EF0>, <keras.layers.core.activation.Activation object at 0x00000213A14A6AD0>, <keras.layers.convolutional.conv2d.Conv2D object at 0x00000213A14A4AF0>, <mrcnn.model.BatchNorm object at 0x00000213A1464490>, <keras.layers.core.activation.Activation object at 0x00000213A1465990>, <keras.layers.convolutional.conv2d.Conv2D object at 0x00000213A1466B00>, <keras.layers.convolutional.conv2d.Conv2D object at 0x00000213A1548610>, <mrcnn.model.BatchNorm object at 0x00000213A1464C10>, <mrcnn.model.BatchNorm object at 0x00000213A154A290>, <keras.layers.merging.add.Add object at 0x00000213A154A440>, <keras.layers.core.activation.Activation object at 0x00000213A1533FD0>, <keras.layers.convolutional.conv2d.Conv2D object at 0x00000213A15326B0>, <mrcnn.model.BatchNorm object at 0x00000213A1533F40>, <keras.layers.core.activation.Activation object at 0x00000213A1530D30>, <keras.layers.convolutional.conv2d.Conv2D object at 0x00000213A1533D90>, <mrcnn.model.BatchNorm object at 0x00000213A1503D30>, <keras.layers.core.activation.Activation object at 0x00000213A15022C0>, <keras.layers.convolutional.conv2d.Conv2D object at 0x00000213A1503A90>, <mrcnn.model.BatchNorm object at 0x00000213A1502C80>, <keras.layers.merging.add.Add object at 0x00000213A15645E0>, <keras.layers.core.activation.Activation object at 0x00000213A125C4F0>, <keras.layers.convolutional.conv2d.Conv2D object at 0x00000213A125D540>, <mrcnn.model.BatchNorm object at 0x00000213A125C400>, <keras.layers.core.activation.Activation object at 0x00000213A125FD00>, <keras.layers.convolutional.conv2d.Conv2D object at 0x00000213A125E1D0>, <mrcnn.model.BatchNorm object at 0x00000213A125FBB0>, <keras.layers.core.activation.Activation object at 0x00000213A125E740>, <keras.layers.convolutional.conv2d.Conv2D object at 0x00000213A12C6F50>, <mrcnn.model.BatchNorm object at 0x00000213A12C5540>, <keras.layers.merging.add.Add object at 0x00000213A12C60E0>, <keras.layers.core.activation.Activation object at 0x00000213A12C5000>, <keras.layers.convolutional.conv2d.Conv2D object at 0x00000213A12C5030>, <mrcnn.model.BatchNorm object at 0x00000213A12C4E50>, <keras.layers.core.activation.Activation object at 0x00000213A12C5390>, <keras.layers.convolutional.conv2d.Conv2D object at 0x00000213A14CC0D0>, <mrcnn.model.BatchNorm object at 0x00000213A14CE770>, <keras.layers.core.activation.Activation object at 0x00000213A14CFE20>, <keras.layers.convolutional.conv2d.Conv2D object at 0x00000213A14CC4F0>, <keras.layers.convolutional.conv2d.Conv2D object at 0x00000213A11FFC10>, <mrcnn.model.BatchNorm object at 0x00000213A11FF7F0>, <mrcnn.model.BatchNorm object at 0x00000213A11FC1F0>, <keras.layers.merging.add.Add object at 0x00000213A12C4F10>, <keras.layers.core.activation.Activation object at 0x00000213E5742350>, <keras.layers.convolutional.conv2d.Conv2D object at 0x00000213A125EB60>, <mrcnn.model.BatchNorm object at 0x00000213A14CF7F0>, <keras.layers.core.activation.Activation object at 0x00000213A15019C0>, <keras.layers.convolutional.conv2d.Conv2D object at 0x00000213A125F5B0>, <mrcnn.model.BatchNorm object at 0x00000213A154AD70>, <keras.layers.core.activation.Activation object at 0x00000213A154ADA0>, <keras.layers.convolutional.conv2d.Conv2D object at 0x00000213A3C690C0>, <mrcnn.model.BatchNorm object at 0x00000213A15316C0>, <keras.layers.merging.add.Add object at 0x00000213A3C69F30>, <keras.layers.core.activation.Activation object at 0x00000213A3C69C30>, <keras.layers.convolutional.conv2d.Conv2D object at 0x00000213A3CB4A90>, <mrcnn.model.BatchNorm object at 0x00000213A3C68460>, <keras.layers.core.activation.Activation object at 0x00000213A3C68EE0>, <keras.layers.convolutional.conv2d.Conv2D object at 0x00000213A3CB41C0>, <mrcnn.model.BatchNorm object at 0x00000213A3CB7190>, <keras.layers.core.activation.Activation object at 0x00000213A3CB7FA0>, <keras.layers.convolutional.conv2d.Conv2D object at 0x00000213A3CBC460>, <mrcnn.model.BatchNorm object at 0x00000213A3CB5420>, <keras.layers.merging.add.Add object at 0x00000213A3CBE0E0>, <keras.layers.core.activation.Activation object at 0x00000213A3CBC100>, <keras.layers.convolutional.conv2d.Conv2D object at 0x00000213A3CBEF50>, <mrcnn.model.BatchNorm object at 0x00000213A3CBC0D0>, <keras.layers.core.activation.Activation object at 0x00000213A3CBF8E0>, <keras.layers.convolutional.conv2d.Conv2D object at 0x00000213A3CBE890>, <mrcnn.model.BatchNorm object at 0x00000213A3CBFFA0>, <keras.layers.core.activation.Activation object at 0x00000213A3CCE170>, <keras.layers.convolutional.conv2d.Conv2D object at 0x00000213A3CCEA40>, <mrcnn.model.BatchNorm object at 0x00000213A3CCDDE0>, <keras.layers.merging.add.Add object at 0x00000213A3CCE410>, <keras.layers.core.activation.Activation object at 0x00000213A3CCE7A0>, <keras.layers.convolutional.conv2d.Conv2D object at 0x00000213A3CD87F0>, <mrcnn.model.BatchNorm object at 0x00000213A3CD96F0>, <keras.layers.core.activation.Activation object at 0x00000213A3CD84F0>, <keras.layers.convolutional.conv2d.Conv2D object at 0x00000213A3CDA800>, <mrcnn.model.BatchNorm object at 0x00000213A3CDBC10>, <keras.layers.core.activation.Activation object at 0x00000213A3CB6860>, <keras.layers.convolutional.conv2d.Conv2D object at 0x00000213A3CB4820>, <keras.layers.convolutional.conv2d.Conv2D object at 0x00000213A12C68F0>, <mrcnn.model.BatchNorm object at 0x00000213A154AAD0>, <mrcnn.model.BatchNorm object at 0x00000213A125E470>, <keras.layers.merging.add.Add object at 0x00000213A3CBDC30>, <keras.layers.core.activation.Activation object at 0x00000213A3CE9000>, <keras.layers.convolutional.conv2d.Conv2D object at 0x00000213A3CEA080>, <mrcnn.model.BatchNorm object at 0x00000213A3CE9420>, <keras.layers.core.activation.Activation object at 0x00000213A3CEB3D0>, <keras.layers.convolutional.conv2d.Conv2D object at 0x00000213A3CEBCD0>, <mrcnn.model.BatchNorm object at 0x00000213A3CE9870>, <keras.layers.core.activation.Activation object at 0x00000213A3CED2D0>, <keras.layers.convolutional.conv2d.Conv2D object at 0x00000213A3CEE200>, <mrcnn.model.BatchNorm object at 0x00000213A3CECE80>, <keras.layers.merging.add.Add object at 0x00000213A3CEF550>, <keras.layers.core.activation.Activation object at 0x00000213A3CEEFE0>, <keras.layers.convolutional.conv2d.Conv2D object at 0x00000213A3D006D0>, <mrcnn.model.BatchNorm object at 0x00000213A3D00040>, <keras.layers.core.activation.Activation object at 0x00000213A3CEC790>, <keras.layers.convolutional.conv2d.Conv2D object at 0x00000213A3D02BF0>, <mrcnn.model.BatchNorm object at 0x00000213A3D03010>, <keras.layers.core.activation.Activation object at 0x00000213A3D03EE0>, <keras.layers.convolutional.conv2d.Conv2D object at 0x00000213A3D02D70>, <mrcnn.model.BatchNorm object at 0x00000213A3D03D30>, <keras.layers.merging.add.Add object at 0x00000213A3D0E1A0>, <keras.layers.core.activation.Activation object at 0x00000213A3D0F0A0>, <keras.layers.convolutional.conv2d.Conv2D object at 0x00000213A3D0CE80>, <mrcnn.model.BatchNorm object at 0x00000213A3D0F100>, <keras.layers.core.activation.Activation object at 0x000002139CE5BF40>, <keras.layers.convolutional.conv2d.Conv2D object at 0x00000213A3D0CD30>, <mrcnn.model.BatchNorm object at 0x000002139CE3A080>, <keras.layers.core.activation.Activation object at 0x00000213E5740100>, <keras.layers.convolutional.conv2d.Conv2D object at 0x00000213A3D1E1A0>, <mrcnn.model.BatchNorm object at 0x00000213A3D1DF60>, <keras.layers.merging.add.Add object at 0x00000213A3D1C610>, <keras.layers.core.activation.Activation object at 0x000002139A9E8190>, <keras.layers.convolutional.conv2d.Conv2D object at 0x00000213A3D1E410>, <mrcnn.model.BatchNorm object at 0x00000213A3D0D930>, <keras.layers.core.activation.Activation object at 0x00000213A3D0D7E0>, <keras.layers.convolutional.conv2d.Conv2D object at 0x00000213A3D0DA50>, <mrcnn.model.BatchNorm object at 0x00000213A3D0F460>, <keras.layers.core.activation.Activation object at 0x00000213A3D0F700>, <keras.layers.convolutional.conv2d.Conv2D object at 0x00000213A3D1D420>, <mrcnn.model.BatchNorm object at 0x00000213A3CB4070>, <keras.layers.merging.add.Add object at 0x00000213A3CB79D0>, <keras.layers.core.activation.Activation object at 0x00000213A3D1F190>, <keras.layers.convolutional.conv2d.Conv2D object at 0x00000213A3CDB190>, <mrcnn.model.BatchNorm object at 0x00000213A3CEAF20>, <keras.layers.core.activation.Activation object at 0x00000213A125DCF0>, <keras.layers.convolutional.conv2d.Conv2D object at 0x00000213A3D038B0>, <mrcnn.model.BatchNorm object at 0x00000213A3D28460>, <keras.layers.core.activation.Activation object at 0x00000213A3D2B340>, <keras.layers.convolutional.conv2d.Conv2D object at 0x00000213A3D2A230>, <mrcnn.model.BatchNorm object at 0x00000213A3D29E70>, <keras.layers.merging.add.Add object at 0x00000213A3D287C0>, <keras.layers.core.activation.Activation object at 0x00000213A3D1CEE0>, <keras.layers.convolutional.conv2d.Conv2D object at 0x00000213A3D3CBB0>, <mrcnn.model.BatchNorm object at 0x00000213A3D2B6D0>, <keras.layers.core.activation.Activation object at 0x00000213A3D29CC0>, <keras.layers.convolutional.conv2d.Conv2D object at 0x00000213A3D3CF40>, <mrcnn.model.BatchNorm object at 0x00000213A3D3C400>, <keras.layers.core.activation.Activation object at 0x00000213A3D3FE80>, <keras.layers.convolutional.conv2d.Conv2D object at 0x00000213A3D3ED70>, <mrcnn.model.BatchNorm object at 0x00000213A3D3E9B0>, <keras.layers.merging.add.Add object at 0x00000213A3D3C430>, <keras.layers.core.activation.Activation object at 0x00000213A3D3CD60>, <keras.layers.convolutional.conv2d.Conv2D object at 0x00000213A3989B70>, <mrcnn.model.BatchNorm object at 0x00000213A3988250>, <keras.layers.core.activation.Activation object at 0x00000213A3D3F1C0>, <keras.layers.convolutional.conv2d.Conv2D object at 0x00000213A3988B50>, <mrcnn.model.BatchNorm object at 0x00000213A3988A60>, <keras.layers.core.activation.Activation object at 0x00000213A398BAF0>, <keras.layers.convolutional.conv2d.Conv2D object at 0x00000213A398AEC0>, <mrcnn.model.BatchNorm object at 0x00000213A398B4F0>, <keras.layers.merging.add.Add object at 0x00000213A39894B0>, <keras.layers.core.activation.Activation object at 0x00000213A3989A80>, <keras.layers.convolutional.conv2d.Conv2D object at 0x00000213A39896F0>, <mrcnn.model.BatchNorm object at 0x00000213A3D29750>, <keras.layers.core.activation.Activation object at 0x00000213A3D2B160>, <keras.layers.convolutional.conv2d.Conv2D object at 0x00000213A3D2A320>, <mrcnn.model.BatchNorm object at 0x00000213A125FAC0>, <keras.layers.core.activation.Activation object at 0x00000213A3CE90C0>, <keras.layers.convolutional.conv2d.Conv2D object at 0x00000213A3D3EE30>, <mrcnn.model.BatchNorm object at 0x00000213A3CBF4F0>, <keras.layers.merging.add.Add object at 0x00000213A3988FA0>, <keras.layers.core.activation.Activation object at 0x00000213A3988910>, <keras.layers.convolutional.conv2d.Conv2D object at 0x00000213A399B310>, <mrcnn.model.BatchNorm object at 0x00000213A399A5F0>, <keras.layers.core.activation.Activation object at 0x00000213A399B1C0>, <keras.layers.convolutional.conv2d.Conv2D object at 0x00000213A399BA30>, <mrcnn.model.BatchNorm object at 0x00000213A3998550>, <keras.layers.core.activation.Activation object at 0x00000213A399B340>, <keras.layers.convolutional.conv2d.Conv2D object at 0x00000213A39ADCF0>, <mrcnn.model.BatchNorm object at 0x00000213A3998130>, <keras.layers.merging.add.Add object at 0x00000213A39AFA00>, <keras.layers.core.activation.Activation object at 0x00000213A39989A0>, <keras.layers.convolutional.conv2d.Conv2D object at 0x00000213A39AF580>, <mrcnn.model.BatchNorm object at 0x00000213A39AE530>, <keras.layers.core.activation.Activation object at 0x00000213A39AEFB0>, <keras.layers.convolutional.conv2d.Conv2D object at 0x00000213A39AD930>, <mrcnn.model.BatchNorm object at 0x00000213A39AE0E0>, <keras.layers.core.activation.Activation object at 0x00000213A39ADD50>, <keras.layers.convolutional.conv2d.Conv2D object at 0x00000213A39BA590>, <mrcnn.model.BatchNorm object at 0x00000213A39B9810>, <keras.layers.merging.add.Add object at 0x00000213A39B8F10>, <keras.layers.core.activation.Activation object at 0x00000213A39AF670>, <keras.layers.convolutional.conv2d.Conv2D object at 0x00000213A39BB610>, <mrcnn.model.BatchNorm object at 0x00000213A39BB070>, <keras.layers.core.activation.Activation object at 0x00000213A39B8B50>, <keras.layers.convolutional.conv2d.Conv2D object at 0x00000213A39C9840>, <mrcnn.model.BatchNorm object at 0x00000213A39C8100>, <keras.layers.core.activation.Activation object at 0x00000213A39CB880>, <keras.layers.convolutional.conv2d.Conv2D object at 0x00000213A39CA740>, <mrcnn.model.BatchNorm object at 0x00000213A39CA380>, <keras.layers.merging.add.Add object at 0x00000213A39C9930>, <keras.layers.core.activation.Activation object at 0x00000213A39C8280>, <keras.layers.convolutional.conv2d.Conv2D object at 0x00000213A39CA950>, <mrcnn.model.BatchNorm object at 0x00000213A39B84C0>, <keras.layers.core.activation.Activation object at 0x00000213A39C8C70>, <keras.layers.convolutional.conv2d.Conv2D object at 0x00000213A39CBC10>, <mrcnn.model.BatchNorm object at 0x00000213A39BB6D0>, <keras.layers.core.activation.Activation object at 0x00000213A39BB7C0>, <keras.layers.convolutional.conv2d.Conv2D object at 0x00000213A39ACEB0>, <mrcnn.model.BatchNorm object at 0x00000213A3D3EE60>, <keras.layers.merging.add.Add object at 0x00000213A39AF8B0>, <keras.layers.core.activation.Activation object at 0x00000213A39C8220>, <keras.layers.convolutional.conv2d.Conv2D object at 0x00000213A39DA0B0>, <mrcnn.model.BatchNorm object at 0x00000213A39D84C0>, <keras.layers.core.activation.Activation object at 0x00000213A39CB700>, <keras.layers.convolutional.conv2d.Conv2D object at 0x00000213A39D9360>, <mrcnn.model.BatchNorm object at 0x00000213A39D8940>, <keras.layers.core.activation.Activation object at 0x00000213A39DBF70>, <keras.layers.convolutional.conv2d.Conv2D object at 0x00000213A39DB400>, <mrcnn.model.BatchNorm object at 0x00000213A39DBA30>, <keras.layers.merging.add.Add object at 0x00000213A39D99F0>, <keras.layers.core.activation.Activation object at 0x00000213A39D9FC0>, <keras.layers.convolutional.conv2d.Conv2D object at 0x00000213A39F2BF0>, <mrcnn.model.BatchNorm object at 0x00000213A39F12D0>, <keras.layers.core.activation.Activation object at 0x00000213A39F0D30>, <keras.layers.convolutional.conv2d.Conv2D object at 0x00000213A39F1E10>, <mrcnn.model.BatchNorm object at 0x00000213A39F08B0>, <keras.layers.core.activation.Activation object at 0x00000213A39F3C70>, <keras.layers.convolutional.conv2d.Conv2D object at 0x00000213A3A055D0>, <mrcnn.model.BatchNorm object at 0x00000213A39F3F40>, <keras.layers.merging.add.Add object at 0x00000213A39F0FA0>, <keras.layers.core.activation.Activation object at 0x00000213A39F2410>, <keras.layers.convolutional.conv2d.Conv2D object at 0x00000213A3A07730>, <mrcnn.model.BatchNorm object at 0x00000213A3A05E10>, <keras.layers.core.activation.Activation object at 0x00000213A3A056F0>, <keras.layers.convolutional.conv2d.Conv2D object at 0x00000213A3A07E50>, <mrcnn.model.BatchNorm object at 0x00000213A3A05690>, <keras.layers.core.activation.Activation object at 0x00000213A3A07940>, <keras.layers.convolutional.conv2d.Conv2D object at 0x00000213A3A15EA0>, <mrcnn.model.BatchNorm object at 0x00000213A3A150F0>, <keras.layers.merging.add.Add object at 0x00000213A3A17EB0>, <keras.layers.core.activation.Activation object at 0x00000213A3A177C0>, <keras.layers.convolutional.conv2d.Conv2D object at 0x00000213A3A17610>, <mrcnn.model.BatchNorm object at 0x00000213A3A06470>, <keras.layers.core.activation.Activation object at 0x00000213A3A07670>, <keras.layers.convolutional.conv2d.Conv2D object at 0x00000213A3A07CA0>, <mrcnn.model.BatchNorm object at 0x00000213A39F1AB0>, <keras.layers.core.activation.Activation object at 0x00000213A3A14940>, <keras.layers.convolutional.conv2d.Conv2D object at 0x00000213A3A17280>, <mrcnn.model.BatchNorm object at 0x00000213A39F2E30>, <keras.layers.merging.add.Add object at 0x00000213A3A159C0>, <keras.layers.core.activation.Activation object at 0x00000213A3A17490>, <keras.layers.convolutional.conv2d.Conv2D object at 0x00000213A3A3C400>, <mrcnn.model.BatchNorm object at 0x00000213A39998A0>, <keras.layers.core.activation.Activation object at 0x00000213A3A14790>, <keras.layers.convolutional.conv2d.Conv2D object at 0x00000213A3A3DDE0>, <mrcnn.model.BatchNorm object at 0x00000213A3A3C0D0>, <keras.layers.core.activation.Activation object at 0x00000213A3A3FCA0>, <keras.layers.convolutional.conv2d.Conv2D object at 0x00000213A3A3EB90>, <mrcnn.model.BatchNorm object at 0x00000213A3A3E7D0>, <keras.layers.merging.add.Add object at 0x00000213A3A3D870>, <keras.layers.core.activation.Activation object at 0x00000213A3A3C9A0>, <keras.layers.convolutional.conv2d.Conv2D object at 0x00000213A3A4D990>, <mrcnn.model.BatchNorm object at 0x00000213A3A4C070>, <keras.layers.core.activation.Activation object at 0x00000213A3A3EFE0>, <keras.layers.convolutional.conv2d.Conv2D object at 0x00000213A3A4C970>, <mrcnn.model.BatchNorm object at 0x00000213A3A4C880>, <keras.layers.core.activation.Activation object at 0x00000213A3A4F910>, <keras.layers.convolutional.conv2d.Conv2D object at 0x00000213A3A4ECE0>, <mrcnn.model.BatchNorm object at 0x00000213A3A4F310>, <keras.layers.merging.add.Add object at 0x00000213A3A4D2D0>, <keras.layers.core.activation.Activation object at 0x00000213A3A4D8A0>, <keras.layers.convolutional.conv2d.Conv2D object at 0x00000213A3A6E4D0>, <mrcnn.model.BatchNorm object at 0x00000213A3A6CBB0>, <keras.layers.core.activation.Activation object at 0x00000213A3A6F2B0>, <keras.layers.convolutional.conv2d.Conv2D object at 0x00000213A3A6DB70>, <mrcnn.model.BatchNorm object at 0x00000213A3A6C1C0>, <keras.layers.core.activation.Activation object at 0x00000213A3A6E410>, <keras.layers.convolutional.conv2d.Conv2D object at 0x00000213A3B18FD0>, <mrcnn.model.BatchNorm object at 0x00000213A3A6FE50>, <keras.layers.merging.add.Add object at 0x00000213A3A6E380>, <keras.layers.core.activation.Activation object at 0x00000213A3A6D480>, <keras.layers.convolutional.conv2d.Conv2D object at 0x00000213A3A4D930>, <mrcnn.model.BatchNorm object at 0x00000213A39AEC50>, <keras.layers.core.activation.Activation object at 0x00000213A39CB730>, <keras.layers.convolutional.conv2d.Conv2D object at 0x00000213A3A3EF20>, <mrcnn.model.BatchNorm object at 0x00000213A3A3F5E0>, <keras.layers.core.activation.Activation object at 0x00000213A39F0D00>, <keras.layers.convolutional.conv2d.Conv2D object at 0x00000213A3A4E500>, <mrcnn.model.BatchNorm object at 0x00000213A39D9A80>, <keras.layers.merging.add.Add object at 0x00000213A3A6D0C0>, <keras.layers.core.activation.Activation object at 0x00000213A3A4C9D0>, <keras.layers.convolutional.conv2d.Conv2D object at 0x00000213A3B1BBB0>, <mrcnn.model.BatchNorm object at 0x00000213A3B19FF0>, <keras.layers.core.activation.Activation object at 0x00000213A3B1B790>, <keras.layers.convolutional.conv2d.Conv2D object at 0x00000213A3B1B700>, <mrcnn.model.BatchNorm object at 0x00000213A3B1A8C0>, <keras.layers.core.activation.Activation object at 0x00000213A3B1ADD0>, <keras.layers.convolutional.conv2d.Conv2D object at 0x00000213A3B362F0>, <mrcnn.model.BatchNorm object at 0x00000213A3B35570>, <keras.layers.merging.add.Add object at 0x00000213A3B344C0>, <keras.layers.core.activation.Activation object at 0x00000213A3B191B0>, <keras.layers.convolutional.conv2d.Conv2D object at 0x00000213A3B373A0>, <mrcnn.model.BatchNorm object at 0x00000213A3B36DD0>, <keras.layers.core.activation.Activation object at 0x00000213A3B34070>, <keras.layers.convolutional.conv2d.Conv2D object at 0x00000213A3B35000>, <mrcnn.model.BatchNorm object at 0x00000213A3B4C640>, <keras.layers.core.activation.Activation object at 0x00000213A3B4F580>, <keras.layers.convolutional.conv2d.Conv2D object at 0x00000213A3B4E470>, <mrcnn.model.BatchNorm object at 0x00000213A3B4E0B0>, <keras.layers.merging.add.Add object at 0x00000213A3B4D7E0>, <keras.layers.core.activation.Activation object at 0x00000213A3B34A60>, <keras.layers.convolutional.conv2d.Conv2D object at 0x00000213A3B4FEE0>, <mrcnn.model.BatchNorm object at 0x00000213A3B4F910>, <keras.layers.core.activation.Activation object at 0x00000213A3B4C820>, <keras.layers.convolutional.conv2d.Conv2D object at 0x00000213A3B68250>, <mrcnn.model.BatchNorm object at 0x00000213A3B68160>, <keras.layers.core.activation.Activation object at 0x00000213A3B6AD70>, <keras.layers.convolutional.conv2d.Conv2D object at 0x00000213A3B6AFE0>, <keras.layers.convolutional.conv2d.Conv2D object at 0x00000213A3B68B20>, <mrcnn.model.BatchNorm object at 0x00000213A3B6AC20>, <mrcnn.model.BatchNorm object at 0x00000213A3B6B670>, <keras.layers.merging.add.Add object at 0x00000213A3B37AC0>, <keras.layers.core.activation.Activation object at 0x00000213A3B35D20>, <keras.layers.convolutional.conv2d.Conv2D object at 0x00000213A3B36890>, <mrcnn.model.BatchNorm object at 0x00000213A3B35F30>, <keras.layers.core.activation.Activation object at 0x00000213A3B6B730>, <keras.layers.convolutional.conv2d.Conv2D object at 0x00000213A3A4D480>, <mrcnn.model.BatchNorm object at 0x00000213A3B19240>, <keras.layers.core.activation.Activation object at 0x00000213A3B4CBE0>, <keras.layers.convolutional.conv2d.Conv2D object at 0x00000213A3B8E860>, <mrcnn.model.BatchNorm object at 0x00000213A3B4EA70>, <keras.layers.merging.add.Add object at 0x00000213A3B4F520>, <keras.layers.core.activation.Activation object at 0x00000213A3B36920>, <keras.layers.convolutional.conv2d.Conv2D object at 0x00000213A3B8FB20>, <mrcnn.model.BatchNorm object at 0x00000213A3A4ED40>, <keras.layers.core.activation.Activation object at 0x00000213A3B8E8F0>, <keras.layers.convolutional.conv2d.Conv2D object at 0x00000213A3B8E920>, <mrcnn.model.BatchNorm object at 0x00000213A3B8F9D0>, <keras.layers.core.activation.Activation object at 0x00000213A3BA71F0>, <keras.layers.convolutional.conv2d.Conv2D object at 0x00000213A3BA7B20>, <mrcnn.model.BatchNorm object at 0x00000213A3B8D8D0>, <keras.layers.merging.add.Add object at 0x00000213A3BA6170>, <keras.layers.core.activation.Activation object at 0x00000213A3B8FEE0>, <keras.layers.convolutional.conv2d.Conv2D object at 0x00000213A3BA7910>, <keras.layers.reshaping.up_sampling2d.UpSampling2D object at 0x00000213A3BC1360>, <keras.layers.convolutional.conv2d.Conv2D object at 0x00000213A3BA7730>, <keras.layers.merging.add.Add object at 0x00000213A3BA5270>, <keras.layers.reshaping.up_sampling2d.UpSampling2D object at 0x00000213A3BC1C90>, <keras.layers.convolutional.conv2d.Conv2D object at 0x00000213A3BC3AF0>, <keras.layers.merging.add.Add object at 0x00000213A3D1D690>, <keras.layers.reshaping.up_sampling2d.UpSampling2D object at 0x00000213A3BC3A00>, <keras.layers.convolutional.conv2d.Conv2D object at 0x00000213A3BC3370>, <keras.layers.merging.add.Add object at 0x00000213A3BC3DC0>, <keras.layers.convolutional.conv2d.Conv2D object at 0x00000213A3BE0AC0>, <keras.layers.convolutional.conv2d.Conv2D object at 0x00000213A3BC1D20>, <keras.layers.convolutional.conv2d.Conv2D object at 0x00000213A3BC3E80>, <keras.layers.convolutional.conv2d.Conv2D object at 0x00000213A3BC3AC0>, <keras.layers.pooling.max_pooling2d.MaxPooling2D object at 0x00000213A3BE2B00>, <keras.engine.functional.Functional object at 0x00000213A3BC2470>, <keras.layers.merging.concatenate.Concatenate object at 0x000002139CE8EFE0>, <keras.layers.merging.concatenate.Concatenate object at 0x00000213A3C054E0>, <keras.layers.core.lambda_layer.Lambda object at 0x00000213A3BC2C50>, <keras.engine.input_layer.InputLayer object at 0x00000213A16D4640>, <mrcnn.model.ProposalLayer object at 0x00000213A3B34E80>, <keras.engine.input_layer.InputLayer object at 0x00000213A16D4070>, <keras.layers.core.lambda_layer.Lambda object at 0x00000213A16D72E0>, <keras.engine.input_layer.InputLayer object at 0x00000213A16D7100>, <mrcnn.model.DetectionTargetLayer object at 0x00000213A14CD960>, <keras.engine.input_layer.InputLayer object at 0x00000213A17164A0>, <mrcnn.model.PyramidROIAlign object at 0x00000213B1824790>, <keras.layers.rnn.time_distributed.TimeDistributed object at 0x00000213B18241F0>, <keras.layers.rnn.time_distributed.TimeDistributed object at 0x00000213B1C5B160>, <keras.layers.core.activation.Activation object at 0x00000213B43E16C0>, <keras.layers.rnn.time_distributed.TimeDistributed object at 0x00000213B43E2920>, <mrcnn.model.PyramidROIAlign object at 0x00000213A17A77F0>, <keras.layers.rnn.time_distributed.TimeDistributed object at 0x00000213B43E2590>, <keras.layers.rnn.time_distributed.TimeDistributed object at 0x00000213A17A6980>, <keras.layers.core.activation.Activation object at 0x00000213B42EE5C0>, <keras.layers.rnn.time_distributed.TimeDistributed object at 0x00000213B42A0B20>, <keras.layers.rnn.time_distributed.TimeDistributed object at 0x00000213B42EFBB0>, <keras.layers.core.activation.Activation object at 0x00000213B42EBCD0>, <keras.layers.rnn.time_distributed.TimeDistributed object at 0x00000213B43F3550>, <keras.layers.rnn.time_distributed.TimeDistributed object at 0x00000213B42EAE30>, <keras.layers.core.activation.Activation object at 0x00000213B43F3F10>, <keras.layers.rnn.time_distributed.TimeDistributed object at 0x00000213B420B8E0>, <keras.layers.rnn.time_distributed.TimeDistributed object at 0x00000213B43F3190>, <keras.layers.core.activation.Activation object at 0x00000213B4209A50>, <keras.layers.rnn.time_distributed.TimeDistributed object at 0x00000213B4318940>, <keras.layers.core.lambda_layer.Lambda object at 0x00000213B4298B80>, <keras.layers.core.activation.Activation object at 0x00000213B431A170>, <keras.layers.rnn.time_distributed.TimeDistributed object at 0x00000213B4298D30>, <keras.layers.rnn.time_distributed.TimeDistributed object at 0x00000213B4319C60>, <keras.layers.merging.concatenate.Concatenate object at 0x00000213A3B8DAE0>, <keras.layers.rnn.time_distributed.TimeDistributed object at 0x00000213B4298910>, <keras.layers.reshaping.reshape.Reshape object at 0x00000213A1717790>, <keras.layers.rnn.time_distributed.TimeDistributed object at 0x00000213B431B970>, <keras.engine.input_layer.InputLayer object at 0x00000213A1751030>, <keras.engine.input_layer.InputLayer object at 0x00000213A15A9B10>, <keras.layers.core.lambda_layer.Lambda object at 0x00000213A3A3CF40>, <keras.layers.rnn.time_distributed.TimeDistributed object at 0x00000213B4298E50>, <keras.layers.core.lambda_layer.Lambda object at 0x00000213B431D9F0>, <keras.layers.core.lambda_layer.Lambda object at 0x00000213B431E470>, <keras.layers.core.lambda_layer.Lambda object at 0x00000213B431F6A0>, <keras.layers.core.lambda_layer.Lambda object at 0x00000213B431E680>, <keras.layers.core.lambda_layer.Lambda object at 0x00000213B43F1270>, <keras.layers.core.lambda_layer.Lambda object at 0x00000213B42EFA60>]\n"
     ]
    },
    {
     "name": "stderr",
     "output_type": "stream",
     "text": [
      "C:\\Users\\zhhua\\AppData\\Local\\Programs\\Python\\Python310\\lib\\site-packages\\keras\\optimizers\\optimizer_v2\\gradient_descent.py:111: UserWarning: The `lr` argument is deprecated, use `learning_rate` instead.\n",
      "  super().__init__(name, **kwargs)\n",
      "C:\\Users\\zhhua\\OneDrive\\Desktop\\PythonProgram\\CAT\\Mask_R_CNN\\Mask_RCNN\\mrcnn\\model.py:2430: SyntaxWarning: \"is\" with a literal. Did you mean \"==\"?\n",
      "  if os.name is 'nt':\n",
      "C:\\Users\\zhhua\\OneDrive\\Desktop\\PythonProgram\\CAT\\Mask_R_CNN\\Mask_RCNN\\mrcnn\\model.py:2430: SyntaxWarning: \"is\" with a literal. Did you mean \"==\"?\n",
      "  if os.name is 'nt':\n",
      "C:\\Users\\zhhua\\OneDrive\\Desktop\\PythonProgram\\CAT\\Mask_R_CNN\\Mask_RCNN\\mrcnn\\model.py:2430: SyntaxWarning: \"is\" with a literal. Did you mean \"==\"?\n",
      "  if os.name is 'nt':\n",
      "C:\\Users\\zhhua\\OneDrive\\Desktop\\PythonProgram\\CAT\\Mask_R_CNN\\Mask_RCNN\\mrcnn\\model.py:2430: SyntaxWarning: \"is\" with a literal. Did you mean \"==\"?\n",
      "  if os.name is 'nt':\n"
     ]
    },
    {
     "ename": "TypeError",
     "evalue": "Keras symbolic inputs/outputs do not implement `__len__`. You may be trying to pass Keras symbolic inputs/outputs to a TF API that does not register dispatching, preventing Keras from automatically converting the API call to a lambda layer in the Functional Model. This error will also get raised if you try asserting a symbolic input/output directly.",
     "output_type": "error",
     "traceback": [
      "\u001b[1;31m---------------------------------------------------------------------------\u001b[0m",
      "\u001b[1;31mTypeError\u001b[0m                                 Traceback (most recent call last)",
      "Cell \u001b[1;32mIn [9], line 5\u001b[0m\n\u001b[0;32m      1\u001b[0m \u001b[38;5;66;03m# Train the head branches\u001b[39;00m\n\u001b[0;32m      2\u001b[0m \u001b[38;5;66;03m# Passing layers=\"heads\" freezes all layers except the head\u001b[39;00m\n\u001b[0;32m      3\u001b[0m \u001b[38;5;66;03m# layers. You can also pass a regular expression to select\u001b[39;00m\n\u001b[0;32m      4\u001b[0m \u001b[38;5;66;03m# which layers to train by name pattern.\u001b[39;00m\n\u001b[1;32m----> 5\u001b[0m \u001b[43mmodel\u001b[49m\u001b[38;5;241;43m.\u001b[39;49m\u001b[43mtrain\u001b[49m\u001b[43m(\u001b[49m\u001b[43mdataset_train\u001b[49m\u001b[43m,\u001b[49m\u001b[43m \u001b[49m\u001b[43mdataset_val\u001b[49m\u001b[43m,\u001b[49m\u001b[43m \u001b[49m\n\u001b[0;32m      6\u001b[0m \u001b[43m            \u001b[49m\u001b[43mlearning_rate\u001b[49m\u001b[38;5;241;43m=\u001b[39;49m\u001b[43mconfig\u001b[49m\u001b[38;5;241;43m.\u001b[39;49m\u001b[43mLEARNING_RATE\u001b[49m\u001b[43m,\u001b[49m\u001b[43m \u001b[49m\n\u001b[0;32m      7\u001b[0m \u001b[43m            \u001b[49m\u001b[43mepochs\u001b[49m\u001b[38;5;241;43m=\u001b[39;49m\u001b[38;5;241;43m1\u001b[39;49m\u001b[43m,\u001b[49m\u001b[43m \u001b[49m\n\u001b[0;32m      8\u001b[0m \u001b[43m            \u001b[49m\u001b[43mlayers\u001b[49m\u001b[38;5;241;43m=\u001b[39;49m\u001b[38;5;124;43m'\u001b[39;49m\u001b[38;5;124;43mheads\u001b[39;49m\u001b[38;5;124;43m'\u001b[39;49m\u001b[43m)\u001b[49m\n",
      "File \u001b[1;32m~\\OneDrive\\Desktop\\PythonProgram\\CAT\\Mask_R_CNN\\Mask_RCNN\\mrcnn\\model.py:2425\u001b[0m, in \u001b[0;36mMaskRCNN.train\u001b[1;34m(self, train_dataset, val_dataset, learning_rate, epochs, layers, augmentation, custom_callbacks, no_augmentation_sources)\u001b[0m\n\u001b[0;32m   2423\u001b[0m log(\u001b[38;5;124m\"\u001b[39m\u001b[38;5;124mCheckpoint Path: \u001b[39m\u001b[38;5;132;01m{}\u001b[39;00m\u001b[38;5;124m\"\u001b[39m\u001b[38;5;241m.\u001b[39mformat(\u001b[38;5;28mself\u001b[39m\u001b[38;5;241m.\u001b[39mcheckpoint_path))\n\u001b[0;32m   2424\u001b[0m \u001b[38;5;28mself\u001b[39m\u001b[38;5;241m.\u001b[39mset_trainable(layers)\n\u001b[1;32m-> 2425\u001b[0m \u001b[38;5;28;43mself\u001b[39;49m\u001b[38;5;241;43m.\u001b[39;49m\u001b[43mcompile\u001b[49m\u001b[43m(\u001b[49m\u001b[43mlearning_rate\u001b[49m\u001b[43m,\u001b[49m\u001b[43m \u001b[49m\u001b[38;5;28;43mself\u001b[39;49m\u001b[38;5;241;43m.\u001b[39;49m\u001b[43mconfig\u001b[49m\u001b[38;5;241;43m.\u001b[39;49m\u001b[43mLEARNING_MOMENTUM\u001b[49m\u001b[43m)\u001b[49m\n\u001b[0;32m   2427\u001b[0m \u001b[38;5;66;03m# Work-around for Windows: Keras fails on Windows when using\u001b[39;00m\n\u001b[0;32m   2428\u001b[0m \u001b[38;5;66;03m# multiprocessing workers. See discussion here:\u001b[39;00m\n\u001b[0;32m   2429\u001b[0m \u001b[38;5;66;03m# https://github.com/matterport/Mask_RCNN/issues/13#issuecomment-353124009\u001b[39;00m\n\u001b[0;32m   2430\u001b[0m \u001b[38;5;28;01mif\u001b[39;00m os\u001b[38;5;241m.\u001b[39mname \u001b[38;5;129;01mis\u001b[39;00m \u001b[38;5;124m'\u001b[39m\u001b[38;5;124mnt\u001b[39m\u001b[38;5;124m'\u001b[39m:\n",
      "File \u001b[1;32m~\\OneDrive\\Desktop\\PythonProgram\\CAT\\Mask_R_CNN\\Mask_RCNN\\mrcnn\\model.py:2239\u001b[0m, in \u001b[0;36mMaskRCNN.compile\u001b[1;34m(self, learning_rate, momentum)\u001b[0m\n\u001b[0;32m   2237\u001b[0m \u001b[38;5;28;01mfor\u001b[39;00m name \u001b[38;5;129;01min\u001b[39;00m loss_names:\n\u001b[0;32m   2238\u001b[0m     layer \u001b[38;5;241m=\u001b[39m \u001b[38;5;28mself\u001b[39m\u001b[38;5;241m.\u001b[39mkeras_model\u001b[38;5;241m.\u001b[39mget_layer(name)\n\u001b[1;32m-> 2239\u001b[0m     \u001b[38;5;28;01mif\u001b[39;00m \u001b[43mlayer\u001b[49m\u001b[38;5;241;43m.\u001b[39;49m\u001b[43moutput\u001b[49m\u001b[43m \u001b[49m\u001b[38;5;129;43;01min\u001b[39;49;00m\u001b[43m \u001b[49m\u001b[38;5;28;43mself\u001b[39;49m\u001b[38;5;241;43m.\u001b[39;49m\u001b[43mkeras_model\u001b[49m\u001b[38;5;241;43m.\u001b[39;49m\u001b[43mlosses\u001b[49m:\n\u001b[0;32m   2240\u001b[0m         \u001b[38;5;28;01mcontinue\u001b[39;00m\n\u001b[0;32m   2241\u001b[0m     loss \u001b[38;5;241m=\u001b[39m (\n\u001b[0;32m   2242\u001b[0m         tf\u001b[38;5;241m.\u001b[39mreduce_mean(layer\u001b[38;5;241m.\u001b[39moutput, keepdims\u001b[38;5;241m=\u001b[39m\u001b[38;5;28;01mTrue\u001b[39;00m)\n\u001b[0;32m   2243\u001b[0m         \u001b[38;5;241m*\u001b[39m \u001b[38;5;28mself\u001b[39m\u001b[38;5;241m.\u001b[39mconfig\u001b[38;5;241m.\u001b[39mLOSS_WEIGHTS\u001b[38;5;241m.\u001b[39mget(name, \u001b[38;5;241m1.\u001b[39m))\n",
      "File \u001b[1;32m~\\AppData\\Local\\Programs\\Python\\Python310\\lib\\site-packages\\keras\\engine\\keras_tensor.py:244\u001b[0m, in \u001b[0;36mKerasTensor.__len__\u001b[1;34m(self)\u001b[0m\n\u001b[0;32m    243\u001b[0m \u001b[38;5;28;01mdef\u001b[39;00m \u001b[38;5;21m__len__\u001b[39m(\u001b[38;5;28mself\u001b[39m):\n\u001b[1;32m--> 244\u001b[0m     \u001b[38;5;28;01mraise\u001b[39;00m \u001b[38;5;167;01mTypeError\u001b[39;00m(\n\u001b[0;32m    245\u001b[0m         \u001b[38;5;124m\"\u001b[39m\u001b[38;5;124mKeras symbolic inputs/outputs do not \u001b[39m\u001b[38;5;124m\"\u001b[39m\n\u001b[0;32m    246\u001b[0m         \u001b[38;5;124m\"\u001b[39m\u001b[38;5;124mimplement `__len__`. You may be \u001b[39m\u001b[38;5;124m\"\u001b[39m\n\u001b[0;32m    247\u001b[0m         \u001b[38;5;124m\"\u001b[39m\u001b[38;5;124mtrying to pass Keras symbolic inputs/outputs \u001b[39m\u001b[38;5;124m\"\u001b[39m\n\u001b[0;32m    248\u001b[0m         \u001b[38;5;124m\"\u001b[39m\u001b[38;5;124mto a TF API that does not register dispatching, \u001b[39m\u001b[38;5;124m\"\u001b[39m\n\u001b[0;32m    249\u001b[0m         \u001b[38;5;124m\"\u001b[39m\u001b[38;5;124mpreventing Keras from automatically \u001b[39m\u001b[38;5;124m\"\u001b[39m\n\u001b[0;32m    250\u001b[0m         \u001b[38;5;124m\"\u001b[39m\u001b[38;5;124mconverting the API call to a lambda layer \u001b[39m\u001b[38;5;124m\"\u001b[39m\n\u001b[0;32m    251\u001b[0m         \u001b[38;5;124m\"\u001b[39m\u001b[38;5;124min the Functional Model. This error will also get raised \u001b[39m\u001b[38;5;124m\"\u001b[39m\n\u001b[0;32m    252\u001b[0m         \u001b[38;5;124m\"\u001b[39m\u001b[38;5;124mif you try asserting a symbolic input/output directly.\u001b[39m\u001b[38;5;124m\"\u001b[39m\n\u001b[0;32m    253\u001b[0m     )\n",
      "\u001b[1;31mTypeError\u001b[0m: Keras symbolic inputs/outputs do not implement `__len__`. You may be trying to pass Keras symbolic inputs/outputs to a TF API that does not register dispatching, preventing Keras from automatically converting the API call to a lambda layer in the Functional Model. This error will also get raised if you try asserting a symbolic input/output directly."
     ]
    }
   ],
   "source": [
    "# Train the head branches\n",
    "# Passing layers=\"heads\" freezes all layers except the head\n",
    "# layers. You can also pass a regular expression to select\n",
    "# which layers to train by name pattern.\n",
    "model.train(dataset_train, dataset_val, \n",
    "            learning_rate=config.LEARNING_RATE, \n",
    "            epochs=1, \n",
    "            layers='heads')"
   ]
  },
  {
   "cell_type": "code",
   "execution_count": 10,
   "id": "de52b9c0",
   "metadata": {},
   "outputs": [
    {
     "name": "stdout",
     "output_type": "stream",
     "text": [
      "symbolic_loss: KerasTensor(type_spec=TensorSpec(shape=(), dtype=tf.float32, name=None), name='tf.math.reduce_mean_1/Mean:0', description=\"created by layer 'tf.math.reduce_mean_1'\")\n",
      "self._self_tracked_trackables: [<keras.engine.input_layer.InputLayer object at 0x00000233425ADA80>, <keras.layers.core.dense.Dense object at 0x00000233425ADB40>, <keras.layers.core.dense.Dense object at 0x000002330C45C9D0>]\n"
     ]
    }
   ],
   "source": [
    "import tensorflow as tf\n",
    "from tensorflow.keras.layers import Input, Dense\n",
    "from tensorflow.keras.models import Model\n",
    "\n",
    "# Input layer\n",
    "inputs = Input(shape=(10,))\n",
    "\n",
    "# Hidden layer\n",
    "x = Dense(32, activation='relu')(inputs)\n",
    "\n",
    "# Output layer\n",
    "outputs = Dense(1)(x)\n",
    "\n",
    "# Create the model\n",
    "model = Model(inputs=inputs, outputs=outputs)\n",
    "\n",
    "# Custom loss function\n",
    "def custom_loss(y_true, y_pred):\n",
    "    # Compute the custom loss\n",
    "    loss = tf.reduce_mean(tf.square(y_true - y_pred))\n",
    "    return loss\n",
    "\n",
    "# Add the custom loss to the model\n",
    "model.add_loss(custom_loss(inputs, outputs))\n"
   ]
  },
  {
   "cell_type": "code",
   "execution_count": 11,
   "id": "5393fbab",
   "metadata": {},
   "outputs": [
    {
     "data": {
      "text/plain": [
       "keras.engine.functional.Functional"
      ]
     },
     "execution_count": 11,
     "metadata": {},
     "output_type": "execute_result"
    }
   ],
   "source": [
    "type(model)"
   ]
  },
  {
   "cell_type": "code",
   "execution_count": 16,
   "id": "341e1d75",
   "metadata": {},
   "outputs": [
    {
     "data": {
      "text/plain": [
       "keras.engine.functional.Functional"
      ]
     },
     "execution_count": 16,
     "metadata": {},
     "output_type": "execute_result"
    }
   ],
   "source": [
    "type(model_1)"
   ]
  },
  {
   "cell_type": "code",
   "execution_count": 17,
   "id": "71bfccdd",
   "metadata": {},
   "outputs": [
    {
     "ename": "ValueError",
     "evalue": "Exception encountered when calling layer \"tf.math.subtract_1\" (type TFOpLambda).\n\nDimensions must be equal, but are 784 and 10 for '{{node tf.math.subtract_1/Sub}} = Sub[T=DT_FLOAT](Placeholder, Placeholder_1)' with input shapes: [?,784], [?,10].\n\nCall arguments received by layer \"tf.math.subtract_1\" (type TFOpLambda):\n  • x=tf.Tensor(shape=(None, 784), dtype=float32)\n  • y=tf.Tensor(shape=(None, 10), dtype=float32)\n  • name=None",
     "output_type": "error",
     "traceback": [
      "\u001b[1;31m---------------------------------------------------------------------------\u001b[0m",
      "\u001b[1;31mValueError\u001b[0m                                Traceback (most recent call last)",
      "Cell \u001b[1;32mIn [17], line 2\u001b[0m\n\u001b[0;32m      1\u001b[0m \u001b[38;5;66;03m# Add the custom loss to the model\u001b[39;00m\n\u001b[1;32m----> 2\u001b[0m model_1\u001b[38;5;241m.\u001b[39madd_loss(\u001b[43mcustom_loss\u001b[49m\u001b[43m(\u001b[49m\u001b[43minputs\u001b[49m\u001b[43m,\u001b[49m\u001b[43m \u001b[49m\u001b[43moutputs\u001b[49m\u001b[43m)\u001b[49m)\n",
      "Cell \u001b[1;32mIn [15], line 21\u001b[0m, in \u001b[0;36mcustom_loss\u001b[1;34m(y_true, y_pred)\u001b[0m\n\u001b[0;32m     19\u001b[0m \u001b[38;5;28;01mdef\u001b[39;00m \u001b[38;5;21mcustom_loss\u001b[39m(y_true, y_pred):\n\u001b[0;32m     20\u001b[0m     \u001b[38;5;66;03m# Compute the custom loss\u001b[39;00m\n\u001b[1;32m---> 21\u001b[0m     loss \u001b[38;5;241m=\u001b[39m tf\u001b[38;5;241m.\u001b[39mreduce_mean(tf\u001b[38;5;241m.\u001b[39msquare(\u001b[43my_true\u001b[49m\u001b[43m \u001b[49m\u001b[38;5;241;43m-\u001b[39;49m\u001b[43m \u001b[49m\u001b[43my_pred\u001b[49m))\n\u001b[0;32m     22\u001b[0m     \u001b[38;5;28;01mreturn\u001b[39;00m loss\n",
      "File \u001b[1;32m~\\AppData\\Local\\Programs\\Python\\Python310\\lib\\site-packages\\tensorflow\\python\\util\\traceback_utils.py:153\u001b[0m, in \u001b[0;36mfilter_traceback.<locals>.error_handler\u001b[1;34m(*args, **kwargs)\u001b[0m\n\u001b[0;32m    151\u001b[0m \u001b[38;5;28;01mexcept\u001b[39;00m \u001b[38;5;167;01mException\u001b[39;00m \u001b[38;5;28;01mas\u001b[39;00m e:\n\u001b[0;32m    152\u001b[0m   filtered_tb \u001b[38;5;241m=\u001b[39m _process_traceback_frames(e\u001b[38;5;241m.\u001b[39m__traceback__)\n\u001b[1;32m--> 153\u001b[0m   \u001b[38;5;28;01mraise\u001b[39;00m e\u001b[38;5;241m.\u001b[39mwith_traceback(filtered_tb) \u001b[38;5;28;01mfrom\u001b[39;00m \u001b[38;5;28mNone\u001b[39m\n\u001b[0;32m    154\u001b[0m \u001b[38;5;28;01mfinally\u001b[39;00m:\n\u001b[0;32m    155\u001b[0m   \u001b[38;5;28;01mdel\u001b[39;00m filtered_tb\n",
      "File \u001b[1;32m~\\AppData\\Local\\Programs\\Python\\Python310\\lib\\site-packages\\keras\\layers\\core\\tf_op_layer.py:119\u001b[0m, in \u001b[0;36mKerasOpDispatcher.handle\u001b[1;34m(self, op, args, kwargs)\u001b[0m\n\u001b[0;32m    114\u001b[0m \u001b[38;5;250m\u001b[39m\u001b[38;5;124;03m\"\"\"Handle the specified operation with the specified arguments.\"\"\"\u001b[39;00m\n\u001b[0;32m    115\u001b[0m \u001b[38;5;28;01mif\u001b[39;00m \u001b[38;5;28many\u001b[39m(\n\u001b[0;32m    116\u001b[0m     \u001b[38;5;28misinstance\u001b[39m(x, keras_tensor\u001b[38;5;241m.\u001b[39mKerasTensor)\n\u001b[0;32m    117\u001b[0m     \u001b[38;5;28;01mfor\u001b[39;00m x \u001b[38;5;129;01min\u001b[39;00m tf\u001b[38;5;241m.\u001b[39mnest\u001b[38;5;241m.\u001b[39mflatten([args, kwargs])\n\u001b[0;32m    118\u001b[0m ):\n\u001b[1;32m--> 119\u001b[0m     \u001b[38;5;28;01mreturn\u001b[39;00m TFOpLambda(op)(\u001b[38;5;241m*\u001b[39margs, \u001b[38;5;241m*\u001b[39m\u001b[38;5;241m*\u001b[39mkwargs)\n\u001b[0;32m    120\u001b[0m \u001b[38;5;28;01melse\u001b[39;00m:\n\u001b[0;32m    121\u001b[0m     \u001b[38;5;28;01mreturn\u001b[39;00m \u001b[38;5;28mself\u001b[39m\u001b[38;5;241m.\u001b[39mNOT_SUPPORTED\n",
      "File \u001b[1;32m~\\AppData\\Local\\Programs\\Python\\Python310\\lib\\site-packages\\keras\\utils\\traceback_utils.py:70\u001b[0m, in \u001b[0;36mfilter_traceback.<locals>.error_handler\u001b[1;34m(*args, **kwargs)\u001b[0m\n\u001b[0;32m     67\u001b[0m     filtered_tb \u001b[38;5;241m=\u001b[39m _process_traceback_frames(e\u001b[38;5;241m.\u001b[39m__traceback__)\n\u001b[0;32m     68\u001b[0m     \u001b[38;5;66;03m# To get the full stack trace, call:\u001b[39;00m\n\u001b[0;32m     69\u001b[0m     \u001b[38;5;66;03m# `tf.debugging.disable_traceback_filtering()`\u001b[39;00m\n\u001b[1;32m---> 70\u001b[0m     \u001b[38;5;28;01mraise\u001b[39;00m e\u001b[38;5;241m.\u001b[39mwith_traceback(filtered_tb) \u001b[38;5;28;01mfrom\u001b[39;00m \u001b[38;5;28mNone\u001b[39m\n\u001b[0;32m     71\u001b[0m \u001b[38;5;28;01mfinally\u001b[39;00m:\n\u001b[0;32m     72\u001b[0m     \u001b[38;5;28;01mdel\u001b[39;00m filtered_tb\n",
      "\u001b[1;31mValueError\u001b[0m: Exception encountered when calling layer \"tf.math.subtract_1\" (type TFOpLambda).\n\nDimensions must be equal, but are 784 and 10 for '{{node tf.math.subtract_1/Sub}} = Sub[T=DT_FLOAT](Placeholder, Placeholder_1)' with input shapes: [?,784], [?,10].\n\nCall arguments received by layer \"tf.math.subtract_1\" (type TFOpLambda):\n  • x=tf.Tensor(shape=(None, 784), dtype=float32)\n  • y=tf.Tensor(shape=(None, 10), dtype=float32)\n  • name=None"
     ]
    }
   ],
   "source": [
    "# Add the custom loss to the model\n",
    "model_1.add_loss(custom_loss(inputs, outputs))"
   ]
  },
  {
   "cell_type": "code",
   "execution_count": null,
   "id": "3152c32f",
   "metadata": {},
   "outputs": [],
   "source": []
  }
 ],
 "metadata": {
  "kernelspec": {
   "display_name": "Python 3 (ipykernel)",
   "language": "python",
   "name": "python3"
  },
  "language_info": {
   "codemirror_mode": {
    "name": "ipython",
    "version": 3
   },
   "file_extension": ".py",
   "mimetype": "text/x-python",
   "name": "python",
   "nbconvert_exporter": "python",
   "pygments_lexer": "ipython3",
   "version": "3.10.7"
  }
 },
 "nbformat": 4,
 "nbformat_minor": 5
}
