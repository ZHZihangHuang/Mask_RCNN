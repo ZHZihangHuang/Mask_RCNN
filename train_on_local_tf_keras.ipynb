{
 "cells": [
  {
   "cell_type": "code",
   "execution_count": 1,
   "id": "8ca6e55a",
   "metadata": {},
   "outputs": [],
   "source": [
    "import os\n",
    "import sys\n",
    "import random\n",
    "import math\n",
    "import re\n",
    "import time\n",
    "import numpy as np\n",
    "import cv2\n",
    "import matplotlib\n",
    "import matplotlib.pyplot as plt\n",
    "\n",
    "# Root directory of the project\n",
    "ROOT_DIR = os.path.abspath(\"../../\")\n",
    "\n",
    "# Import Mask RCNN\n",
    "sys.path.append(ROOT_DIR)  # To find local version of the library\n",
    "from mrcnn.config import Config\n",
    "from mrcnn import utils\n",
    "import mrcnn.model as modellib\n",
    "from mrcnn import visualize\n",
    "from mrcnn.model import log\n",
    "\n",
    "%matplotlib inline \n",
    "\n",
    "# Directory to save logs and trained model\n",
    "MODEL_DIR = os.path.join(ROOT_DIR, \"logs\")\n",
    "\n",
    "# Local path to trained weights file\n",
    "COCO_MODEL_PATH = os.path.join(ROOT_DIR, \"mask_rcnn_coco.h5\")\n",
    "# Download COCO trained weights from Releases if needed\n",
    "if not os.path.exists(COCO_MODEL_PATH):\n",
    "    utils.download_trained_weights(COCO_MODEL_PATH)"
   ]
  },
  {
   "cell_type": "code",
   "execution_count": 2,
   "id": "445dcbb0",
   "metadata": {},
   "outputs": [
    {
     "name": "stdout",
     "output_type": "stream",
     "text": [
      "\n",
      "Configurations:\n",
      "BACKBONE                       resnet101\n",
      "BACKBONE_STRIDES               [4, 8, 16, 32, 64]\n",
      "BATCH_SIZE                     8\n",
      "BBOX_STD_DEV                   [0.1 0.1 0.2 0.2]\n",
      "COMPUTE_BACKBONE_SHAPE         None\n",
      "DETECTION_MAX_INSTANCES        100\n",
      "DETECTION_MIN_CONFIDENCE       0.7\n",
      "DETECTION_NMS_THRESHOLD        0.3\n",
      "FPN_CLASSIF_FC_LAYERS_SIZE     1024\n",
      "GPU_COUNT                      1\n",
      "GRADIENT_CLIP_NORM             5.0\n",
      "IMAGES_PER_GPU                 8\n",
      "IMAGE_CHANNEL_COUNT            3\n",
      "IMAGE_MAX_DIM                  128\n",
      "IMAGE_META_SIZE                16\n",
      "IMAGE_MIN_DIM                  128\n",
      "IMAGE_MIN_SCALE                0\n",
      "IMAGE_RESIZE_MODE              square\n",
      "IMAGE_SHAPE                    [128 128   3]\n",
      "LEARNING_MOMENTUM              0.9\n",
      "LEARNING_RATE                  0.001\n",
      "LOSS_WEIGHTS                   {'rpn_class_loss': 1.0, 'rpn_bbox_loss': 1.0, 'mrcnn_class_loss': 1.0, 'mrcnn_bbox_loss': 1.0, 'mrcnn_mask_loss': 1.0}\n",
      "MASK_POOL_SIZE                 14\n",
      "MASK_SHAPE                     [28, 28]\n",
      "MAX_GT_INSTANCES               100\n",
      "MEAN_PIXEL                     [123.7 116.8 103.9]\n",
      "MINI_MASK_SHAPE                (56, 56)\n",
      "NAME                           shapes\n",
      "NUM_CLASSES                    4\n",
      "POOL_SIZE                      7\n",
      "POST_NMS_ROIS_INFERENCE        1000\n",
      "POST_NMS_ROIS_TRAINING         2000\n",
      "PRE_NMS_LIMIT                  6000\n",
      "ROI_POSITIVE_RATIO             0.33\n",
      "RPN_ANCHOR_RATIOS              [0.5, 1, 2]\n",
      "RPN_ANCHOR_SCALES              (8, 16, 32, 64, 128)\n",
      "RPN_ANCHOR_STRIDE              1\n",
      "RPN_BBOX_STD_DEV               [0.1 0.1 0.2 0.2]\n",
      "RPN_NMS_THRESHOLD              0.7\n",
      "RPN_TRAIN_ANCHORS_PER_IMAGE    256\n",
      "STEPS_PER_EPOCH                100\n",
      "TOP_DOWN_PYRAMID_SIZE          256\n",
      "TRAIN_BN                       False\n",
      "TRAIN_ROIS_PER_IMAGE           32\n",
      "USE_MINI_MASK                  True\n",
      "USE_RPN_ROIS                   True\n",
      "VALIDATION_STEPS               5\n",
      "WEIGHT_DECAY                   0.0001\n",
      "\n",
      "\n"
     ]
    }
   ],
   "source": [
    "class ShapesConfig(Config):\n",
    "    \"\"\"Configuration for training on the toy shapes dataset.\n",
    "    Derives from the base Config class and overrides values specific\n",
    "    to the toy shapes dataset.\n",
    "    \"\"\"\n",
    "    # Give the configuration a recognizable name\n",
    "    NAME = \"shapes\"\n",
    "\n",
    "    # Train on 1 GPU and 8 images per GPU. We can put multiple images on each\n",
    "    # GPU because the images are small. Batch size is 8 (GPUs * images/GPU).\n",
    "    GPU_COUNT = 1\n",
    "    IMAGES_PER_GPU = 8\n",
    "\n",
    "    # Number of classes (including background)\n",
    "    NUM_CLASSES = 1 + 3  # background + 3 shapes\n",
    "\n",
    "    # Use small images for faster training. Set the limits of the small side\n",
    "    # the large side, and that determines the image shape.\n",
    "    IMAGE_MIN_DIM = 128\n",
    "    IMAGE_MAX_DIM = 128\n",
    "\n",
    "    # Use smaller anchors because our image and objects are small\n",
    "    RPN_ANCHOR_SCALES = (8, 16, 32, 64, 128)  # anchor side in pixels\n",
    "\n",
    "    # Reduce training ROIs per image because the images are small and have\n",
    "    # few objects. Aim to allow ROI sampling to pick 33% positive ROIs.\n",
    "    TRAIN_ROIS_PER_IMAGE = 32\n",
    "\n",
    "    # Use a small epoch since the data is simple\n",
    "    STEPS_PER_EPOCH = 100\n",
    "\n",
    "    # use small validation steps since the epoch is small\n",
    "    VALIDATION_STEPS = 5\n",
    "    \n",
    "config = ShapesConfig()\n",
    "config.display()"
   ]
  },
  {
   "cell_type": "code",
   "execution_count": 3,
   "id": "6970f515",
   "metadata": {},
   "outputs": [],
   "source": [
    "def get_ax(rows=1, cols=1, size=8):\n",
    "    \"\"\"Return a Matplotlib Axes array to be used in\n",
    "    all visualizations in the notebook. Provide a\n",
    "    central point to control graph sizes.\n",
    "    \n",
    "    Change the default size attribute to control the size\n",
    "    of rendered images\n",
    "    \"\"\"\n",
    "    _, ax = plt.subplots(rows, cols, figsize=(size*cols, size*rows))\n",
    "    return ax"
   ]
  },
  {
   "cell_type": "code",
   "execution_count": 4,
   "id": "a0c93ae4",
   "metadata": {},
   "outputs": [],
   "source": [
    "class ShapesDataset(utils.Dataset):\n",
    "    \"\"\"Generates the shapes synthetic dataset. The dataset consists of simple\n",
    "    shapes (triangles, squares, circles) placed randomly on a blank surface.\n",
    "    The images are generated on the fly. No file access required.\n",
    "    \"\"\"\n",
    "\n",
    "    def load_shapes(self, count, height, width):\n",
    "        \"\"\"Generate the requested number of synthetic images.\n",
    "        count: number of images to generate.\n",
    "        height, width: the size of the generated images.\n",
    "        \"\"\"\n",
    "        # Add classes\n",
    "        self.add_class(\"shapes\", 1, \"square\")\n",
    "        self.add_class(\"shapes\", 2, \"circle\")\n",
    "        self.add_class(\"shapes\", 3, \"triangle\")\n",
    "\n",
    "        # Add images\n",
    "        # Generate random specifications of images (i.e. color and\n",
    "        # list of shapes sizes and locations). This is more compact than\n",
    "        # actual images. Images are generated on the fly in load_image().\n",
    "        for i in range(count):\n",
    "            bg_color, shapes = self.random_image(height, width)\n",
    "            self.add_image(\"shapes\", image_id=i, path=None,\n",
    "                           width=width, height=height,\n",
    "                           bg_color=bg_color, shapes=shapes)\n",
    "\n",
    "    def load_image(self, image_id):\n",
    "        \"\"\"Generate an image from the specs of the given image ID.\n",
    "        Typically this function loads the image from a file, but\n",
    "        in this case it generates the image on the fly from the\n",
    "        specs in image_info.\n",
    "        \"\"\"\n",
    "        info = self.image_info[image_id]\n",
    "        bg_color = np.array(info['bg_color']).reshape([1, 1, 3])\n",
    "        image = np.ones([info['height'], info['width'], 3], dtype=np.uint8)\n",
    "        image = image * bg_color.astype(np.uint8)\n",
    "        for shape, color, dims in info['shapes']:\n",
    "            image = self.draw_shape(image, shape, dims, color)\n",
    "        return image\n",
    "\n",
    "    def image_reference(self, image_id):\n",
    "        \"\"\"Return the shapes data of the image.\"\"\"\n",
    "        info = self.image_info[image_id]\n",
    "        if info[\"source\"] == \"shapes\":\n",
    "            return info[\"shapes\"]\n",
    "        else:\n",
    "            super(self.__class__).image_reference(self, image_id)\n",
    "\n",
    "    def load_mask(self, image_id):\n",
    "        \"\"\"Generate instance masks for shapes of the given image ID.\n",
    "        \"\"\"\n",
    "        info = self.image_info[image_id]\n",
    "        shapes = info['shapes']\n",
    "        count = len(shapes)\n",
    "        mask = np.zeros([info['height'], info['width'], count], dtype=np.uint8)\n",
    "        for i, (shape, _, dims) in enumerate(info['shapes']):\n",
    "            mask[:, :, i:i+1] = self.draw_shape(mask[:, :, i:i+1].copy(),\n",
    "                                                shape, dims, 1)\n",
    "        # Handle occlusions\n",
    "        occlusion = np.logical_not(mask[:, :, -1]).astype(np.uint8)\n",
    "        for i in range(count-2, -1, -1):\n",
    "            mask[:, :, i] = mask[:, :, i] * occlusion\n",
    "            occlusion = np.logical_and(occlusion, np.logical_not(mask[:, :, i]))\n",
    "        # Map class names to class IDs.\n",
    "        class_ids = np.array([self.class_names.index(s[0]) for s in shapes])\n",
    "        return mask.astype(np.bool), class_ids.astype(np.int32)\n",
    "\n",
    "    def draw_shape(self, image, shape, dims, color):\n",
    "        \"\"\"Draws a shape from the given specs.\"\"\"\n",
    "        # Get the center x, y and the size s\n",
    "        x, y, s = dims\n",
    "        if shape == 'square':\n",
    "            cv2.rectangle(image, (x-s, y-s), (x+s, y+s), color, -1)\n",
    "        elif shape == \"circle\":\n",
    "            cv2.circle(image, (x, y), s, color, -1)\n",
    "        elif shape == \"triangle\":\n",
    "            points = np.array([[(x, y-s),\n",
    "                                (x-s/math.sin(math.radians(60)), y+s),\n",
    "                                (x+s/math.sin(math.radians(60)), y+s),\n",
    "                                ]], dtype=np.int32)\n",
    "            cv2.fillPoly(image, points, color)\n",
    "        return image\n",
    "\n",
    "    def random_shape(self, height, width):\n",
    "        \"\"\"Generates specifications of a random shape that lies within\n",
    "        the given height and width boundaries.\n",
    "        Returns a tuple of three valus:\n",
    "        * The shape name (square, circle, ...)\n",
    "        * Shape color: a tuple of 3 values, RGB.\n",
    "        * Shape dimensions: A tuple of values that define the shape size\n",
    "                            and location. Differs per shape type.\n",
    "        \"\"\"\n",
    "        # Shape\n",
    "        shape = random.choice([\"square\", \"circle\", \"triangle\"])\n",
    "        # Color\n",
    "        color = tuple([random.randint(0, 255) for _ in range(3)])\n",
    "        # Center x, y\n",
    "        buffer = 20\n",
    "        y = random.randint(buffer, height - buffer - 1)\n",
    "        x = random.randint(buffer, width - buffer - 1)\n",
    "        # Size\n",
    "        s = random.randint(buffer, height//4)\n",
    "        return shape, color, (x, y, s)\n",
    "\n",
    "    def random_image(self, height, width):\n",
    "        \"\"\"Creates random specifications of an image with multiple shapes.\n",
    "        Returns the background color of the image and a list of shape\n",
    "        specifications that can be used to draw the image.\n",
    "        \"\"\"\n",
    "        # Pick random background color\n",
    "        bg_color = np.array([random.randint(0, 255) for _ in range(3)])\n",
    "        # Generate a few random shapes and record their\n",
    "        # bounding boxes\n",
    "        shapes = []\n",
    "        boxes = []\n",
    "        N = random.randint(1, 4)\n",
    "        for _ in range(N):\n",
    "            shape, color, dims = self.random_shape(height, width)\n",
    "            shapes.append((shape, color, dims))\n",
    "            x, y, s = dims\n",
    "            boxes.append([y-s, x-s, y+s, x+s])\n",
    "        # Apply non-max suppression wit 0.3 threshold to avoid\n",
    "        # shapes covering each other\n",
    "        keep_ixs = utils.non_max_suppression(np.array(boxes), np.arange(N), 0.3)\n",
    "        shapes = [s for i, s in enumerate(shapes) if i in keep_ixs]\n",
    "        return bg_color, shapes"
   ]
  },
  {
   "cell_type": "code",
   "execution_count": 5,
   "id": "6a12ed00",
   "metadata": {},
   "outputs": [],
   "source": [
    "# Training dataset\n",
    "dataset_train = ShapesDataset()\n",
    "dataset_train.load_shapes(500, config.IMAGE_SHAPE[0], config.IMAGE_SHAPE[1])\n",
    "dataset_train.prepare()\n",
    "\n",
    "# Validation dataset\n",
    "dataset_val = ShapesDataset()\n",
    "dataset_val.load_shapes(50, config.IMAGE_SHAPE[0], config.IMAGE_SHAPE[1])\n",
    "dataset_val.prepare()"
   ]
  },
  {
   "cell_type": "code",
   "execution_count": 6,
   "id": "74e9b9df",
   "metadata": {},
   "outputs": [
    {
     "name": "stderr",
     "output_type": "stream",
     "text": [
      "C:\\Users\\zhhua\\AppData\\Local\\Temp\\ipykernel_25936\\498919690.py:66: DeprecationWarning: `np.bool` is a deprecated alias for the builtin `bool`. To silence this warning, use `bool` by itself. Doing this will not modify any behavior and is safe. If you specifically wanted the numpy scalar type, use `np.bool_` here.\n",
      "Deprecated in NumPy 1.20; for more details and guidance: https://numpy.org/devdocs/release/1.20.0-notes.html#deprecations\n",
      "  return mask.astype(np.bool), class_ids.astype(np.int32)\n"
     ]
    },
    {
     "data": {
      "image/png": "[encoded data removed]",
      "text/plain": [
       "<Figure size 1400x500 with 5 Axes>"
      ]
     },
     "metadata": {},
     "output_type": "display_data"
    },
    {
     "data": {
      "image/png": "[encoded data removed]",
      "text/plain": [
       "<Figure size 1400x500 with 5 Axes>"
      ]
     },
     "metadata": {},
     "output_type": "display_data"
    },
    {
     "data": {
      "image/png": "[encoded data removed]",
      "text/plain": [
       "<Figure size 1400x500 with 5 Axes>"
      ]
     },
     "metadata": {},
     "output_type": "display_data"
    },
    {
     "data": {
      "image/png": "[encoded data removed]",
      "text/plain": [
       "<Figure size 1400x500 with 5 Axes>"
      ]
     },
     "metadata": {},
     "output_type": "display_data"
    }
   ],
   "source": [
    "# Load and display random samples\n",
    "image_ids = np.random.choice(dataset_train.image_ids, 4)\n",
    "for image_id in image_ids:\n",
    "    image = dataset_train.load_image(image_id)\n",
    "    mask, class_ids = dataset_train.load_mask(image_id)\n",
    "    visualize.display_top_masks(image, mask, class_ids, dataset_train.class_names)"
   ]
  },
  {
   "cell_type": "code",
   "execution_count": 7,
   "id": "258cf1cf",
   "metadata": {},
   "outputs": [
    {
     "name": "stdout",
     "output_type": "stream",
     "text": [
      "K: <module 'keras.backend' from 'C:\\\\Users\\\\zhhua\\\\OneDrive\\\\Desktop\\\\PythonProgram\\\\CAT\\\\Mask_R_CNN\\\\Mask_RCNN\\\\keras\\\\backend.py'>\n",
      "config.IMAGES_PER_GPU: 8\n",
      "config.BACKBONE: resnet101\n",
      "config.BACKBONE_STRIDES: [4, 8, 16, 32, 64]\n",
      "config.BATCH_SIZE: 8\n",
      "config.BBOX_STD_DEV: [0.1 0.1 0.2 0.2]\n",
      "config.COMPUTE_BACKBONE_SHAPE: None\n",
      "config.DETECTION_MAX_INSTANCES: 100\n",
      "config.DETECTION_MIN_CONFIDENCE: 0.7\n",
      "config.DETECTION_NMS_THRESHOLD: 0.3\n",
      "config.FPN_CLASSIF_FC_LAYERS_SIZE: 1024\n",
      "config.GPU_COUNT: 1\n",
      "config.GRADIENT_CLIP_NORM: 5.0\n",
      "config.IMAGES_PER_GPU: 8\n",
      "config.IMAGE_CHANNEL_COUNT: 3\n",
      "config.IMAGE_MAX_DIM: 128\n",
      "config.IMAGE_META_SIZE: 16\n",
      "config.IMAGE_MIN_DIM: 128\n",
      "config.IMAGE_MIN_SCALE: 0\n",
      "config.IMAGE_RESIZE_MODE: square\n",
      "config.IMAGE_SHAPE: [128 128   3]\n",
      "config.LEARNING_MOMENTUM: 0.9\n",
      "config.LEARNING_RATE: 0.001\n",
      "config.LOSS_WEIGHTS: {'rpn_class_loss': 1.0, 'rpn_bbox_loss': 1.0, 'mrcnn_class_loss': 1.0, 'mrcnn_bbox_loss': 1.0, 'mrcnn_mask_loss': 1.0}\n",
      "config.MASK_POOL_SIZE: 14\n",
      "config.MASK_SHAPE: [28, 28]\n",
      "config.MAX_GT_INSTANCES: 100\n",
      "config.MEAN_PIXEL: [123.7 116.8 103.9]\n",
      "config.MINI_MASK_SHAPE: (56, 56)\n",
      "config.NAME: shapes\n",
      "config.NUM_CLASSES: 4\n",
      "config.POOL_SIZE: 7\n",
      "config.POST_NMS_ROIS_INFERENCE: 1000\n",
      "config.POST_NMS_ROIS_TRAINING: 2000\n",
      "config.PRE_NMS_LIMIT: 6000\n",
      "config.ROI_POSITIVE_RATIO: 0.33\n",
      "config.RPN_ANCHOR_RATIOS: [0.5, 1, 2]\n",
      "config.RPN_ANCHOR_SCALES: (8, 16, 32, 64, 128)\n",
      "config.RPN_ANCHOR_STRIDE: 1\n",
      "config.RPN_BBOX_STD_DEV: [0.1 0.1 0.2 0.2]\n",
      "config.RPN_NMS_THRESHOLD: 0.7\n",
      "config.RPN_TRAIN_ANCHORS_PER_IMAGE: 256\n",
      "config.STEPS_PER_EPOCH: 100\n",
      "config.TOP_DOWN_PYRAMID_SIZE: 256\n",
      "config.TRAIN_BN: False\n",
      "config.TRAIN_ROIS_PER_IMAGE: 32\n",
      "config.USE_MINI_MASK: True\n",
      "config.USE_RPN_ROIS: True\n",
      "config.VALIDATION_STEPS: 5\n",
      "config.WEIGHT_DECAY: 0.0001\n",
      "The caller is: _create_op_internal\n"
     ]
    },
    {
     "name": "stderr",
     "output_type": "stream",
     "text": [
      "C:\\Users\\zhhua\\OneDrive\\Desktop\\PythonProgram\\CAT\\Mask_R_CNN\\Mask_RCNN\\mrcnn\\model.py:2440: SyntaxWarning: \"is\" with a literal. Did you mean \"==\"?\n",
      "  if os.name is 'nt':\n",
      "C:\\Users\\zhhua\\OneDrive\\Desktop\\PythonProgram\\CAT\\Mask_R_CNN\\Mask_RCNN\\mrcnn\\model.py:2440: SyntaxWarning: \"is\" with a literal. Did you mean \"==\"?\n",
      "  if os.name is 'nt':\n",
      "C:\\Users\\zhhua\\OneDrive\\Desktop\\PythonProgram\\CAT\\Mask_R_CNN\\Mask_RCNN\\mrcnn\\model.py:2440: SyntaxWarning: \"is\" with a literal. Did you mean \"==\"?\n",
      "  if os.name is 'nt':\n",
      "C:\\Users\\zhhua\\OneDrive\\Desktop\\PythonProgram\\CAT\\Mask_R_CNN\\Mask_RCNN\\mrcnn\\model.py:2440: SyntaxWarning: \"is\" with a literal. Did you mean \"==\"?\n",
      "  if os.name is 'nt':\n",
      "C:\\Users\\zhhua\\OneDrive\\Desktop\\PythonProgram\\CAT\\Mask_R_CNN\\Mask_RCNN\\mrcnn\\model.py:2440: SyntaxWarning: \"is\" with a literal. Did you mean \"==\"?\n",
      "  if os.name is 'nt':\n",
      "C:\\Users\\zhhua\\OneDrive\\Desktop\\PythonProgram\\CAT\\Mask_R_CNN\\Mask_RCNN\\mrcnn\\model.py:2440: SyntaxWarning: \"is\" with a literal. Did you mean \"==\"?\n",
      "  if os.name is 'nt':\n",
      "C:\\Users\\zhhua\\OneDrive\\Desktop\\PythonProgram\\CAT\\Mask_R_CNN\\Mask_RCNN\\mrcnn\\model.py:2440: SyntaxWarning: \"is\" with a literal. Did you mean \"==\"?\n",
      "  if os.name is 'nt':\n"
     ]
    },
    {
     "ename": "ValueError",
     "evalue": "node_def: name: \"Placeholder\"\nop: \"Placeholder\"\nattr {\n  key: \"dtype\"\n  value {\n    type: DT_FLOAT\n  }\n}\nattr {\n  key: \"shape\"\n  value {\n    shape {\n      dim {\n        size: -1\n      }\n      dim {\n        size: -1\n      }\n      dim {\n        size: 4\n      }\n    }\n  }\n}\n\nself: FuncGraph(name=lambda_scratch_graph, id=1394276230304)\ninputs: []\ndtypes: None\ncontrol_inputs: []\nself._default_original_op: None\nop_def: name: \"Placeholder\"\noutput_arg {\n  name: \"output\"\n  type_attr: \"dtype\"\n}\nattr {\n  name: \"dtype\"\n  type: \"type\"\n}\nattr {\n  name: \"shape\"\n  type: \"shape\"\n  default_value {\n    shape {\n      unknown_rank: true\n    }\n  }\n}\n\n",
     "output_type": "error",
     "traceback": [
      "\u001b[1;31m---------------------------------------------------------------------------\u001b[0m",
      "\u001b[1;31mValueError\u001b[0m                                Traceback (most recent call last)",
      "Cell \u001b[1;32mIn [7], line 2\u001b[0m\n\u001b[0;32m      1\u001b[0m \u001b[38;5;66;03m# Create model in training mode\u001b[39;00m\n\u001b[1;32m----> 2\u001b[0m model \u001b[38;5;241m=\u001b[39m \u001b[43mmodellib\u001b[49m\u001b[38;5;241;43m.\u001b[39;49m\u001b[43mMaskRCNN\u001b[49m\u001b[43m(\u001b[49m\u001b[43mmode\u001b[49m\u001b[38;5;241;43m=\u001b[39;49m\u001b[38;5;124;43m\"\u001b[39;49m\u001b[38;5;124;43mtraining\u001b[39;49m\u001b[38;5;124;43m\"\u001b[39;49m\u001b[43m,\u001b[49m\u001b[43m \u001b[49m\u001b[43mconfig\u001b[49m\u001b[38;5;241;43m=\u001b[39;49m\u001b[43mconfig\u001b[49m\u001b[43m,\u001b[49m\n\u001b[0;32m      3\u001b[0m \u001b[43m                          \u001b[49m\u001b[43mmodel_dir\u001b[49m\u001b[38;5;241;43m=\u001b[39;49m\u001b[43mMODEL_DIR\u001b[49m\u001b[43m)\u001b[49m\n",
      "File \u001b[1;32m~\\OneDrive\\Desktop\\PythonProgram\\CAT\\Mask_R_CNN\\Mask_RCNN\\mrcnn\\model.py:1843\u001b[0m, in \u001b[0;36mMaskRCNN.__init__\u001b[1;34m(self, mode, config, model_dir)\u001b[0m\n\u001b[0;32m   1841\u001b[0m \u001b[38;5;28mself\u001b[39m\u001b[38;5;241m.\u001b[39mmodel_dir \u001b[38;5;241m=\u001b[39m model_dir\n\u001b[0;32m   1842\u001b[0m \u001b[38;5;28mself\u001b[39m\u001b[38;5;241m.\u001b[39mset_log_dir()\n\u001b[1;32m-> 1843\u001b[0m \u001b[38;5;28mself\u001b[39m\u001b[38;5;241m.\u001b[39mkeras_model \u001b[38;5;241m=\u001b[39m \u001b[38;5;28;43mself\u001b[39;49m\u001b[38;5;241;43m.\u001b[39;49m\u001b[43mbuild\u001b[49m\u001b[43m(\u001b[49m\u001b[43mmode\u001b[49m\u001b[38;5;241;43m=\u001b[39;49m\u001b[43mmode\u001b[49m\u001b[43m,\u001b[49m\u001b[43m \u001b[49m\u001b[43mconfig\u001b[49m\u001b[38;5;241;43m=\u001b[39;49m\u001b[43mconfig\u001b[49m\u001b[43m)\u001b[49m\n\u001b[0;32m   1844\u001b[0m \u001b[38;5;28mself\u001b[39m\u001b[38;5;241m.\u001b[39mkeras_model\u001b[38;5;241m.\u001b[39mmetrics_tensors \u001b[38;5;241m=\u001b[39m []\n",
      "File \u001b[1;32m~\\OneDrive\\Desktop\\PythonProgram\\CAT\\Mask_R_CNN\\Mask_RCNN\\mrcnn\\model.py:1935\u001b[0m, in \u001b[0;36mMaskRCNN.build\u001b[1;34m(self, mode, config)\u001b[0m\n\u001b[0;32m   1933\u001b[0m \u001b[38;5;28mprint\u001b[39m(\u001b[38;5;124m'\u001b[39m\u001b[38;5;124mconfig.WEIGHT_DECAY: \u001b[39m\u001b[38;5;132;01m%s\u001b[39;00m\u001b[38;5;124m'\u001b[39m \u001b[38;5;241m%\u001b[39m config\u001b[38;5;241m.\u001b[39mWEIGHT_DECAY)\n\u001b[0;32m   1934\u001b[0m \u001b[38;5;66;03m# tf.compat.v1.disable_eager_execution()\u001b[39;00m\n\u001b[1;32m-> 1935\u001b[0m gt_boxes \u001b[38;5;241m=\u001b[39m \u001b[43mKL\u001b[49m\u001b[38;5;241;43m.\u001b[39;49m\u001b[43mLambda\u001b[49m\u001b[43m(\u001b[49m\u001b[38;5;28;43;01mlambda\u001b[39;49;00m\u001b[43m \u001b[49m\u001b[43mx\u001b[49m\u001b[43m:\u001b[49m\u001b[43m \u001b[49m\u001b[43mnorm_boxes_graph\u001b[49m\u001b[43m(\u001b[49m\n\u001b[0;32m   1936\u001b[0m \u001b[43m    \u001b[49m\u001b[43mx\u001b[49m\u001b[43m,\u001b[49m\u001b[43m \u001b[49m\u001b[43mK\u001b[49m\u001b[38;5;241;43m.\u001b[39;49m\u001b[43mshape\u001b[49m\u001b[43m(\u001b[49m\u001b[43minput_image\u001b[49m\u001b[43m)\u001b[49m\u001b[43m[\u001b[49m\u001b[38;5;241;43m1\u001b[39;49m\u001b[43m:\u001b[49m\u001b[38;5;241;43m3\u001b[39;49m\u001b[43m]\u001b[49m\u001b[43m)\u001b[49m\u001b[43m)\u001b[49m\u001b[43m(\u001b[49m\u001b[43minput_gt_boxes\u001b[49m\u001b[43m)\u001b[49m\n\u001b[0;32m   1937\u001b[0m \u001b[38;5;66;03m# 3. GT Masks (zero padded)\u001b[39;00m\n\u001b[0;32m   1938\u001b[0m \u001b[38;5;66;03m# [batch, height, width, MAX_GT_INSTANCES]\u001b[39;00m\n\u001b[0;32m   1939\u001b[0m \u001b[38;5;28;01mif\u001b[39;00m config\u001b[38;5;241m.\u001b[39mUSE_MINI_MASK:\n",
      "File \u001b[1;32m~\\OneDrive\\Desktop\\PythonProgram\\CAT\\Mask_R_CNN\\Mask_RCNN\\keras\\utils\\traceback_utils.py:70\u001b[0m, in \u001b[0;36mfilter_traceback.<locals>.error_handler\u001b[1;34m(*args, **kwargs)\u001b[0m\n\u001b[0;32m     67\u001b[0m     filtered_tb \u001b[38;5;241m=\u001b[39m _process_traceback_frames(e\u001b[38;5;241m.\u001b[39m__traceback__)\n\u001b[0;32m     68\u001b[0m     \u001b[38;5;66;03m# To get the full stack trace, call:\u001b[39;00m\n\u001b[0;32m     69\u001b[0m     \u001b[38;5;66;03m# `tf.debugging.disable_traceback_filtering()`\u001b[39;00m\n\u001b[1;32m---> 70\u001b[0m     \u001b[38;5;28;01mraise\u001b[39;00m e\u001b[38;5;241m.\u001b[39mwith_traceback(filtered_tb) \u001b[38;5;28;01mfrom\u001b[39;00m \u001b[38;5;28mNone\u001b[39m\n\u001b[0;32m     71\u001b[0m \u001b[38;5;28;01mfinally\u001b[39;00m:\n\u001b[0;32m     72\u001b[0m     \u001b[38;5;28;01mdel\u001b[39;00m filtered_tb\n",
      "File \u001b[1;32m~\\OneDrive\\Desktop\\PythonProgram\\CAT\\Mask_R_CNN\\Mask_RCNN\\tensorflow\\python\\framework\\ops.py:3806\u001b[0m, in \u001b[0;36mGraph._create_op_internal\u001b[1;34m(self, op_type, inputs, dtypes, input_types, name, attrs, op_def, compute_device)\u001b[0m\n\u001b[0;32m   3804\u001b[0m \u001b[38;5;28mprint\u001b[39m(\u001b[38;5;124mf\u001b[39m\u001b[38;5;124m\"\u001b[39m\u001b[38;5;124mThe caller is: \u001b[39m\u001b[38;5;132;01m{\u001b[39;00mcaller\u001b[38;5;132;01m}\u001b[39;00m\u001b[38;5;124m\"\u001b[39m)\n\u001b[0;32m   3805\u001b[0m \u001b[38;5;28;01mwith\u001b[39;00m \u001b[38;5;28mself\u001b[39m\u001b[38;5;241m.\u001b[39m_mutation_lock():\n\u001b[1;32m-> 3806\u001b[0m   \u001b[38;5;28;01mraise\u001b[39;00m \u001b[38;5;167;01mValueError\u001b[39;00m(\u001b[38;5;124mf\u001b[39m\u001b[38;5;124m\"\u001b[39m\u001b[38;5;124mnode_def: \u001b[39m\u001b[38;5;132;01m{\u001b[39;00mnode_def\u001b[38;5;132;01m}\u001b[39;00m\u001b[38;5;130;01m\\n\u001b[39;00m\u001b[38;5;124m\"\u001b[39m\n\u001b[0;32m   3807\u001b[0m                    \u001b[38;5;124mf\u001b[39m\u001b[38;5;124m\"\u001b[39m\u001b[38;5;124mself: \u001b[39m\u001b[38;5;132;01m{\u001b[39;00m\u001b[38;5;28mself\u001b[39m\u001b[38;5;132;01m}\u001b[39;00m\u001b[38;5;130;01m\\n\u001b[39;00m\u001b[38;5;124m\"\u001b[39m\n\u001b[0;32m   3808\u001b[0m                    \u001b[38;5;124mf\u001b[39m\u001b[38;5;124m\"\u001b[39m\u001b[38;5;124minputs: \u001b[39m\u001b[38;5;132;01m{\u001b[39;00minputs\u001b[38;5;132;01m}\u001b[39;00m\u001b[38;5;130;01m\\n\u001b[39;00m\u001b[38;5;124m\"\u001b[39m\n\u001b[0;32m   3809\u001b[0m                    \u001b[38;5;124mf\u001b[39m\u001b[38;5;124m\"\u001b[39m\u001b[38;5;124mdtypes: \u001b[39m\u001b[38;5;132;01m{\u001b[39;00mdtypes\u001b[38;5;132;01m}\u001b[39;00m\u001b[38;5;130;01m\\n\u001b[39;00m\u001b[38;5;124m\"\u001b[39m\n\u001b[0;32m   3810\u001b[0m                    \u001b[38;5;124mf\u001b[39m\u001b[38;5;124m\"\u001b[39m\u001b[38;5;124mcontrol_inputs: \u001b[39m\u001b[38;5;132;01m{\u001b[39;00mcontrol_inputs\u001b[38;5;132;01m}\u001b[39;00m\u001b[38;5;130;01m\\n\u001b[39;00m\u001b[38;5;124m\"\u001b[39m\n\u001b[0;32m   3811\u001b[0m                    \u001b[38;5;124mf\u001b[39m\u001b[38;5;124m\"\u001b[39m\u001b[38;5;124mself._default_original_op: \u001b[39m\u001b[38;5;132;01m{\u001b[39;00m\u001b[38;5;28mself\u001b[39m\u001b[38;5;241m.\u001b[39m_default_original_op\u001b[38;5;132;01m}\u001b[39;00m\u001b[38;5;130;01m\\n\u001b[39;00m\u001b[38;5;124m\"\u001b[39m\n\u001b[0;32m   3812\u001b[0m                    \u001b[38;5;124mf\u001b[39m\u001b[38;5;124m\"\u001b[39m\u001b[38;5;124mop_def: \u001b[39m\u001b[38;5;132;01m{\u001b[39;00mop_def\u001b[38;5;132;01m}\u001b[39;00m\u001b[38;5;130;01m\\n\u001b[39;00m\u001b[38;5;124m\"\u001b[39m)\n\u001b[0;32m   3813\u001b[0m   ret \u001b[38;5;241m=\u001b[39m Operation(\n\u001b[0;32m   3814\u001b[0m       node_def,\n\u001b[0;32m   3815\u001b[0m       \u001b[38;5;28mself\u001b[39m,\n\u001b[1;32m   (...)\u001b[0m\n\u001b[0;32m   3820\u001b[0m       original_op\u001b[38;5;241m=\u001b[39m\u001b[38;5;28mself\u001b[39m\u001b[38;5;241m.\u001b[39m_default_original_op,\n\u001b[0;32m   3821\u001b[0m       op_def\u001b[38;5;241m=\u001b[39mop_def)\n\u001b[0;32m   3822\u001b[0m   \u001b[38;5;28mself\u001b[39m\u001b[38;5;241m.\u001b[39m_create_op_helper(ret, compute_device\u001b[38;5;241m=\u001b[39mcompute_device)\n",
      "\u001b[1;31mValueError\u001b[0m: node_def: name: \"Placeholder\"\nop: \"Placeholder\"\nattr {\n  key: \"dtype\"\n  value {\n    type: DT_FLOAT\n  }\n}\nattr {\n  key: \"shape\"\n  value {\n    shape {\n      dim {\n        size: -1\n      }\n      dim {\n        size: -1\n      }\n      dim {\n        size: 4\n      }\n    }\n  }\n}\n\nself: FuncGraph(name=lambda_scratch_graph, id=1394276230304)\ninputs: []\ndtypes: None\ncontrol_inputs: []\nself._default_original_op: None\nop_def: name: \"Placeholder\"\noutput_arg {\n  name: \"output\"\n  type_attr: \"dtype\"\n}\nattr {\n  name: \"dtype\"\n  type: \"type\"\n}\nattr {\n  name: \"shape\"\n  type: \"shape\"\n  default_value {\n    shape {\n      unknown_rank: true\n    }\n  }\n}\n\n"
     ]
    }
   ],
   "source": [
    "# Create model in training mode\n",
    "model = modellib.MaskRCNN(mode=\"training\", config=config,\n",
    "                          model_dir=MODEL_DIR)"
   ]
  },
  {
   "cell_type": "code",
   "execution_count": null,
   "id": "d7fa1717",
   "metadata": {},
   "outputs": [],
   "source": [
    "op: \"Placeholder\"\n",
    "attr {\n",
    "  key: \"dtype\"\n",
    "  value {\n",
    "    type: DT_FLOAT\n",
    "  }\n",
    "}\n",
    "attr {\n",
    "  key: \"shape\"\n",
    "  value {\n",
    "    shape {\n",
    "      dim {\n",
    "        size: -1\n",
    "      }\n",
    "      dim {\n",
    "        size: -1\n",
    "      }\n",
    "      dim {\n",
    "        size: 4\n",
    "      }\n",
    "    }\n",
    "  }\n",
    "}\n",
    "\n",
    "self: FuncGraph(name=lambda_scratch_graph, id=2636996427248)\n",
    "inputs: []\n",
    "dtypes: None\n",
    "control_inputs: []\n",
    "self._default_original_op: None\n",
    "op_def: name: \"Placeholder\"\n",
    "output_arg {\n",
    "  name: \"output\"\n",
    "  type_attr: \"dtype\"\n",
    "}\n",
    "attr {\n",
    "  name: \"dtype\"\n",
    "  type: \"type\"\n",
    "}\n",
    "attr {\n",
    "  name: \"shape\"\n",
    "  type: \"shape\"\n",
    "  default_value {\n",
    "    shape {\n",
    "      unknown_rank: true\n",
    "    }\n",
    "  }\n",
    "}"
   ]
  },
  {
   "cell_type": "code",
   "execution_count": null,
   "id": "12b3b11b",
   "metadata": {},
   "outputs": [],
   "source": [
    "# Which weights to start with?\n",
    "init_with = \"coco\"  # imagenet, coco, or last\n",
    "\n",
    "if init_with == \"imagenet\":\n",
    "    model.load_weights(model.get_imagenet_weights(), by_name=True)\n",
    "elif init_with == \"coco\":\n",
    "    # Load weights trained on MS COCO, but skip layers that\n",
    "    # are different due to the different number of classes\n",
    "    # See README for instructions to download the COCO weights\n",
    "    model.load_weights(COCO_MODEL_PATH, by_name=True,\n",
    "                       exclude=[\"mrcnn_class_logits\", \"mrcnn_bbox_fc\", \n",
    "                                \"mrcnn_bbox\", \"mrcnn_mask\"])\n",
    "elif init_with == \"last\":\n",
    "    # Load the last model you trained and continue training\n",
    "    model.load_weights(model.find_last(), by_name=True)"
   ]
  },
  {
   "cell_type": "code",
   "execution_count": null,
   "id": "26191294",
   "metadata": {},
   "outputs": [],
   "source": [
    "# Train the head branches\n",
    "# Passing layers=\"heads\" freezes all layers except the head\n",
    "# layers. You can also pass a regular expression to select\n",
    "# which layers to train by name pattern.\n",
    "model.train(dataset_train, dataset_val, \n",
    "            learning_rate=config.LEARNING_RATE, \n",
    "            epochs=1, \n",
    "            layers='heads')"
   ]
  },
  {
   "cell_type": "code",
   "execution_count": null,
   "id": "e7d860e2",
   "metadata": {},
   "outputs": [],
   "source": [
    "# ValueError: regularization_losses: [<tf.Tensor 'mask_rcnn/tf.math.multiply/Mul:0' shape=() dtype=float32>, <tf.Tensor 'mask_rcnn/tf.math.multiply_1/Mul:0' shape=() dtype=float32>, <tf.Tensor 'Placeholder:0' shape=() dtype=float32>, <tf.Tensor 'Placeholder:0' shape=() dtype=float32>, <tf.Tensor 'Placeholder:0' shape=() dtype=float32>, <tf.Tensor 'Placeholder:0' shape=() dtype=float32>]tf.add_n type: <class 'function'>"
   ]
  },
  {
   "cell_type": "code",
   "execution_count": null,
   "id": "18aec371",
   "metadata": {},
   "outputs": [],
   "source": [
    "import tensorflow as tf\n",
    "from tensorflow.keras.layers import Input, Dense\n",
    "from tensorflow.keras.models import Model\n",
    "\n",
    "# Input layer\n",
    "inputs = Input(shape=(10,))\n",
    "\n",
    "# Hidden layer\n",
    "x = Dense(32, activation='relu')(inputs)\n",
    "\n",
    "# Output layer\n",
    "outputs = Dense(1)(x)\n",
    "\n",
    "# Create the model\n",
    "model = Model(inputs=inputs, outputs=outputs)\n",
    "\n",
    "# Custom loss function\n",
    "def custom_loss(y_true, y_pred):\n",
    "    # Compute the custom loss\n",
    "    loss = tf.reduce_mean(tf.square(y_true - y_pred))\n",
    "    return loss\n",
    "\n",
    "# Add the custom loss to the model\n",
    "print(custom_loss(inputs, outputs))\n"
   ]
  },
  {
   "cell_type": "code",
   "execution_count": 10,
   "id": "46ff9e72",
   "metadata": {},
   "outputs": [
    {
     "data": {
      "text/plain": [
       "<tf.Tensor: shape=(3,), dtype=int32, numpy=array([1, 2, 3])>"
      ]
     },
     "execution_count": 10,
     "metadata": {},
     "output_type": "execute_result"
    }
   ],
   "source": [
    "import tensorflow as tf\n",
    "import numpy as np\n",
    "\n",
    "# Create a tensor from a Python list\n",
    "tensor = tf.convert_to_tensor([1, 2, 3])\n",
    "\n",
    "# Create a tensor from a NumPy array\n",
    "array = np.array([1, 2, 3])\n",
    "tensor = tf.convert_to_tensor(array)\n",
    "tensor"
   ]
  },
  {
   "cell_type": "code",
   "execution_count": 23,
   "id": "21d40bce",
   "metadata": {},
   "outputs": [],
   "source": [
    "y_true = [None, None, None, None, None, None, None, None, None, None, None, None, None, None]\n",
    "y_pred = [\"<tf.Tensor 'mask_rcnn/rpn_class_logits/concat:0' shape=(None, None, 2) dtype=float32>\", \"<tf.Tensor 'mask_rcnn/rpn_class/concat:0' shape=(None, None, 2) dtype=float32>\", \"<tf.Tensor 'mask_rcnn/rpn_bbox/concat:0' shape=(None, None, 4) dtype=float32>\", \"<KerasTensor: shape=(8, None, 4) dtype=float32 (created by layer 'mrcnn_class_logits')>\", \"<KerasTensor: shape=(8, None, 4) dtype=float32 (created by layer 'mrcnn_class')>\", \"<KerasTensor: shape=(8, None, 4, 4) dtype=float32 (created by layer 'mrcnn_bbox')>\", \"<KerasTensor: shape=(8, None, 28, 28, 4) dtype=float32 (created by layer 'mrcnn_mask')>\", \"<KerasTensor: shape=(8, None, 4) dtype=float32 (created by layer 'ROI')>\", \"<KerasTensor: shape=(8, None, 4) dtype=float32 (created by layer 'output_rois')>\", \"<tf.Tensor 'mask_rcnn/rpn_class_loss/cond/Identity:0' shape=() dtype=float32>\", \"<tf.Tensor 'mask_rcnn/rpn_bbox_loss/cond/Identity:0' shape=() dtype=float32>\", \"<KerasTensor: shape=() dtype=float32 (created by layer 'mrcnn_class_loss')>\", \"<KerasTensor: shape=() dtype=float32 (created by layer 'mrcnn_bbox_loss')>\", \"<KerasTensor: shape=() dtype=float32 (created by layer 'mrcnn_mask_loss')>\"]\n",
    "sample_weight = [None, None, None, None, None, None, None, None, None, None, None, None, None, None]\n",
    "t_losses = [None, None, None, None, None, None, None, None, None, None, None, None, None, None]\n",
    "t_loss_weights = [None, None, None, None, None, None, None, None, None, None, None, None, None, None]\n",
    "t_per_output_metrics = [None, None, None, None, None, None, None, None, None, None, None, None, None, None]\n",
    "zip_args = (\n",
    "            y_true,\n",
    "            y_pred,\n",
    "            sample_weight,\n",
    "            t_losses,\n",
    "            t_loss_weights,\n",
    "            t_per_output_metrics,\n",
    "        )"
   ]
  },
  {
   "cell_type": "code",
   "execution_count": 24,
   "id": "7568af8d",
   "metadata": {},
   "outputs": [
    {
     "name": "stdout",
     "output_type": "stream",
     "text": [
      "(None, \"<tf.Tensor 'mask_rcnn/rpn_class_logits/concat:0' shape=(None, None, 2) dtype=float32>\", None, None, None, None)\n",
      "(None, \"<tf.Tensor 'mask_rcnn/rpn_class/concat:0' shape=(None, None, 2) dtype=float32>\", None, None, None, None)\n",
      "(None, \"<tf.Tensor 'mask_rcnn/rpn_bbox/concat:0' shape=(None, None, 4) dtype=float32>\", None, None, None, None)\n",
      "(None, \"<KerasTensor: shape=(8, None, 4) dtype=float32 (created by layer 'mrcnn_class_logits')>\", None, None, None, None)\n",
      "(None, \"<KerasTensor: shape=(8, None, 4) dtype=float32 (created by layer 'mrcnn_class')>\", None, None, None, None)\n",
      "(None, \"<KerasTensor: shape=(8, None, 4, 4) dtype=float32 (created by layer 'mrcnn_bbox')>\", None, None, None, None)\n",
      "(None, \"<KerasTensor: shape=(8, None, 28, 28, 4) dtype=float32 (created by layer 'mrcnn_mask')>\", None, None, None, None)\n",
      "(None, \"<KerasTensor: shape=(8, None, 4) dtype=float32 (created by layer 'ROI')>\", None, None, None, None)\n",
      "(None, \"<KerasTensor: shape=(8, None, 4) dtype=float32 (created by layer 'output_rois')>\", None, None, None, None)\n",
      "(None, \"<tf.Tensor 'mask_rcnn/rpn_class_loss/cond/Identity:0' shape=() dtype=float32>\", None, None, None, None)\n",
      "(None, \"<tf.Tensor 'mask_rcnn/rpn_bbox_loss/cond/Identity:0' shape=() dtype=float32>\", None, None, None, None)\n",
      "(None, \"<KerasTensor: shape=() dtype=float32 (created by layer 'mrcnn_class_loss')>\", None, None, None, None)\n",
      "(None, \"<KerasTensor: shape=() dtype=float32 (created by layer 'mrcnn_bbox_loss')>\", None, None, None, None)\n",
      "(None, \"<KerasTensor: shape=() dtype=float32 (created by layer 'mrcnn_mask_loss')>\", None, None, None, None)\n"
     ]
    }
   ],
   "source": [
    "for item in zip(*zip_args):\n",
    "    print(item)"
   ]
  },
  {
   "cell_type": "code",
   "execution_count": 21,
   "id": "a4bbf630",
   "metadata": {},
   "outputs": [],
   "source": [
    "names = ['Alice', 'Bob', 'Charlie']\n",
    "ages = [25, 32, 47]\n",
    "scores = []\n",
    "\n",
    "# Combine the elements from names, ages, and scores\n",
    "combined = zip(names, ages, scores)\n",
    "\n",
    "# Iterate over the combined iterable and print the tuples\n",
    "for item in combined:\n",
    "    print(item)"
   ]
  },
  {
   "cell_type": "code",
   "execution_count": 22,
   "id": "2a075e55",
   "metadata": {},
   "outputs": [
    {
     "name": "stdout",
     "output_type": "stream",
     "text": [
      "14\n",
      "14\n",
      "14\n",
      "14\n",
      "14\n"
     ]
    }
   ],
   "source": [
    "print(len(y_pred))\n",
    "print(len(sample_weight))\n",
    "print(len(t_losses))\n",
    "print(len(t_loss_weights))\n",
    "print(len(t_per_output_metrics))"
   ]
  },
  {
   "cell_type": "code",
   "execution_count": 10,
   "id": "716d7df8",
   "metadata": {},
   "outputs": [
    {
     "name": "stdout",
     "output_type": "stream",
     "text": [
      "[12 15 18]\n"
     ]
    }
   ],
   "source": [
    "import tensorflow as tf\n",
    "\n",
    "# Define three input tensors\n",
    "tensor1 = tf.constant([1, 2, 3])\n",
    "tensor2 = tf.constant([4, 5, 6])\n",
    "tensor3 = tf.constant([7, 8, 9])\n",
    "\n",
    "# Perform element-wise addition using tf.add_n()\n",
    "result = tf.add_n([tensor1, tensor2, tensor3])\n",
    "\n",
    "# Print the result\n",
    "print(result.numpy())"
   ]
  },
  {
   "cell_type": "code",
   "execution_count": 13,
   "id": "54fba1a4",
   "metadata": {},
   "outputs": [],
   "source": [
    "import tensorflow as tf\n",
    "\n",
    "# Create a tensor with placeholder-like behavior initialized with 0\n",
    "placeholder_tensor = tf.Variable(0, dtype=tf.float32, name='Placeholder')"
   ]
  },
  {
   "cell_type": "code",
   "execution_count": 14,
   "id": "d4039ddc",
   "metadata": {},
   "outputs": [
    {
     "data": {
      "text/plain": [
       "<tf.Variable 'Placeholder:0' shape=() dtype=float32, numpy=0.0>"
      ]
     },
     "execution_count": 14,
     "metadata": {},
     "output_type": "execute_result"
    }
   ],
   "source": [
    "placeholder_tensor"
   ]
  },
  {
   "cell_type": "code",
   "execution_count": null,
   "id": "a0807446",
   "metadata": {},
   "outputs": [],
   "source": []
  }
 ],
 "metadata": {
  "kernelspec": {
   "display_name": "Python 3 (ipykernel)",
   "language": "python",
   "name": "python3"
  },
  "language_info": {
   "codemirror_mode": {
    "name": "ipython",
    "version": 3
   },
   "file_extension": ".py",
   "mimetype": "text/x-python",
   "name": "python",
   "nbconvert_exporter": "python",
   "pygments_lexer": "ipython3",
   "version": "3.10.7"
  }
 },
 "nbformat": 4,
 "nbformat_minor": 5
}
