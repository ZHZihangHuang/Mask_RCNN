{
 "cells": [
  {
   "cell_type": "code",
   "execution_count": 1,
   "id": "b3d8f71d",
   "metadata": {},
   "outputs": [],
   "source": [
    "import os\n",
    "import sys\n",
    "import random\n",
    "import math\n",
    "import re\n",
    "import time\n",
    "import numpy as np\n",
    "import cv2\n",
    "import matplotlib\n",
    "import matplotlib.pyplot as plt\n",
    "\n",
    "# Root directory of the project\n",
    "ROOT_DIR = os.path.abspath(\"../../\")\n",
    "\n",
    "# Import Mask RCNN\n",
    "sys.path.append(ROOT_DIR)  # To find local version of the library\n",
    "from mrcnn.config import Config\n",
    "from mrcnn import utils\n",
    "import mrcnn.model as modellib\n",
    "from mrcnn import visualize\n",
    "from mrcnn.model import log\n",
    "\n",
    "%matplotlib inline \n",
    "\n",
    "# Directory to save logs and trained model\n",
    "MODEL_DIR = os.path.join(ROOT_DIR, \"logs\")\n",
    "\n",
    "# Local path to trained weights file\n",
    "COCO_MODEL_PATH = os.path.join(ROOT_DIR, \"mask_rcnn_coco.h5\")\n",
    "# Download COCO trained weights from Releases if needed\n",
    "if not os.path.exists(COCO_MODEL_PATH):\n",
    "    utils.download_trained_weights(COCO_MODEL_PATH)"
   ]
  },
  {
   "cell_type": "code",
   "execution_count": 2,
   "id": "3af94c86",
   "metadata": {},
   "outputs": [
    {
     "name": "stdout",
     "output_type": "stream",
     "text": [
      "\n",
      "Configurations:\n",
      "BACKBONE                       resnet101\n",
      "BACKBONE_STRIDES               [4, 8, 16, 32, 64]\n",
      "BATCH_SIZE                     8\n",
      "BBOX_STD_DEV                   [0.1 0.1 0.2 0.2]\n",
      "COMPUTE_BACKBONE_SHAPE         None\n",
      "DETECTION_MAX_INSTANCES        100\n",
      "DETECTION_MIN_CONFIDENCE       0.7\n",
      "DETECTION_NMS_THRESHOLD        0.3\n",
      "FPN_CLASSIF_FC_LAYERS_SIZE     1024\n",
      "GPU_COUNT                      1\n",
      "GRADIENT_CLIP_NORM             5.0\n",
      "IMAGES_PER_GPU                 8\n",
      "IMAGE_CHANNEL_COUNT            3\n",
      "IMAGE_MAX_DIM                  128\n",
      "IMAGE_META_SIZE                16\n",
      "IMAGE_MIN_DIM                  128\n",
      "IMAGE_MIN_SCALE                0\n",
      "IMAGE_RESIZE_MODE              square\n",
      "IMAGE_SHAPE                    [128 128   3]\n",
      "LEARNING_MOMENTUM              0.9\n",
      "LEARNING_RATE                  0.001\n",
      "LOSS_WEIGHTS                   {'rpn_class_loss': 1.0, 'rpn_bbox_loss': 1.0, 'mrcnn_class_loss': 1.0, 'mrcnn_bbox_loss': 1.0, 'mrcnn_mask_loss': 1.0}\n",
      "MASK_POOL_SIZE                 14\n",
      "MASK_SHAPE                     [28, 28]\n",
      "MAX_GT_INSTANCES               100\n",
      "MEAN_PIXEL                     [123.7 116.8 103.9]\n",
      "MINI_MASK_SHAPE                (56, 56)\n",
      "NAME                           shapes\n",
      "NUM_CLASSES                    4\n",
      "POOL_SIZE                      7\n",
      "POST_NMS_ROIS_INFERENCE        1000\n",
      "POST_NMS_ROIS_TRAINING         2000\n",
      "PRE_NMS_LIMIT                  6000\n",
      "ROI_POSITIVE_RATIO             0.33\n",
      "RPN_ANCHOR_RATIOS              [0.5, 1, 2]\n",
      "RPN_ANCHOR_SCALES              (8, 16, 32, 64, 128)\n",
      "RPN_ANCHOR_STRIDE              1\n",
      "RPN_BBOX_STD_DEV               [0.1 0.1 0.2 0.2]\n",
      "RPN_NMS_THRESHOLD              0.7\n",
      "RPN_TRAIN_ANCHORS_PER_IMAGE    256\n",
      "STEPS_PER_EPOCH                100\n",
      "TOP_DOWN_PYRAMID_SIZE          256\n",
      "TRAIN_BN                       False\n",
      "TRAIN_ROIS_PER_IMAGE           32\n",
      "USE_MINI_MASK                  True\n",
      "USE_RPN_ROIS                   True\n",
      "VALIDATION_STEPS               5\n",
      "WEIGHT_DECAY                   0.0001\n",
      "\n",
      "\n"
     ]
    }
   ],
   "source": [
    "class ShapesConfig(Config):\n",
    "    \"\"\"Configuration for training on the toy shapes dataset.\n",
    "    Derives from the base Config class and overrides values specific\n",
    "    to the toy shapes dataset.\n",
    "    \"\"\"\n",
    "    # Give the configuration a recognizable name\n",
    "    NAME = \"shapes\"\n",
    "\n",
    "    # Train on 1 GPU and 8 images per GPU. We can put multiple images on each\n",
    "    # GPU because the images are small. Batch size is 8 (GPUs * images/GPU).\n",
    "    GPU_COUNT = 1\n",
    "    IMAGES_PER_GPU = 8\n",
    "\n",
    "    # Number of classes (including background)\n",
    "    NUM_CLASSES = 1 + 3  # background + 3 shapes\n",
    "\n",
    "    # Use small images for faster training. Set the limits of the small side\n",
    "    # the large side, and that determines the image shape.\n",
    "    IMAGE_MIN_DIM = 128\n",
    "    IMAGE_MAX_DIM = 128\n",
    "\n",
    "    # Use smaller anchors because our image and objects are small\n",
    "    RPN_ANCHOR_SCALES = (8, 16, 32, 64, 128)  # anchor side in pixels\n",
    "\n",
    "    # Reduce training ROIs per image because the images are small and have\n",
    "    # few objects. Aim to allow ROI sampling to pick 33% positive ROIs.\n",
    "    TRAIN_ROIS_PER_IMAGE = 32\n",
    "\n",
    "    # Use a small epoch since the data is simple\n",
    "    STEPS_PER_EPOCH = 100\n",
    "\n",
    "    # use small validation steps since the epoch is small\n",
    "    VALIDATION_STEPS = 5\n",
    "    \n",
    "config = ShapesConfig()\n",
    "config.display()"
   ]
  },
  {
   "cell_type": "code",
   "execution_count": 3,
   "id": "d3607079",
   "metadata": {},
   "outputs": [],
   "source": [
    "def get_ax(rows=1, cols=1, size=8):\n",
    "    \"\"\"Return a Matplotlib Axes array to be used in\n",
    "    all visualizations in the notebook. Provide a\n",
    "    central point to control graph sizes.\n",
    "    \n",
    "    Change the default size attribute to control the size\n",
    "    of rendered images\n",
    "    \"\"\"\n",
    "    _, ax = plt.subplots(rows, cols, figsize=(size*cols, size*rows))\n",
    "    return ax"
   ]
  },
  {
   "cell_type": "code",
   "execution_count": 4,
   "id": "5a1ff277",
   "metadata": {},
   "outputs": [],
   "source": [
    "class ShapesDataset(utils.Dataset):\n",
    "    \"\"\"Generates the shapes synthetic dataset. The dataset consists of simple\n",
    "    shapes (triangles, squares, circles) placed randomly on a blank surface.\n",
    "    The images are generated on the fly. No file access required.\n",
    "    \"\"\"\n",
    "\n",
    "    def load_shapes(self, count, height, width):\n",
    "        \"\"\"Generate the requested number of synthetic images.\n",
    "        count: number of images to generate.\n",
    "        height, width: the size of the generated images.\n",
    "        \"\"\"\n",
    "        # Add classes\n",
    "        self.add_class(\"shapes\", 1, \"square\")\n",
    "        self.add_class(\"shapes\", 2, \"circle\")\n",
    "        self.add_class(\"shapes\", 3, \"triangle\")\n",
    "\n",
    "        # Add images\n",
    "        # Generate random specifications of images (i.e. color and\n",
    "        # list of shapes sizes and locations). This is more compact than\n",
    "        # actual images. Images are generated on the fly in load_image().\n",
    "        for i in range(count):\n",
    "            bg_color, shapes = self.random_image(height, width)\n",
    "            self.add_image(\"shapes\", image_id=i, path=None,\n",
    "                           width=width, height=height,\n",
    "                           bg_color=bg_color, shapes=shapes)\n",
    "\n",
    "    def load_image(self, image_id):\n",
    "        \"\"\"Generate an image from the specs of the given image ID.\n",
    "        Typically this function loads the image from a file, but\n",
    "        in this case it generates the image on the fly from the\n",
    "        specs in image_info.\n",
    "        \"\"\"\n",
    "        info = self.image_info[image_id]\n",
    "        bg_color = np.array(info['bg_color']).reshape([1, 1, 3])\n",
    "        image = np.ones([info['height'], info['width'], 3], dtype=np.uint8)\n",
    "        image = image * bg_color.astype(np.uint8)\n",
    "        for shape, color, dims in info['shapes']:\n",
    "            image = self.draw_shape(image, shape, dims, color)\n",
    "        return image\n",
    "\n",
    "    def image_reference(self, image_id):\n",
    "        \"\"\"Return the shapes data of the image.\"\"\"\n",
    "        info = self.image_info[image_id]\n",
    "        if info[\"source\"] == \"shapes\":\n",
    "            return info[\"shapes\"]\n",
    "        else:\n",
    "            super(self.__class__).image_reference(self, image_id)\n",
    "\n",
    "    def load_mask(self, image_id):\n",
    "        \"\"\"Generate instance masks for shapes of the given image ID.\n",
    "        \"\"\"\n",
    "        info = self.image_info[image_id]\n",
    "        shapes = info['shapes']\n",
    "        count = len(shapes)\n",
    "        mask = np.zeros([info['height'], info['width'], count], dtype=np.uint8)\n",
    "        for i, (shape, _, dims) in enumerate(info['shapes']):\n",
    "            mask[:, :, i:i+1] = self.draw_shape(mask[:, :, i:i+1].copy(),\n",
    "                                                shape, dims, 1)\n",
    "        # Handle occlusions\n",
    "        occlusion = np.logical_not(mask[:, :, -1]).astype(np.uint8)\n",
    "        for i in range(count-2, -1, -1):\n",
    "            mask[:, :, i] = mask[:, :, i] * occlusion\n",
    "            occlusion = np.logical_and(occlusion, np.logical_not(mask[:, :, i]))\n",
    "        # Map class names to class IDs.\n",
    "        class_ids = np.array([self.class_names.index(s[0]) for s in shapes])\n",
    "        return mask.astype(np.bool), class_ids.astype(np.int32)\n",
    "\n",
    "    def draw_shape(self, image, shape, dims, color):\n",
    "        \"\"\"Draws a shape from the given specs.\"\"\"\n",
    "        # Get the center x, y and the size s\n",
    "        x, y, s = dims\n",
    "        if shape == 'square':\n",
    "            cv2.rectangle(image, (x-s, y-s), (x+s, y+s), color, -1)\n",
    "        elif shape == \"circle\":\n",
    "            cv2.circle(image, (x, y), s, color, -1)\n",
    "        elif shape == \"triangle\":\n",
    "            points = np.array([[(x, y-s),\n",
    "                                (x-s/math.sin(math.radians(60)), y+s),\n",
    "                                (x+s/math.sin(math.radians(60)), y+s),\n",
    "                                ]], dtype=np.int32)\n",
    "            cv2.fillPoly(image, points, color)\n",
    "        return image\n",
    "\n",
    "    def random_shape(self, height, width):\n",
    "        \"\"\"Generates specifications of a random shape that lies within\n",
    "        the given height and width boundaries.\n",
    "        Returns a tuple of three valus:\n",
    "        * The shape name (square, circle, ...)\n",
    "        * Shape color: a tuple of 3 values, RGB.\n",
    "        * Shape dimensions: A tuple of values that define the shape size\n",
    "                            and location. Differs per shape type.\n",
    "        \"\"\"\n",
    "        # Shape\n",
    "        shape = random.choice([\"square\", \"circle\", \"triangle\"])\n",
    "        # Color\n",
    "        color = tuple([random.randint(0, 255) for _ in range(3)])\n",
    "        # Center x, y\n",
    "        buffer = 20\n",
    "        y = random.randint(buffer, height - buffer - 1)\n",
    "        x = random.randint(buffer, width - buffer - 1)\n",
    "        # Size\n",
    "        s = random.randint(buffer, height//4)\n",
    "        return shape, color, (x, y, s)\n",
    "\n",
    "    def random_image(self, height, width):\n",
    "        \"\"\"Creates random specifications of an image with multiple shapes.\n",
    "        Returns the background color of the image and a list of shape\n",
    "        specifications that can be used to draw the image.\n",
    "        \"\"\"\n",
    "        # Pick random background color\n",
    "        bg_color = np.array([random.randint(0, 255) for _ in range(3)])\n",
    "        # Generate a few random shapes and record their\n",
    "        # bounding boxes\n",
    "        shapes = []\n",
    "        boxes = []\n",
    "        N = random.randint(1, 4)\n",
    "        for _ in range(N):\n",
    "            shape, color, dims = self.random_shape(height, width)\n",
    "            shapes.append((shape, color, dims))\n",
    "            x, y, s = dims\n",
    "            boxes.append([y-s, x-s, y+s, x+s])\n",
    "        # Apply non-max suppression wit 0.3 threshold to avoid\n",
    "        # shapes covering each other\n",
    "        keep_ixs = utils.non_max_suppression(np.array(boxes), np.arange(N), 0.3)\n",
    "        shapes = [s for i, s in enumerate(shapes) if i in keep_ixs]\n",
    "        return bg_color, shapes"
   ]
  },
  {
   "cell_type": "code",
   "execution_count": 5,
   "id": "b78bed7a",
   "metadata": {},
   "outputs": [],
   "source": [
    "# Training dataset\n",
    "dataset_train = ShapesDataset()\n",
    "dataset_train.load_shapes(500, config.IMAGE_SHAPE[0], config.IMAGE_SHAPE[1])\n",
    "dataset_train.prepare()\n",
    "\n",
    "# Validation dataset\n",
    "dataset_val = ShapesDataset()\n",
    "dataset_val.load_shapes(50, config.IMAGE_SHAPE[0], config.IMAGE_SHAPE[1])\n",
    "dataset_val.prepare()"
   ]
  },
  {
   "cell_type": "code",
   "execution_count": 6,
   "id": "90a73acb",
   "metadata": {},
   "outputs": [
    {
     "name": "stderr",
     "output_type": "stream",
     "text": [
      "C:\\Users\\zhhua\\AppData\\Local\\Temp\\ipykernel_20196\\498919690.py:66: DeprecationWarning: `np.bool` is a deprecated alias for the builtin `bool`. To silence this warning, use `bool` by itself. Doing this will not modify any behavior and is safe. If you specifically wanted the numpy scalar type, use `np.bool_` here.\n",
      "Deprecated in NumPy 1.20; for more details and guidance: https://numpy.org/devdocs/release/1.20.0-notes.html#deprecations\n",
      "  return mask.astype(np.bool), class_ids.astype(np.int32)\n"
     ]
    },
    {
     "data": {
      "image/png": "[encoded data removed]",
      "text/plain": [
       "<Figure size 1400x500 with 5 Axes>"
      ]
     },
     "metadata": {},
     "output_type": "display_data"
    },
    {
     "data": {
      "image/png": "[encoded data removed]",
      "text/plain": [
       "<Figure size 1400x500 with 5 Axes>"
      ]
     },
     "metadata": {},
     "output_type": "display_data"
    },
    {
     "data": {
      "image/png": "[encoded data removed]",
      "text/plain": [
       "<Figure size 1400x500 with 5 Axes>"
      ]
     },
     "metadata": {},
     "output_type": "display_data"
    },
    {
     "data": {
      "image/png": "[encoded data removed]",
      "text/plain": [
       "<Figure size 1400x500 with 5 Axes>"
      ]
     },
     "metadata": {},
     "output_type": "display_data"
    }
   ],
   "source": [
    "# Load and display random samples\n",
    "image_ids = np.random.choice(dataset_train.image_ids, 4)\n",
    "for image_id in image_ids:\n",
    "    image = dataset_train.load_image(image_id)\n",
    "    mask, class_ids = dataset_train.load_mask(image_id)\n",
    "    visualize.display_top_masks(image, mask, class_ids, dataset_train.class_names)"
   ]
  },
  {
   "cell_type": "code",
   "execution_count": 7,
   "id": "52b24b34",
   "metadata": {},
   "outputs": [
    {
     "name": "stdout",
     "output_type": "stream",
     "text": [
      "x: Tensor(\"roi_align_classifier/truediv_1:0\", shape=(8, None, 1), dtype=float32)\n",
      "s: (8, None, 16)\n",
      "x: Tensor(\"roi_align_mask/truediv_1:0\", shape=(8, None, 1), dtype=float32)\n"
     ]
    }
   ],
   "source": [
    "# Create model in training mode\n",
    "model = modellib.MaskRCNN(mode=\"training\", config=config,\n",
    "                          model_dir=MODEL_DIR)"
   ]
  },
  {
   "cell_type": "code",
   "execution_count": 8,
   "id": "e472df31",
   "metadata": {},
   "outputs": [],
   "source": [
    "# Which weights to start with?\n",
    "init_with = \"coco\"  # imagenet, coco, or last\n",
    "\n",
    "if init_with == \"imagenet\":\n",
    "    model.load_weights(model.get_imagenet_weights(), by_name=True)\n",
    "elif init_with == \"coco\":\n",
    "    # Load weights trained on MS COCO, but skip layers that\n",
    "    # are different due to the different number of classes\n",
    "    # See README for instructions to download the COCO weights\n",
    "    model.load_weights(COCO_MODEL_PATH, by_name=True,\n",
    "                       exclude=[\"mrcnn_class_logits\", \"mrcnn_bbox_fc\", \n",
    "                                \"mrcnn_bbox\", \"mrcnn_mask\"])\n",
    "elif init_with == \"last\":\n",
    "    # Load the last model you trained and continue training\n",
    "    model.load_weights(model.find_last(), by_name=True)"
   ]
  },
  {
   "cell_type": "code",
   "execution_count": 9,
   "id": "328ebad9",
   "metadata": {},
   "outputs": [
    {
     "name": "stdout",
     "output_type": "stream",
     "text": [
      "\n",
      "Starting at epoch 0. LR=0.001\n",
      "\n",
      "Checkpoint Path: C:\\Users\\zhhua\\OneDrive\\Desktop\\PythonProgram\\CAT\\logs\\shapes20230610T1714\\mask_rcnn_shapes_{epoch:04d}.h5\n",
      "Selecting layers to train\n",
      "fpn_c5p5               (Conv2D)\n",
      "fpn_c4p4               (Conv2D)\n",
      "fpn_c3p3               (Conv2D)\n",
      "fpn_c2p2               (Conv2D)\n",
      "fpn_p5                 (Conv2D)\n",
      "fpn_p2                 (Conv2D)\n",
      "fpn_p3                 (Conv2D)\n",
      "fpn_p4                 (Conv2D)\n",
      "rpn_model              (Functional)\n",
      "mrcnn_mask_conv1       (TimeDistributed)\n",
      "mrcnn_mask_bn1         (TimeDistributed)\n",
      "mrcnn_mask_conv2       (TimeDistributed)\n",
      "mrcnn_mask_bn2         (TimeDistributed)\n",
      "mrcnn_class_conv1      (TimeDistributed)\n",
      "mrcnn_class_bn1        (TimeDistributed)\n",
      "mrcnn_mask_conv3       (TimeDistributed)\n",
      "mrcnn_mask_bn3         (TimeDistributed)\n",
      "mrcnn_class_conv2      (TimeDistributed)\n",
      "mrcnn_class_bn2        (TimeDistributed)\n",
      "mrcnn_mask_conv4       (TimeDistributed)\n",
      "mrcnn_mask_bn4         (TimeDistributed)\n",
      "mrcnn_bbox_fc          (TimeDistributed)\n",
      "mrcnn_mask_deconv      (TimeDistributed)\n",
      "mrcnn_class_logits     (TimeDistributed)\n",
      "mrcnn_mask             (TimeDistributed)\n",
      "loss: KerasTensor(type_spec=TensorSpec(shape=(), dtype=tf.float32, name=None), name='tf.math.multiply/Mul:0', description=\"created by layer 'tf.math.multiply'\")\n",
      "symbolic_loss: KerasTensor(type_spec=TensorSpec(shape=(), dtype=tf.float32, name=None), name='tf.math.multiply/Mul:0', description=\"created by layer 'tf.math.multiply'\")\n",
      "remove_layer_idx: []\n",
      "loss: KerasTensor(type_spec=TensorSpec(shape=(), dtype=tf.float32, name=None), name='tf.math.multiply_1/Mul:0', description=\"created by layer 'tf.math.multiply_1'\")\n",
      "symbolic_loss: KerasTensor(type_spec=TensorSpec(shape=(), dtype=tf.float32, name=None), name='tf.math.multiply_1/Mul:0', description=\"created by layer 'tf.math.multiply_1'\")\n",
      "remove_layer_idx: []\n",
      "tf.add_n(reg_losses): tf.Tensor(1.5414164e-06, shape=(), dtype=float32)\n",
      "symbolic_loss: KerasTensor(type_spec=TensorSpec(shape=(), dtype=tf.float32, name=None), description=\"created by layer 'input_1'\")\n",
      "The caller function is 'placeholder' in module 'tensorflow.python.ops.gen_array_ops'\n",
      "inputs: []\n",
      "output_structure: [None]'\n",
      "g: FuncGraph(name=add_loss_2_scratch_graph, id=1455351153232)'\n",
      "op: name: \"Placeholder\"\n",
      "op: \"Placeholder\"\n",
      "attr {\n",
      "  key: \"dtype\"\n",
      "  value {\n",
      "    type: DT_FLOAT\n",
      "  }\n",
      "}\n",
      "attr {\n",
      "  key: \"shape\"\n",
      "  value {\n",
      "    shape {\n",
      "    }\n",
      "  }\n",
      "}\n",
      "'\n",
      "before outputs: [<tf.Tensor 'Placeholder:0' shape=() dtype=float32>]'\n",
      "The caller function is 'placeholder' in module 'tensorflow.python.ops.array_ops'\n",
      "name: None\n",
      "remove_layer_idx: []\n"
     ]
    },
    {
     "name": "stderr",
     "output_type": "stream",
     "text": [
      "C:\\Users\\zhhua\\OneDrive\\Desktop\\PythonProgram\\CAT\\Mask_R_CNN\\Mask_RCNN\\keras\\optimizers\\optimizer_v2\\gradient_descent.py:111: UserWarning: The `lr` argument is deprecated, use `learning_rate` instead.\n",
      "  super().__init__(name, **kwargs)\n",
      "C:\\Users\\zhhua\\AppData\\Local\\Temp\\ipykernel_20196\\498919690.py:66: DeprecationWarning: `np.bool` is a deprecated alias for the builtin `bool`. To silence this warning, use `bool` by itself. Doing this will not modify any behavior and is safe. If you specifically wanted the numpy scalar type, use `np.bool_` here.\n",
      "Deprecated in NumPy 1.20; for more details and guidance: https://numpy.org/devdocs/release/1.20.0-notes.html#deprecations\n",
      "  return mask.astype(np.bool), class_ids.astype(np.int32)\n",
      "C:\\Users\\zhhua\\AppData\\Local\\Temp\\ipykernel_20196\\498919690.py:66: DeprecationWarning: `np.bool` is a deprecated alias for the builtin `bool`. To silence this warning, use `bool` by itself. Doing this will not modify any behavior and is safe. If you specifically wanted the numpy scalar type, use `np.bool_` here.\n",
      "Deprecated in NumPy 1.20; for more details and guidance: https://numpy.org/devdocs/release/1.20.0-notes.html#deprecations\n",
      "  return mask.astype(np.bool), class_ids.astype(np.int32)\n",
      "C:\\Users\\zhhua\\AppData\\Local\\Temp\\ipykernel_20196\\498919690.py:66: DeprecationWarning: `np.bool` is a deprecated alias for the builtin `bool`. To silence this warning, use `bool` by itself. Doing this will not modify any behavior and is safe. If you specifically wanted the numpy scalar type, use `np.bool_` here.\n",
      "Deprecated in NumPy 1.20; for more details and guidance: https://numpy.org/devdocs/release/1.20.0-notes.html#deprecations\n",
      "  return mask.astype(np.bool), class_ids.astype(np.int32)\n",
      "C:\\Users\\zhhua\\AppData\\Local\\Temp\\ipykernel_20196\\498919690.py:66: DeprecationWarning: `np.bool` is a deprecated alias for the builtin `bool`. To silence this warning, use `bool` by itself. Doing this will not modify any behavior and is safe. If you specifically wanted the numpy scalar type, use `np.bool_` here.\n",
      "Deprecated in NumPy 1.20; for more details and guidance: https://numpy.org/devdocs/release/1.20.0-notes.html#deprecations\n",
      "  return mask.astype(np.bool), class_ids.astype(np.int32)\n",
      "C:\\Users\\zhhua\\AppData\\Local\\Temp\\ipykernel_20196\\498919690.py:66: DeprecationWarning: `np.bool` is a deprecated alias for the builtin `bool`. To silence this warning, use `bool` by itself. Doing this will not modify any behavior and is safe. If you specifically wanted the numpy scalar type, use `np.bool_` here.\n",
      "Deprecated in NumPy 1.20; for more details and guidance: https://numpy.org/devdocs/release/1.20.0-notes.html#deprecations\n",
      "  return mask.astype(np.bool), class_ids.astype(np.int32)\n",
      "C:\\Users\\zhhua\\AppData\\Local\\Temp\\ipykernel_20196\\498919690.py:66: DeprecationWarning: `np.bool` is a deprecated alias for the builtin `bool`. To silence this warning, use `bool` by itself. Doing this will not modify any behavior and is safe. If you specifically wanted the numpy scalar type, use `np.bool_` here.\n",
      "Deprecated in NumPy 1.20; for more details and guidance: https://numpy.org/devdocs/release/1.20.0-notes.html#deprecations\n",
      "  return mask.astype(np.bool), class_ids.astype(np.int32)\n",
      "C:\\Users\\zhhua\\AppData\\Local\\Temp\\ipykernel_20196\\498919690.py:66: DeprecationWarning: `np.bool` is a deprecated alias for the builtin `bool`. To silence this warning, use `bool` by itself. Doing this will not modify any behavior and is safe. If you specifically wanted the numpy scalar type, use `np.bool_` here.\n",
      "Deprecated in NumPy 1.20; for more details and guidance: https://numpy.org/devdocs/release/1.20.0-notes.html#deprecations\n",
      "  return mask.astype(np.bool), class_ids.astype(np.int32)\n",
      "C:\\Users\\zhhua\\AppData\\Local\\Temp\\ipykernel_20196\\498919690.py:66: DeprecationWarning: `np.bool` is a deprecated alias for the builtin `bool`. To silence this warning, use `bool` by itself. Doing this will not modify any behavior and is safe. If you specifically wanted the numpy scalar type, use `np.bool_` here.\n",
      "Deprecated in NumPy 1.20; for more details and guidance: https://numpy.org/devdocs/release/1.20.0-notes.html#deprecations\n",
      "  return mask.astype(np.bool), class_ids.astype(np.int32)\n"
     ]
    },
    {
     "name": "stdout",
     "output_type": "stream",
     "text": [
      "WARNING:tensorflow:Model failed to serialize as JSON. Ignoring... \n",
      "Layer ProposalLayer has arguments ['proposal_count', 'nms_threshold', 'config']\n",
      "in `__init__` and therefore must override `get_config()`.\n",
      "\n",
      "Example:\n",
      "\n",
      "class CustomLayer(keras.layers.Layer):\n",
      "    def __init__(self, arg1, arg2):\n",
      "        super().__init__()\n",
      "        self.arg1 = arg1\n",
      "        self.arg2 = arg2\n",
      "\n",
      "    def get_config(self):\n",
      "        config = super().get_config()\n",
      "        config.update({\n",
      "            \"arg1\": self.arg1,\n",
      "            \"arg2\": self.arg2,\n",
      "        })\n",
      "        return config\n",
      "x: Tensor(\"roi_align_mask/truediv_1:0\", shape=(8, None, 1), dtype=float32)\n",
      "x: Tensor(\"roi_align_classifier/truediv_1:0\", shape=(8, None, 1), dtype=float32)\n",
      "WARNING:tensorflow:Gradients do not exist for variables ['mrcnn_mask_conv1/kernel:0', 'mrcnn_mask_conv1/bias:0', 'mrcnn_mask_bn1/gamma:0', 'mrcnn_mask_bn1/beta:0', 'mrcnn_mask_conv2/kernel:0', 'mrcnn_mask_conv2/bias:0', 'mrcnn_mask_bn2/gamma:0', 'mrcnn_mask_bn2/beta:0', 'mrcnn_class_conv1/kernel:0', 'mrcnn_class_conv1/bias:0', 'mrcnn_class_bn1/gamma:0', 'mrcnn_class_bn1/beta:0', 'mrcnn_mask_conv3/kernel:0', 'mrcnn_mask_conv3/bias:0', 'mrcnn_mask_bn3/gamma:0', 'mrcnn_mask_bn3/beta:0', 'mrcnn_class_conv2/kernel:0', 'mrcnn_class_conv2/bias:0', 'mrcnn_class_bn2/gamma:0', 'mrcnn_class_bn2/beta:0', 'mrcnn_mask_conv4/kernel:0', 'mrcnn_mask_conv4/bias:0', 'mrcnn_mask_bn4/gamma:0', 'mrcnn_mask_bn4/beta:0', 'mrcnn_bbox_fc/kernel:0', 'mrcnn_bbox_fc/bias:0', 'mrcnn_mask_deconv/kernel:0', 'mrcnn_mask_deconv/bias:0', 'mrcnn_class_logits/kernel:0', 'mrcnn_class_logits/bias:0', 'mrcnn_mask/kernel:0', 'mrcnn_mask/bias:0'] when minimizing the loss. If you're using `model.compile()`, did you forget to provide a `loss` argument?\n",
      "x: Tensor(\"roi_align_mask/truediv_1:0\", shape=(8, None, 1), dtype=float32)\n",
      "x: Tensor(\"roi_align_classifier/truediv_1:0\", shape=(8, None, 1), dtype=float32)\n",
      "WARNING:tensorflow:Gradients do not exist for variables ['mrcnn_mask_conv1/kernel:0', 'mrcnn_mask_conv1/bias:0', 'mrcnn_mask_bn1/gamma:0', 'mrcnn_mask_bn1/beta:0', 'mrcnn_mask_conv2/kernel:0', 'mrcnn_mask_conv2/bias:0', 'mrcnn_mask_bn2/gamma:0', 'mrcnn_mask_bn2/beta:0', 'mrcnn_class_conv1/kernel:0', 'mrcnn_class_conv1/bias:0', 'mrcnn_class_bn1/gamma:0', 'mrcnn_class_bn1/beta:0', 'mrcnn_mask_conv3/kernel:0', 'mrcnn_mask_conv3/bias:0', 'mrcnn_mask_bn3/gamma:0', 'mrcnn_mask_bn3/beta:0', 'mrcnn_class_conv2/kernel:0', 'mrcnn_class_conv2/bias:0', 'mrcnn_class_bn2/gamma:0', 'mrcnn_class_bn2/beta:0', 'mrcnn_mask_conv4/kernel:0', 'mrcnn_mask_conv4/bias:0', 'mrcnn_mask_bn4/gamma:0', 'mrcnn_mask_bn4/beta:0', 'mrcnn_bbox_fc/kernel:0', 'mrcnn_bbox_fc/bias:0', 'mrcnn_mask_deconv/kernel:0', 'mrcnn_mask_deconv/bias:0', 'mrcnn_class_logits/kernel:0', 'mrcnn_class_logits/bias:0', 'mrcnn_mask/kernel:0', 'mrcnn_mask/bias:0'] when minimizing the loss. If you're using `model.compile()`, did you forget to provide a `loss` argument?\n"
     ]
    },
    {
     "name": "stderr",
     "output_type": "stream",
     "text": [
      "C:\\Users\\zhhua\\OneDrive\\Desktop\\PythonProgram\\CAT\\Mask_R_CNN\\Mask_RCNN\\mrcnn\\model.py:2437: SyntaxWarning: \"is\" with a literal. Did you mean \"==\"?\n",
      "  if os.name is 'nt':\n",
      "C:\\Users\\zhhua\\OneDrive\\Desktop\\PythonProgram\\CAT\\Mask_R_CNN\\Mask_RCNN\\mrcnn\\model.py:2437: SyntaxWarning: \"is\" with a literal. Did you mean \"==\"?\n",
      "  if os.name is 'nt':\n"
     ]
    },
    {
     "ename": "TypeError",
     "evalue": "<tf.Tensor 'Placeholder:0' shape=() dtype=float32> is out of scope and cannot be used here. Use return values, explicit Python locals or TensorFlow collections to access it.\nPlease see https://www.tensorflow.org/guide/function#all_outputs_of_a_tffunction_must_be_return_values for more information.\n\n<tf.Tensor 'Placeholder:0' shape=() dtype=float32> was defined here:\n    File \"C:\\Users\\zhhua\\AppData\\Local\\Programs\\Python\\Python310\\lib\\runpy.py\", line 196, in _run_module_as_main\n      return _run_code(code, main_globals, None,\n    File \"C:\\Users\\zhhua\\AppData\\Local\\Programs\\Python\\Python310\\lib\\runpy.py\", line 86, in _run_code\n      exec(code, run_globals)\n    File \"C:\\Users\\zhhua\\AppData\\Local\\Programs\\Python\\Python310\\lib\\site-packages\\ipykernel_launcher.py\", line 17, in <module>\n      app.launch_new_instance()\n    File \"C:\\Users\\zhhua\\AppData\\Local\\Programs\\Python\\Python310\\lib\\site-packages\\traitlets\\config\\application.py\", line 978, in launch_instance\n      app.start()\n    File \"C:\\Users\\zhhua\\AppData\\Local\\Programs\\Python\\Python310\\lib\\site-packages\\ipykernel\\kernelapp.py\", line 712, in start\n      self.io_loop.start()\n    File \"C:\\Users\\zhhua\\AppData\\Local\\Programs\\Python\\Python310\\lib\\site-packages\\tornado\\platform\\asyncio.py\", line 215, in start\n      self.asyncio_loop.run_forever()\n    File \"C:\\Users\\zhhua\\AppData\\Local\\Programs\\Python\\Python310\\lib\\asyncio\\base_events.py\", line 600, in run_forever\n      self._run_once()\n    File \"C:\\Users\\zhhua\\AppData\\Local\\Programs\\Python\\Python310\\lib\\asyncio\\base_events.py\", line 1896, in _run_once\n      handle._run()\n    File \"C:\\Users\\zhhua\\AppData\\Local\\Programs\\Python\\Python310\\lib\\asyncio\\events.py\", line 80, in _run\n      self._context.run(self._callback, *self._args)\n    File \"C:\\Users\\zhhua\\AppData\\Local\\Programs\\Python\\Python310\\lib\\site-packages\\ipykernel\\kernelbase.py\", line 510, in dispatch_queue\n      await self.process_one()\n    File \"C:\\Users\\zhhua\\AppData\\Local\\Programs\\Python\\Python310\\lib\\site-packages\\ipykernel\\kernelbase.py\", line 499, in process_one\n      await dispatch(*args)\n    File \"C:\\Users\\zhhua\\AppData\\Local\\Programs\\Python\\Python310\\lib\\site-packages\\ipykernel\\kernelbase.py\", line 406, in dispatch_shell\n      await result\n    File \"C:\\Users\\zhhua\\AppData\\Local\\Programs\\Python\\Python310\\lib\\site-packages\\ipykernel\\kernelbase.py\", line 730, in execute_request\n      reply_content = await reply_content\n    File \"C:\\Users\\zhhua\\AppData\\Local\\Programs\\Python\\Python310\\lib\\site-packages\\ipykernel\\ipkernel.py\", line 383, in do_execute\n      res = shell.run_cell(\n    File \"C:\\Users\\zhhua\\AppData\\Local\\Programs\\Python\\Python310\\lib\\site-packages\\ipykernel\\zmqshell.py\", line 528, in run_cell\n      return super().run_cell(*args, **kwargs)\n    File \"C:\\Users\\zhhua\\AppData\\Local\\Programs\\Python\\Python310\\lib\\site-packages\\IPython\\core\\interactiveshell.py\", line 2885, in run_cell\n      result = self._run_cell(\n    File \"C:\\Users\\zhhua\\AppData\\Local\\Programs\\Python\\Python310\\lib\\site-packages\\IPython\\core\\interactiveshell.py\", line 2940, in _run_cell\n      return runner(coro)\n    File \"C:\\Users\\zhhua\\AppData\\Local\\Programs\\Python\\Python310\\lib\\site-packages\\IPython\\core\\async_helpers.py\", line 129, in _pseudo_sync_runner\n      coro.send(None)\n    File \"C:\\Users\\zhhua\\AppData\\Local\\Programs\\Python\\Python310\\lib\\site-packages\\IPython\\core\\interactiveshell.py\", line 3139, in run_cell_async\n      has_raised = await self.run_ast_nodes(code_ast.body, cell_name,\n    File \"C:\\Users\\zhhua\\AppData\\Local\\Programs\\Python\\Python310\\lib\\site-packages\\IPython\\core\\interactiveshell.py\", line 3318, in run_ast_nodes\n      if await self.run_code(code, result, async_=asy):\n    File \"C:\\Users\\zhhua\\AppData\\Local\\Programs\\Python\\Python310\\lib\\site-packages\\IPython\\core\\interactiveshell.py\", line 3378, in run_code\n      exec(code_obj, self.user_global_ns, self.user_ns)\n    File \"C:\\Users\\zhhua\\AppData\\Local\\Temp\\ipykernel_20196\\2998809942.py\", line 5, in <module>\n      model.train(dataset_train, dataset_val,\n    File \"C:\\Users\\zhhua\\OneDrive\\Desktop\\PythonProgram\\CAT\\Mask_R_CNN\\Mask_RCNN\\mrcnn\\model.py\", line 2432, in train\n      self.compile(learning_rate, self.config.LEARNING_MOMENTUM)\n    File \"C:\\Users\\zhhua\\OneDrive\\Desktop\\PythonProgram\\CAT\\Mask_R_CNN\\Mask_RCNN\\mrcnn\\model.py\", line 2261, in compile\n      self.keras_model.add_loss(KL.Input(tensor=tf.add_n(reg_losses)))\n    File \"C:\\Users\\zhhua\\OneDrive\\Desktop\\PythonProgram\\CAT\\Mask_R_CNN\\Mask_RCNN\\keras\\engine\\base_layer.py\", line 1497, in add_loss\n      self._graph_network_add_loss(symbolic_loss)\n    File \"C:\\Users\\zhhua\\OneDrive\\Desktop\\PythonProgram\\CAT\\Mask_R_CNN\\Mask_RCNN\\keras\\engine\\functional.py\", line 1017, in _graph_network_add_loss\n      add_loss_layer(symbolic_loss)\n    File \"C:\\Users\\zhhua\\OneDrive\\Desktop\\PythonProgram\\CAT\\Mask_R_CNN\\Mask_RCNN\\keras\\utils\\traceback_utils.py\", line 65, in error_handler\n      return fn(*args, **kwargs)\n    File \"C:\\Users\\zhhua\\OneDrive\\Desktop\\PythonProgram\\CAT\\Mask_R_CNN\\Mask_RCNN\\keras\\engine\\base_layer.py\", line 1011, in __call__\n      return self._functional_construction_call(\n    File \"C:\\Users\\zhhua\\OneDrive\\Desktop\\PythonProgram\\CAT\\Mask_R_CNN\\Mask_RCNN\\keras\\engine\\base_layer.py\", line 2499, in _functional_construction_call\n      outputs = self._keras_tensor_symbolic_call(\n    File \"C:\\Users\\zhhua\\OneDrive\\Desktop\\PythonProgram\\CAT\\Mask_R_CNN\\Mask_RCNN\\keras\\engine\\base_layer.py\", line 2346, in _keras_tensor_symbolic_call\n      return self._infer_output_signature(\n    File \"C:\\Users\\zhhua\\OneDrive\\Desktop\\PythonProgram\\CAT\\Mask_R_CNN\\Mask_RCNN\\keras\\engine\\base_layer.py\", line 2382, in _infer_output_signature\n      inputs = tf.nest.map_structure(\n    File \"C:\\Users\\zhhua\\OneDrive\\Desktop\\PythonProgram\\CAT\\Mask_R_CNN\\Mask_RCNN\\tensorflow\\python\\util\\nest.py\", line 917, in map_structure\n      structure[0], [func(*x) for x in entries],\n    File \"C:\\Users\\zhhua\\OneDrive\\Desktop\\PythonProgram\\CAT\\Mask_R_CNN\\Mask_RCNN\\tensorflow\\python\\util\\nest.py\", line 917, in <listcomp>\n      structure[0], [func(*x) for x in entries],\n    File \"C:\\Users\\zhhua\\OneDrive\\Desktop\\PythonProgram\\CAT\\Mask_R_CNN\\Mask_RCNN\\keras\\engine\\keras_tensor.py\", line 657, in keras_tensor_to_placeholder\n      return x._to_placeholder()\n    File \"C:\\Users\\zhhua\\OneDrive\\Desktop\\PythonProgram\\CAT\\Mask_R_CNN\\Mask_RCNN\\keras\\engine\\keras_tensor.py\", line 242, in _to_placeholder\n      return tf.nest.map_structure(\n    File \"C:\\Users\\zhhua\\OneDrive\\Desktop\\PythonProgram\\CAT\\Mask_R_CNN\\Mask_RCNN\\tensorflow\\python\\util\\nest.py\", line 917, in map_structure\n      structure[0], [func(*x) for x in entries],\n    File \"C:\\Users\\zhhua\\OneDrive\\Desktop\\PythonProgram\\CAT\\Mask_R_CNN\\Mask_RCNN\\tensorflow\\python\\util\\nest.py\", line 917, in <listcomp>\n      structure[0], [func(*x) for x in entries],\n    File \"C:\\Users\\zhhua\\OneDrive\\Desktop\\PythonProgram\\CAT\\Mask_R_CNN\\Mask_RCNN\\keras\\engine\\keras_tensor.py\", line 240, in component_to_placeholder\n      return tf.compat.v1.placeholder(component.dtype, component.shape)\n    File \"C:\\Users\\zhhua\\OneDrive\\Desktop\\PythonProgram\\CAT\\Mask_R_CNN\\Mask_RCNN\\tensorflow\\python\\ops\\array_ops.py\", line 3350, in placeholder\n      return gen_array_ops.placeholder(dtype=dtype, shape=shape, name=name)\n    File \"C:\\Users\\zhhua\\OneDrive\\Desktop\\PythonProgram\\CAT\\Mask_R_CNN\\Mask_RCNN\\tensorflow\\python\\ops\\gen_array_ops.py\", line 6897, in placeholder\n      _, placeholder_g, _op, _outputs = _op_def_library._apply_op_helper(\n    File \"C:\\Users\\zhhua\\OneDrive\\Desktop\\PythonProgram\\CAT\\Mask_R_CNN\\Mask_RCNN\\tensorflow\\python\\framework\\op_def_library.py\", line 805, in _apply_op_helper\n      op = g._create_op_internal(op_type_name, inputs, dtypes=None,\n    File \"C:\\Users\\zhhua\\OneDrive\\Desktop\\PythonProgram\\CAT\\Mask_R_CNN\\Mask_RCNN\\tensorflow\\python\\framework\\func_graph.py\", line 745, in _create_op_internal\n      return super(FuncGraph, self)._create_op_internal(  # pylint: disable=protected-access\n    File \"C:\\Users\\zhhua\\OneDrive\\Desktop\\PythonProgram\\CAT\\Mask_R_CNN\\Mask_RCNN\\tensorflow\\python\\framework\\ops.py\", line 3821, in _create_op_internal\n      ret = Operation(\n\nThe tensor <tf.Tensor 'Placeholder:0' shape=() dtype=float32> cannot be accessed from here, because it was defined in FuncGraph(name=add_loss_2_scratch_graph, id=1455351153232), which is out of scope.",
     "output_type": "error",
     "traceback": [
      "\u001b[1;31m---------------------------------------------------------------------------\u001b[0m",
      "\u001b[1;31mTypeError\u001b[0m                                 Traceback (most recent call last)",
      "Cell \u001b[1;32mIn [9], line 5\u001b[0m\n\u001b[0;32m      1\u001b[0m \u001b[38;5;66;03m# Train the head branches\u001b[39;00m\n\u001b[0;32m      2\u001b[0m \u001b[38;5;66;03m# Passing layers=\"heads\" freezes all layers except the head\u001b[39;00m\n\u001b[0;32m      3\u001b[0m \u001b[38;5;66;03m# layers. You can also pass a regular expression to select\u001b[39;00m\n\u001b[0;32m      4\u001b[0m \u001b[38;5;66;03m# which layers to train by name pattern.\u001b[39;00m\n\u001b[1;32m----> 5\u001b[0m \u001b[43mmodel\u001b[49m\u001b[38;5;241;43m.\u001b[39;49m\u001b[43mtrain\u001b[49m\u001b[43m(\u001b[49m\u001b[43mdataset_train\u001b[49m\u001b[43m,\u001b[49m\u001b[43m \u001b[49m\u001b[43mdataset_val\u001b[49m\u001b[43m,\u001b[49m\u001b[43m \u001b[49m\n\u001b[0;32m      6\u001b[0m \u001b[43m            \u001b[49m\u001b[43mlearning_rate\u001b[49m\u001b[38;5;241;43m=\u001b[39;49m\u001b[43mconfig\u001b[49m\u001b[38;5;241;43m.\u001b[39;49m\u001b[43mLEARNING_RATE\u001b[49m\u001b[43m,\u001b[49m\u001b[43m \u001b[49m\n\u001b[0;32m      7\u001b[0m \u001b[43m            \u001b[49m\u001b[43mepochs\u001b[49m\u001b[38;5;241;43m=\u001b[39;49m\u001b[38;5;241;43m1\u001b[39;49m\u001b[43m,\u001b[49m\u001b[43m \u001b[49m\n\u001b[0;32m      8\u001b[0m \u001b[43m            \u001b[49m\u001b[43mlayers\u001b[49m\u001b[38;5;241;43m=\u001b[39;49m\u001b[38;5;124;43m'\u001b[39;49m\u001b[38;5;124;43mheads\u001b[39;49m\u001b[38;5;124;43m'\u001b[39;49m\u001b[43m)\u001b[49m\n",
      "File \u001b[1;32m~\\OneDrive\\Desktop\\PythonProgram\\CAT\\Mask_R_CNN\\Mask_RCNN\\mrcnn\\model.py:2442\u001b[0m, in \u001b[0;36mMaskRCNN.train\u001b[1;34m(self, train_dataset, val_dataset, learning_rate, epochs, layers, augmentation, custom_callbacks, no_augmentation_sources)\u001b[0m\n\u001b[0;32m   2439\u001b[0m \u001b[38;5;28;01melse\u001b[39;00m:\n\u001b[0;32m   2440\u001b[0m     workers \u001b[38;5;241m=\u001b[39m multiprocessing\u001b[38;5;241m.\u001b[39mcpu_count()\n\u001b[1;32m-> 2442\u001b[0m \u001b[38;5;28;43mself\u001b[39;49m\u001b[38;5;241;43m.\u001b[39;49m\u001b[43mkeras_model\u001b[49m\u001b[38;5;241;43m.\u001b[39;49m\u001b[43mfit\u001b[49m\u001b[43m(\u001b[49m\n\u001b[0;32m   2443\u001b[0m \u001b[43m    \u001b[49m\u001b[43mtrain_generator\u001b[49m\u001b[43m,\u001b[49m\n\u001b[0;32m   2444\u001b[0m \u001b[43m    \u001b[49m\u001b[43minitial_epoch\u001b[49m\u001b[38;5;241;43m=\u001b[39;49m\u001b[38;5;28;43mself\u001b[39;49m\u001b[38;5;241;43m.\u001b[39;49m\u001b[43mepoch\u001b[49m\u001b[43m,\u001b[49m\n\u001b[0;32m   2445\u001b[0m \u001b[43m    \u001b[49m\u001b[43mepochs\u001b[49m\u001b[38;5;241;43m=\u001b[39;49m\u001b[43mepochs\u001b[49m\u001b[43m,\u001b[49m\n\u001b[0;32m   2446\u001b[0m \u001b[43m    \u001b[49m\u001b[43msteps_per_epoch\u001b[49m\u001b[38;5;241;43m=\u001b[39;49m\u001b[38;5;28;43mself\u001b[39;49m\u001b[38;5;241;43m.\u001b[39;49m\u001b[43mconfig\u001b[49m\u001b[38;5;241;43m.\u001b[39;49m\u001b[43mSTEPS_PER_EPOCH\u001b[49m\u001b[43m,\u001b[49m\n\u001b[0;32m   2447\u001b[0m \u001b[43m    \u001b[49m\u001b[43mcallbacks\u001b[49m\u001b[38;5;241;43m=\u001b[39;49m\u001b[43mcallbacks\u001b[49m\u001b[43m,\u001b[49m\n\u001b[0;32m   2448\u001b[0m \u001b[43m    \u001b[49m\u001b[43mvalidation_data\u001b[49m\u001b[38;5;241;43m=\u001b[39;49m\u001b[43mval_generator\u001b[49m\u001b[43m,\u001b[49m\n\u001b[0;32m   2449\u001b[0m \u001b[43m    \u001b[49m\u001b[43mvalidation_steps\u001b[49m\u001b[38;5;241;43m=\u001b[39;49m\u001b[38;5;28;43mself\u001b[39;49m\u001b[38;5;241;43m.\u001b[39;49m\u001b[43mconfig\u001b[49m\u001b[38;5;241;43m.\u001b[39;49m\u001b[43mVALIDATION_STEPS\u001b[49m\u001b[43m,\u001b[49m\n\u001b[0;32m   2450\u001b[0m \u001b[43m    \u001b[49m\u001b[43mmax_queue_size\u001b[49m\u001b[38;5;241;43m=\u001b[39;49m\u001b[38;5;241;43m100\u001b[39;49m\u001b[43m,\u001b[49m\n\u001b[0;32m   2451\u001b[0m \u001b[43m    \u001b[49m\u001b[43mworkers\u001b[49m\u001b[38;5;241;43m=\u001b[39;49m\u001b[43mworkers\u001b[49m\u001b[43m,\u001b[49m\n\u001b[0;32m   2452\u001b[0m \u001b[43m    \u001b[49m\u001b[43muse_multiprocessing\u001b[49m\u001b[38;5;241;43m=\u001b[39;49m\u001b[38;5;28;43;01mTrue\u001b[39;49;00m\u001b[43m,\u001b[49m\n\u001b[0;32m   2453\u001b[0m \u001b[43m\u001b[49m\u001b[43m)\u001b[49m\n\u001b[0;32m   2454\u001b[0m \u001b[38;5;28mself\u001b[39m\u001b[38;5;241m.\u001b[39mepoch \u001b[38;5;241m=\u001b[39m \u001b[38;5;28mmax\u001b[39m(\u001b[38;5;28mself\u001b[39m\u001b[38;5;241m.\u001b[39mepoch, epochs)\n",
      "File \u001b[1;32m~\\OneDrive\\Desktop\\PythonProgram\\CAT\\Mask_R_CNN\\Mask_RCNN\\keras\\utils\\traceback_utils.py:70\u001b[0m, in \u001b[0;36mfilter_traceback.<locals>.error_handler\u001b[1;34m(*args, **kwargs)\u001b[0m\n\u001b[0;32m     67\u001b[0m     filtered_tb \u001b[38;5;241m=\u001b[39m _process_traceback_frames(e\u001b[38;5;241m.\u001b[39m__traceback__)\n\u001b[0;32m     68\u001b[0m     \u001b[38;5;66;03m# To get the full stack trace, call:\u001b[39;00m\n\u001b[0;32m     69\u001b[0m     \u001b[38;5;66;03m# `tf.debugging.disable_traceback_filtering()`\u001b[39;00m\n\u001b[1;32m---> 70\u001b[0m     \u001b[38;5;28;01mraise\u001b[39;00m e\u001b[38;5;241m.\u001b[39mwith_traceback(filtered_tb) \u001b[38;5;28;01mfrom\u001b[39;00m \u001b[38;5;28mNone\u001b[39m\n\u001b[0;32m     71\u001b[0m \u001b[38;5;28;01mfinally\u001b[39;00m:\n\u001b[0;32m     72\u001b[0m     \u001b[38;5;28;01mdel\u001b[39;00m filtered_tb\n",
      "File \u001b[1;32m~\\OneDrive\\Desktop\\PythonProgram\\CAT\\Mask_R_CNN\\Mask_RCNN\\tensorflow\\python\\eager\\execute.py:54\u001b[0m, in \u001b[0;36mquick_execute\u001b[1;34m(op_name, num_outputs, inputs, attrs, ctx, name)\u001b[0m\n\u001b[0;32m     52\u001b[0m \u001b[38;5;28;01mtry\u001b[39;00m:\n\u001b[0;32m     53\u001b[0m   ctx\u001b[38;5;241m.\u001b[39mensure_initialized()\n\u001b[1;32m---> 54\u001b[0m   tensors \u001b[38;5;241m=\u001b[39m pywrap_tfe\u001b[38;5;241m.\u001b[39mTFE_Py_Execute(ctx\u001b[38;5;241m.\u001b[39m_handle, device_name, op_name,\n\u001b[0;32m     55\u001b[0m                                       inputs, attrs, num_outputs)\n\u001b[0;32m     56\u001b[0m \u001b[38;5;28;01mexcept\u001b[39;00m core\u001b[38;5;241m.\u001b[39m_NotOkStatusException \u001b[38;5;28;01mas\u001b[39;00m e:\n\u001b[0;32m     57\u001b[0m   \u001b[38;5;28;01mif\u001b[39;00m name \u001b[38;5;129;01mis\u001b[39;00m \u001b[38;5;129;01mnot\u001b[39;00m \u001b[38;5;28;01mNone\u001b[39;00m:\n",
      "\u001b[1;31mTypeError\u001b[0m: <tf.Tensor 'Placeholder:0' shape=() dtype=float32> is out of scope and cannot be used here. Use return values, explicit Python locals or TensorFlow collections to access it.\nPlease see https://www.tensorflow.org/guide/function#all_outputs_of_a_tffunction_must_be_return_values for more information.\n\n<tf.Tensor 'Placeholder:0' shape=() dtype=float32> was defined here:\n    File \"C:\\Users\\zhhua\\AppData\\Local\\Programs\\Python\\Python310\\lib\\runpy.py\", line 196, in _run_module_as_main\n      return _run_code(code, main_globals, None,\n    File \"C:\\Users\\zhhua\\AppData\\Local\\Programs\\Python\\Python310\\lib\\runpy.py\", line 86, in _run_code\n      exec(code, run_globals)\n    File \"C:\\Users\\zhhua\\AppData\\Local\\Programs\\Python\\Python310\\lib\\site-packages\\ipykernel_launcher.py\", line 17, in <module>\n      app.launch_new_instance()\n    File \"C:\\Users\\zhhua\\AppData\\Local\\Programs\\Python\\Python310\\lib\\site-packages\\traitlets\\config\\application.py\", line 978, in launch_instance\n      app.start()\n    File \"C:\\Users\\zhhua\\AppData\\Local\\Programs\\Python\\Python310\\lib\\site-packages\\ipykernel\\kernelapp.py\", line 712, in start\n      self.io_loop.start()\n    File \"C:\\Users\\zhhua\\AppData\\Local\\Programs\\Python\\Python310\\lib\\site-packages\\tornado\\platform\\asyncio.py\", line 215, in start\n      self.asyncio_loop.run_forever()\n    File \"C:\\Users\\zhhua\\AppData\\Local\\Programs\\Python\\Python310\\lib\\asyncio\\base_events.py\", line 600, in run_forever\n      self._run_once()\n    File \"C:\\Users\\zhhua\\AppData\\Local\\Programs\\Python\\Python310\\lib\\asyncio\\base_events.py\", line 1896, in _run_once\n      handle._run()\n    File \"C:\\Users\\zhhua\\AppData\\Local\\Programs\\Python\\Python310\\lib\\asyncio\\events.py\", line 80, in _run\n      self._context.run(self._callback, *self._args)\n    File \"C:\\Users\\zhhua\\AppData\\Local\\Programs\\Python\\Python310\\lib\\site-packages\\ipykernel\\kernelbase.py\", line 510, in dispatch_queue\n      await self.process_one()\n    File \"C:\\Users\\zhhua\\AppData\\Local\\Programs\\Python\\Python310\\lib\\site-packages\\ipykernel\\kernelbase.py\", line 499, in process_one\n      await dispatch(*args)\n    File \"C:\\Users\\zhhua\\AppData\\Local\\Programs\\Python\\Python310\\lib\\site-packages\\ipykernel\\kernelbase.py\", line 406, in dispatch_shell\n      await result\n    File \"C:\\Users\\zhhua\\AppData\\Local\\Programs\\Python\\Python310\\lib\\site-packages\\ipykernel\\kernelbase.py\", line 730, in execute_request\n      reply_content = await reply_content\n    File \"C:\\Users\\zhhua\\AppData\\Local\\Programs\\Python\\Python310\\lib\\site-packages\\ipykernel\\ipkernel.py\", line 383, in do_execute\n      res = shell.run_cell(\n    File \"C:\\Users\\zhhua\\AppData\\Local\\Programs\\Python\\Python310\\lib\\site-packages\\ipykernel\\zmqshell.py\", line 528, in run_cell\n      return super().run_cell(*args, **kwargs)\n    File \"C:\\Users\\zhhua\\AppData\\Local\\Programs\\Python\\Python310\\lib\\site-packages\\IPython\\core\\interactiveshell.py\", line 2885, in run_cell\n      result = self._run_cell(\n    File \"C:\\Users\\zhhua\\AppData\\Local\\Programs\\Python\\Python310\\lib\\site-packages\\IPython\\core\\interactiveshell.py\", line 2940, in _run_cell\n      return runner(coro)\n    File \"C:\\Users\\zhhua\\AppData\\Local\\Programs\\Python\\Python310\\lib\\site-packages\\IPython\\core\\async_helpers.py\", line 129, in _pseudo_sync_runner\n      coro.send(None)\n    File \"C:\\Users\\zhhua\\AppData\\Local\\Programs\\Python\\Python310\\lib\\site-packages\\IPython\\core\\interactiveshell.py\", line 3139, in run_cell_async\n      has_raised = await self.run_ast_nodes(code_ast.body, cell_name,\n    File \"C:\\Users\\zhhua\\AppData\\Local\\Programs\\Python\\Python310\\lib\\site-packages\\IPython\\core\\interactiveshell.py\", line 3318, in run_ast_nodes\n      if await self.run_code(code, result, async_=asy):\n    File \"C:\\Users\\zhhua\\AppData\\Local\\Programs\\Python\\Python310\\lib\\site-packages\\IPython\\core\\interactiveshell.py\", line 3378, in run_code\n      exec(code_obj, self.user_global_ns, self.user_ns)\n    File \"C:\\Users\\zhhua\\AppData\\Local\\Temp\\ipykernel_20196\\2998809942.py\", line 5, in <module>\n      model.train(dataset_train, dataset_val,\n    File \"C:\\Users\\zhhua\\OneDrive\\Desktop\\PythonProgram\\CAT\\Mask_R_CNN\\Mask_RCNN\\mrcnn\\model.py\", line 2432, in train\n      self.compile(learning_rate, self.config.LEARNING_MOMENTUM)\n    File \"C:\\Users\\zhhua\\OneDrive\\Desktop\\PythonProgram\\CAT\\Mask_R_CNN\\Mask_RCNN\\mrcnn\\model.py\", line 2261, in compile\n      self.keras_model.add_loss(KL.Input(tensor=tf.add_n(reg_losses)))\n    File \"C:\\Users\\zhhua\\OneDrive\\Desktop\\PythonProgram\\CAT\\Mask_R_CNN\\Mask_RCNN\\keras\\engine\\base_layer.py\", line 1497, in add_loss\n      self._graph_network_add_loss(symbolic_loss)\n    File \"C:\\Users\\zhhua\\OneDrive\\Desktop\\PythonProgram\\CAT\\Mask_R_CNN\\Mask_RCNN\\keras\\engine\\functional.py\", line 1017, in _graph_network_add_loss\n      add_loss_layer(symbolic_loss)\n    File \"C:\\Users\\zhhua\\OneDrive\\Desktop\\PythonProgram\\CAT\\Mask_R_CNN\\Mask_RCNN\\keras\\utils\\traceback_utils.py\", line 65, in error_handler\n      return fn(*args, **kwargs)\n    File \"C:\\Users\\zhhua\\OneDrive\\Desktop\\PythonProgram\\CAT\\Mask_R_CNN\\Mask_RCNN\\keras\\engine\\base_layer.py\", line 1011, in __call__\n      return self._functional_construction_call(\n    File \"C:\\Users\\zhhua\\OneDrive\\Desktop\\PythonProgram\\CAT\\Mask_R_CNN\\Mask_RCNN\\keras\\engine\\base_layer.py\", line 2499, in _functional_construction_call\n      outputs = self._keras_tensor_symbolic_call(\n    File \"C:\\Users\\zhhua\\OneDrive\\Desktop\\PythonProgram\\CAT\\Mask_R_CNN\\Mask_RCNN\\keras\\engine\\base_layer.py\", line 2346, in _keras_tensor_symbolic_call\n      return self._infer_output_signature(\n    File \"C:\\Users\\zhhua\\OneDrive\\Desktop\\PythonProgram\\CAT\\Mask_R_CNN\\Mask_RCNN\\keras\\engine\\base_layer.py\", line 2382, in _infer_output_signature\n      inputs = tf.nest.map_structure(\n    File \"C:\\Users\\zhhua\\OneDrive\\Desktop\\PythonProgram\\CAT\\Mask_R_CNN\\Mask_RCNN\\tensorflow\\python\\util\\nest.py\", line 917, in map_structure\n      structure[0], [func(*x) for x in entries],\n    File \"C:\\Users\\zhhua\\OneDrive\\Desktop\\PythonProgram\\CAT\\Mask_R_CNN\\Mask_RCNN\\tensorflow\\python\\util\\nest.py\", line 917, in <listcomp>\n      structure[0], [func(*x) for x in entries],\n    File \"C:\\Users\\zhhua\\OneDrive\\Desktop\\PythonProgram\\CAT\\Mask_R_CNN\\Mask_RCNN\\keras\\engine\\keras_tensor.py\", line 657, in keras_tensor_to_placeholder\n      return x._to_placeholder()\n    File \"C:\\Users\\zhhua\\OneDrive\\Desktop\\PythonProgram\\CAT\\Mask_R_CNN\\Mask_RCNN\\keras\\engine\\keras_tensor.py\", line 242, in _to_placeholder\n      return tf.nest.map_structure(\n    File \"C:\\Users\\zhhua\\OneDrive\\Desktop\\PythonProgram\\CAT\\Mask_R_CNN\\Mask_RCNN\\tensorflow\\python\\util\\nest.py\", line 917, in map_structure\n      structure[0], [func(*x) for x in entries],\n    File \"C:\\Users\\zhhua\\OneDrive\\Desktop\\PythonProgram\\CAT\\Mask_R_CNN\\Mask_RCNN\\tensorflow\\python\\util\\nest.py\", line 917, in <listcomp>\n      structure[0], [func(*x) for x in entries],\n    File \"C:\\Users\\zhhua\\OneDrive\\Desktop\\PythonProgram\\CAT\\Mask_R_CNN\\Mask_RCNN\\keras\\engine\\keras_tensor.py\", line 240, in component_to_placeholder\n      return tf.compat.v1.placeholder(component.dtype, component.shape)\n    File \"C:\\Users\\zhhua\\OneDrive\\Desktop\\PythonProgram\\CAT\\Mask_R_CNN\\Mask_RCNN\\tensorflow\\python\\ops\\array_ops.py\", line 3350, in placeholder\n      return gen_array_ops.placeholder(dtype=dtype, shape=shape, name=name)\n    File \"C:\\Users\\zhhua\\OneDrive\\Desktop\\PythonProgram\\CAT\\Mask_R_CNN\\Mask_RCNN\\tensorflow\\python\\ops\\gen_array_ops.py\", line 6897, in placeholder\n      _, placeholder_g, _op, _outputs = _op_def_library._apply_op_helper(\n    File \"C:\\Users\\zhhua\\OneDrive\\Desktop\\PythonProgram\\CAT\\Mask_R_CNN\\Mask_RCNN\\tensorflow\\python\\framework\\op_def_library.py\", line 805, in _apply_op_helper\n      op = g._create_op_internal(op_type_name, inputs, dtypes=None,\n    File \"C:\\Users\\zhhua\\OneDrive\\Desktop\\PythonProgram\\CAT\\Mask_R_CNN\\Mask_RCNN\\tensorflow\\python\\framework\\func_graph.py\", line 745, in _create_op_internal\n      return super(FuncGraph, self)._create_op_internal(  # pylint: disable=protected-access\n    File \"C:\\Users\\zhhua\\OneDrive\\Desktop\\PythonProgram\\CAT\\Mask_R_CNN\\Mask_RCNN\\tensorflow\\python\\framework\\ops.py\", line 3821, in _create_op_internal\n      ret = Operation(\n\nThe tensor <tf.Tensor 'Placeholder:0' shape=() dtype=float32> cannot be accessed from here, because it was defined in FuncGraph(name=add_loss_2_scratch_graph, id=1455351153232), which is out of scope."
     ]
    }
   ],
   "source": [
    "# Train the head branches\n",
    "# Passing layers=\"heads\" freezes all layers except the head\n",
    "# layers. You can also pass a regular expression to select\n",
    "# which layers to train by name pattern.\n",
    "model.train(dataset_train, dataset_val, \n",
    "            learning_rate=config.LEARNING_RATE, \n",
    "            epochs=1, \n",
    "            layers='heads')"
   ]
  },
  {
   "cell_type": "code",
   "execution_count": null,
   "id": "7a826c1f",
   "metadata": {},
   "outputs": [],
   "source": [
    "The tensor <tf.Tensor 'Placeholder/Const:0' shape=() dtype=float32> cannot be accessed from here, because it was defined in FuncGraph(name=add_loss_2_scratch_graph, id=2119329310240), which is out of scope.\n",
    "if 'add_loss_2_scratch_graph' in str(g):\n",
    "node_def: name: \"Placeholder\"\n",
    "op: \"Placeholder\"\n",
    "attr {\n",
    "  key: \"dtype\"\n",
    "  value {\n",
    "    type: DT_FLOAT\n",
    "  }\n",
    "}\n",
    "attr {\n",
    "  key: \"shape\"\n",
    "  value {\n",
    "    shape {\n",
    "      dim {\n",
    "        size: -1\n",
    "      }\n",
    "      dim {\n",
    "        size: -1\n",
    "      }\n",
    "      dim {\n",
    "        size: -1\n",
    "      }\n",
    "      dim {\n",
    "        size: 3\n",
    "      }\n",
    "    }\n",
    "  }\n",
    "}\n",
    "\n",
    "\n",
    "self: FuncGraph(name=conv1_scratch_graph, id=1703516560384)\n",
    "\n",
    "inputs: []\n",
    "\n",
    "dtypes: None\n",
    "\n",
    "control_inputs: []\n",
    "\n",
    "self._default_original_op: None\n",
    "\n",
    "op_def: name: \"Placeholder\"\n",
    "output_arg {\n",
    "  name: \"output\"\n",
    "  type_attr: \"dtype\"\n",
    "}\n",
    "attr {\n",
    "  name: \"dtype\"\n",
    "  type: \"type\"\n",
    "}\n",
    "attr {\n",
    "  name: \"shape\"\n",
    "  type: \"shape\"\n",
    "  default_value {\n",
    "    shape {\n",
    "      unknown_rank: true\n",
    "    }\n",
    "  }\n",
    "}"
   ]
  },
  {
   "cell_type": "code",
   "execution_count": null,
   "id": "3932db2f",
   "metadata": {},
   "outputs": [],
   "source": [
    "import tensorflow as tf\n",
    "from tensorflow.keras.layers import Input, Dense\n",
    "from tensorflow.keras.models import Model\n",
    "\n",
    "# Input layer\n",
    "inputs = Input(shape=(10,))\n",
    "\n",
    "# Hidden layer\n",
    "x = Dense(32, activation='relu')(inputs)\n",
    "\n",
    "# Output layer\n",
    "outputs = Dense(1)(x)\n",
    "\n",
    "# Create the model\n",
    "model = Model(inputs=inputs, outputs=outputs)\n",
    "\n",
    "# Custom loss function\n",
    "def custom_loss(y_true, y_pred):\n",
    "    # Compute the custom loss\n",
    "    loss = tf.reduce_mean(tf.square(y_true - y_pred))\n",
    "    return loss\n",
    "\n",
    "# Add the custom loss to the model\n",
    "print(custom_loss(inputs, outputs))\n"
   ]
  },
  {
   "cell_type": "code",
   "execution_count": 10,
   "id": "a705db36",
   "metadata": {},
   "outputs": [
    {
     "data": {
      "text/plain": [
       "<tf.Tensor: shape=(3,), dtype=int32, numpy=array([1, 2, 3])>"
      ]
     },
     "execution_count": 10,
     "metadata": {},
     "output_type": "execute_result"
    }
   ],
   "source": [
    "import tensorflow as tf\n",
    "import numpy as np\n",
    "\n",
    "# Create a tensor from a Python list\n",
    "tensor = tf.convert_to_tensor([1, 2, 3])\n",
    "\n",
    "# Create a tensor from a NumPy array\n",
    "array = np.array([1, 2, 3])\n",
    "tensor = tf.convert_to_tensor(array)\n",
    "tensor"
   ]
  },
  {
   "cell_type": "code",
   "execution_count": 23,
   "id": "fb236d5e",
   "metadata": {},
   "outputs": [],
   "source": [
    "y_true = [None, None, None, None, None, None, None, None, None, None, None, None, None, None]\n",
    "y_pred = [\"<tf.Tensor 'mask_rcnn/rpn_class_logits/concat:0' shape=(None, None, 2) dtype=float32>\", \"<tf.Tensor 'mask_rcnn/rpn_class/concat:0' shape=(None, None, 2) dtype=float32>\", \"<tf.Tensor 'mask_rcnn/rpn_bbox/concat:0' shape=(None, None, 4) dtype=float32>\", \"<KerasTensor: shape=(8, None, 4) dtype=float32 (created by layer 'mrcnn_class_logits')>\", \"<KerasTensor: shape=(8, None, 4) dtype=float32 (created by layer 'mrcnn_class')>\", \"<KerasTensor: shape=(8, None, 4, 4) dtype=float32 (created by layer 'mrcnn_bbox')>\", \"<KerasTensor: shape=(8, None, 28, 28, 4) dtype=float32 (created by layer 'mrcnn_mask')>\", \"<KerasTensor: shape=(8, None, 4) dtype=float32 (created by layer 'ROI')>\", \"<KerasTensor: shape=(8, None, 4) dtype=float32 (created by layer 'output_rois')>\", \"<tf.Tensor 'mask_rcnn/rpn_class_loss/cond/Identity:0' shape=() dtype=float32>\", \"<tf.Tensor 'mask_rcnn/rpn_bbox_loss/cond/Identity:0' shape=() dtype=float32>\", \"<KerasTensor: shape=() dtype=float32 (created by layer 'mrcnn_class_loss')>\", \"<KerasTensor: shape=() dtype=float32 (created by layer 'mrcnn_bbox_loss')>\", \"<KerasTensor: shape=() dtype=float32 (created by layer 'mrcnn_mask_loss')>\"]\n",
    "sample_weight = [None, None, None, None, None, None, None, None, None, None, None, None, None, None]\n",
    "t_losses = [None, None, None, None, None, None, None, None, None, None, None, None, None, None]\n",
    "t_loss_weights = [None, None, None, None, None, None, None, None, None, None, None, None, None, None]\n",
    "t_per_output_metrics = [None, None, None, None, None, None, None, None, None, None, None, None, None, None]\n",
    "zip_args = (\n",
    "            y_true,\n",
    "            y_pred,\n",
    "            sample_weight,\n",
    "            t_losses,\n",
    "            t_loss_weights,\n",
    "            t_per_output_metrics,\n",
    "        )"
   ]
  },
  {
   "cell_type": "code",
   "execution_count": 24,
   "id": "bee774b3",
   "metadata": {},
   "outputs": [
    {
     "name": "stdout",
     "output_type": "stream",
     "text": [
      "(None, \"<tf.Tensor 'mask_rcnn/rpn_class_logits/concat:0' shape=(None, None, 2) dtype=float32>\", None, None, None, None)\n",
      "(None, \"<tf.Tensor 'mask_rcnn/rpn_class/concat:0' shape=(None, None, 2) dtype=float32>\", None, None, None, None)\n",
      "(None, \"<tf.Tensor 'mask_rcnn/rpn_bbox/concat:0' shape=(None, None, 4) dtype=float32>\", None, None, None, None)\n",
      "(None, \"<KerasTensor: shape=(8, None, 4) dtype=float32 (created by layer 'mrcnn_class_logits')>\", None, None, None, None)\n",
      "(None, \"<KerasTensor: shape=(8, None, 4) dtype=float32 (created by layer 'mrcnn_class')>\", None, None, None, None)\n",
      "(None, \"<KerasTensor: shape=(8, None, 4, 4) dtype=float32 (created by layer 'mrcnn_bbox')>\", None, None, None, None)\n",
      "(None, \"<KerasTensor: shape=(8, None, 28, 28, 4) dtype=float32 (created by layer 'mrcnn_mask')>\", None, None, None, None)\n",
      "(None, \"<KerasTensor: shape=(8, None, 4) dtype=float32 (created by layer 'ROI')>\", None, None, None, None)\n",
      "(None, \"<KerasTensor: shape=(8, None, 4) dtype=float32 (created by layer 'output_rois')>\", None, None, None, None)\n",
      "(None, \"<tf.Tensor 'mask_rcnn/rpn_class_loss/cond/Identity:0' shape=() dtype=float32>\", None, None, None, None)\n",
      "(None, \"<tf.Tensor 'mask_rcnn/rpn_bbox_loss/cond/Identity:0' shape=() dtype=float32>\", None, None, None, None)\n",
      "(None, \"<KerasTensor: shape=() dtype=float32 (created by layer 'mrcnn_class_loss')>\", None, None, None, None)\n",
      "(None, \"<KerasTensor: shape=() dtype=float32 (created by layer 'mrcnn_bbox_loss')>\", None, None, None, None)\n",
      "(None, \"<KerasTensor: shape=() dtype=float32 (created by layer 'mrcnn_mask_loss')>\", None, None, None, None)\n"
     ]
    }
   ],
   "source": [
    "for item in zip(*zip_args):\n",
    "    print(item)"
   ]
  },
  {
   "cell_type": "code",
   "execution_count": 21,
   "id": "a5189c24",
   "metadata": {},
   "outputs": [],
   "source": [
    "names = ['Alice', 'Bob', 'Charlie']\n",
    "ages = [25, 32, 47]\n",
    "scores = []\n",
    "\n",
    "# Combine the elements from names, ages, and scores\n",
    "combined = zip(names, ages, scores)\n",
    "\n",
    "# Iterate over the combined iterable and print the tuples\n",
    "for item in combined:\n",
    "    print(item)"
   ]
  },
  {
   "cell_type": "code",
   "execution_count": 22,
   "id": "c61ac85d",
   "metadata": {},
   "outputs": [
    {
     "name": "stdout",
     "output_type": "stream",
     "text": [
      "14\n",
      "14\n",
      "14\n",
      "14\n",
      "14\n"
     ]
    }
   ],
   "source": [
    "print(len(y_pred))\n",
    "print(len(sample_weight))\n",
    "print(len(t_losses))\n",
    "print(len(t_loss_weights))\n",
    "print(len(t_per_output_metrics))"
   ]
  },
  {
   "cell_type": "code",
   "execution_count": 10,
   "id": "7a821673",
   "metadata": {},
   "outputs": [
    {
     "name": "stdout",
     "output_type": "stream",
     "text": [
      "[12 15 18]\n"
     ]
    }
   ],
   "source": [
    "import tensorflow as tf\n",
    "\n",
    "# Define three input tensors\n",
    "tensor1 = tf.constant([1, 2, 3])\n",
    "tensor2 = tf.constant([4, 5, 6])\n",
    "tensor3 = tf.constant([7, 8, 9])\n",
    "\n",
    "# Perform element-wise addition using tf.add_n()\n",
    "result = tf.add_n([tensor1, tensor2, tensor3])\n",
    "\n",
    "# Print the result\n",
    "print(result.numpy())"
   ]
  },
  {
   "cell_type": "code",
   "execution_count": 13,
   "id": "e108ff32",
   "metadata": {},
   "outputs": [],
   "source": [
    "import tensorflow as tf\n",
    "\n",
    "# Create a tensor with placeholder-like behavior initialized with 0\n",
    "placeholder_tensor = tf.Variable(0, dtype=tf.float32, name='Placeholder')"
   ]
  },
  {
   "cell_type": "code",
   "execution_count": 14,
   "id": "15ef9e79",
   "metadata": {},
   "outputs": [
    {
     "data": {
      "text/plain": [
       "<tf.Variable 'Placeholder:0' shape=() dtype=float32, numpy=0.0>"
      ]
     },
     "execution_count": 14,
     "metadata": {},
     "output_type": "execute_result"
    }
   ],
   "source": [
    "placeholder_tensor"
   ]
  },
  {
   "cell_type": "code",
   "execution_count": 3,
   "id": "349328fb",
   "metadata": {},
   "outputs": [
    {
     "name": "stdout",
     "output_type": "stream",
     "text": [
      "Opened files: file1.txt file2.txt file3.txt\n"
     ]
    }
   ],
   "source": [
    "# import builtins\n",
    "\n",
    "# class TrackedOpen:\n",
    "#     def __init__(self):\n",
    "#         self.opened_files = []\n",
    "\n",
    "#     def open(self, *args, **kwargs):\n",
    "#         file_obj = builtins.open(*args, **kwargs)\n",
    "#         self.opened_files.append(file_obj.name)\n",
    "#         return file_obj\n",
    "\n",
    "# # Override the open function with our custom implementation\n",
    "# builtins.open = TrackedOpen().open\n",
    "\n",
    "# Example usage\n",
    "file1 = open('file1.txt', 'w')\n",
    "file2 = open('file2.txt', 'r')\n",
    "file3 = open('file3.txt', 'a')\n",
    "\n",
    "print(\"Opened files:\", file1.name, file2.name, file3.name)"
   ]
  },
  {
   "cell_type": "code",
   "execution_count": 1,
   "id": "112552d3",
   "metadata": {},
   "outputs": [
    {
     "name": "stdout",
     "output_type": "stream",
     "text": [
      "haha\n"
     ]
    }
   ],
   "source": [
    "print('haha')"
   ]
  },
  {
   "cell_type": "code",
   "execution_count": 2,
   "id": "e82036e7",
   "metadata": {},
   "outputs": [
    {
     "name": "stdout",
     "output_type": "stream",
     "text": [
      "5\n",
      "10\n"
     ]
    }
   ],
   "source": [
    "import builtins\n",
    "\n",
    "# Custom implementation of the built-in `len()` function\n",
    "def custom_len(obj):\n",
    "    if hasattr(obj, '__custom_len__'):\n",
    "        return obj.__custom_len__()\n",
    "    elif hasattr(obj, '__len__'):\n",
    "        return obj.__len__()\n",
    "    else:\n",
    "        raise TypeError(\"Object does not support length\")\n",
    "\n",
    "# Override the `len()` function with our custom implementation\n",
    "builtins.len = custom_len\n",
    "\n",
    "# Example usage\n",
    "my_list = [1, 2, 3, 4, 5]\n",
    "print(len(my_list))  # Output: 5\n",
    "\n",
    "# Custom class with `__custom_len__` method\n",
    "class CustomClass:\n",
    "    def __custom_len__(self):\n",
    "        return 10\n",
    "\n",
    "my_custom_obj = CustomClass()\n",
    "print(len(my_custom_obj))  # Output: 10"
   ]
  },
  {
   "cell_type": "code",
   "execution_count": 4,
   "id": "3f6de83c",
   "metadata": {},
   "outputs": [
    {
     "name": "stdout",
     "output_type": "stream",
     "text": [
      "Hello, world!\n"
     ]
    }
   ],
   "source": [
    "import sys\n",
    "\n",
    "# Writing to the standard output using sys.stdout\n",
    "sys.stdout.write(\"Hello, world!\\n\")\n",
    "\n",
    "# Redirecting sys.stdout to a file\n",
    "with open(\"output.txt\", \"w\") as f:\n",
    "    sys.stdout = f\n",
    "    print(\"This will be written to output.txt\")\n",
    "\n",
    "# Restoring sys.stdout to the original value\n",
    "sys.stdout = sys.__stdout__\n",
    "print(\"This will be printed to the console again\")"
   ]
  },
  {
   "cell_type": "code",
   "execution_count": 4,
   "id": "e32d74f5",
   "metadata": {},
   "outputs": [
    {
     "name": "stdout",
     "output_type": "stream",
     "text": [
      "Hello, TensorFlow!\n"
     ]
    }
   ],
   "source": [
    "import sys\n",
    "\n",
    "print(\"Hello, TensorFlow!\")\n",
    "sys.stdout.flush()"
   ]
  },
  {
   "cell_type": "code",
   "execution_count": 3,
   "id": "be751b9b",
   "metadata": {},
   "outputs": [
    {
     "name": "stdout",
     "output_type": "stream",
     "text": [
      "haha\n"
     ]
    }
   ],
   "source": [
    "print(\"haha\")"
   ]
  },
  {
   "cell_type": "code",
   "execution_count": null,
   "id": "2b8f3081",
   "metadata": {},
   "outputs": [],
   "source": []
  }
 ],
 "metadata": {
  "kernelspec": {
   "display_name": "Python 3 (ipykernel)",
   "language": "python",
   "name": "python3"
  },
  "language_info": {
   "codemirror_mode": {
    "name": "ipython",
    "version": 3
   },
   "file_extension": ".py",
   "mimetype": "text/x-python",
   "name": "python",
   "nbconvert_exporter": "python",
   "pygments_lexer": "ipython3",
   "version": "3.10.7"
  }
 },
 "nbformat": 4,
 "nbformat_minor": 5
}
